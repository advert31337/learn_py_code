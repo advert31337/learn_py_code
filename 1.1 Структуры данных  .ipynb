{
 "cells": [
  {
   "cell_type": "markdown",
   "metadata": {},
   "source": [
    "Списки"
   ]
  },
  {
   "cell_type": "markdown",
   "metadata": {},
   "source": [
    "создаем список"
   ]
  },
  {
   "cell_type": "code",
   "execution_count": 7,
   "metadata": {},
   "outputs": [
    {
     "name": "stdout",
     "output_type": "stream",
     "text": [
      "[1, 3, 5, 6]\n",
      "[1, False, 'string', 3, 3.3]\n",
      "[]\n",
      "[0, 1, 2, 3, 4]\n"
     ]
    }
   ],
   "source": [
    "list1 = [1,3,5,6]\n",
    "print(list1)\n",
    "\n",
    "list2 = [1, False, 'string', 3, 3.3]\n",
    "print(list2)\n",
    "\n",
    "empty_list = []\n",
    "print(empty_list)\n",
    "\n",
    "gen_list = [x for x in range(5)]\n",
    "print(gen_list)"
   ]
  },
  {
   "cell_type": "markdown",
   "metadata": {},
   "source": [
    "Обращаемся к списку"
   ]
  },
  {
   "cell_type": "markdown",
   "metadata": {},
   "source": [
    "при обращении по индексу отсчет элементов списка идет с 0"
   ]
  },
  {
   "cell_type": "code",
   "execution_count": 46,
   "metadata": {},
   "outputs": [
    {
     "name": "stdout",
     "output_type": "stream",
     "text": [
      "7\n",
      "[False, 'string']\n",
      "[3, ['name', 'age', 39], 3.3, 3, 'string', False, 1]\n",
      "3\n",
      "2\n"
     ]
    }
   ],
   "source": [
    "list2 = [1, False, 'string', 3, 3.3, ['name', 'age', 39], 3]\n",
    "\n",
    "print(list1[2])\n",
    "\n",
    "# срезы\n",
    "print(list2[1:3])\n",
    "print(list2[::-1])\n",
    "\n",
    "# найти индекс элемента\n",
    "print(list2.index(3))\n",
    "print(list2.count(3))"
   ]
  },
  {
   "cell_type": "markdown",
   "metadata": {},
   "source": [
    "Операции над списком"
   ]
  },
  {
   "cell_type": "code",
   "execution_count": 32,
   "metadata": {},
   "outputs": [
    {
     "name": "stdout",
     "output_type": "stream",
     "text": [
      "[1, False, 'string', 3, 3.3, ['name', 'age', 39]]\n",
      "False\n",
      "[1, 'string', 3, 3.3, ['name', 'age', 39]]\n",
      "[1, 'string', 3, ['name', 'age', 39]]\n",
      "[]\n"
     ]
    }
   ],
   "source": [
    "# удаление элементов\n",
    "list2 = [1, False, 'string', 3, 3.3, ['name', 'age', 39]]\n",
    "print(list2)\n",
    "\n",
    "a = list2.pop(1)\n",
    "print(a)\n",
    "print(list2)\n",
    "\n",
    "list2.remove(3.3)\n",
    "print(list2)\n",
    "\n",
    "list2.clear()\n",
    "print(list2)"
   ]
  },
  {
   "cell_type": "code",
   "execution_count": 60,
   "metadata": {},
   "outputs": [
    {
     "name": "stdout",
     "output_type": "stream",
     "text": [
      "[1, False, 'string', 3, 3.3, ['name', 'age', 39]]\n",
      "--------------------------------------------------\n",
      "[1, False, 'string', 3, 3.3, ['name', 'age', 39], 'new_element']\n",
      "[1, False, 'string', 3, 3.3, ['name', 'age', 39], 'new_element', ['new_list', 1, [0, 3, 3]]]\n",
      "[1, False, 'string', 3, 3.3, ['name', 'age', 39], 'new_element', ['new_list', 1, [0, 3, 3]], 'new_list', 1, [0, 3, 3]]\n",
      "[1, False, 'inserted element', 'string', 3, 3.3, ['name', 'age', 39], 'new_element', ['new_list', 1, [0, 3, 3]], 'new_list', 1, [0, 3, 3]]\n",
      "12\n"
     ]
    }
   ],
   "source": [
    "# Добавляем элементы в список\n",
    "list2 = [1, False, 'string', 3, 3.3, ['name', 'age', 39]]\n",
    "print(list2)\n",
    "print('-'*50)\n",
    "\n",
    "list2.append('new_element')\n",
    "print(list2)\n",
    "\n",
    "list2.append(['new_list', 1, [0, 3, 3]])\n",
    "print(list2)\n",
    "\n",
    "list2.extend(['new_list', 1, [0, 3, 3]])\n",
    "print(list2)\n",
    "\n",
    "list2.insert(2, 'inserted element')\n",
    "print(list2)\n",
    "\n",
    "# количество элементов в списке\n",
    "print(len(list2))"
   ]
  },
  {
   "cell_type": "code",
   "execution_count": 16,
   "metadata": {},
   "outputs": [
    {
     "name": "stdout",
     "output_type": "stream",
     "text": [
      "[10, 1, 7, 3, 9, 4, 5, 2, 8, 6]\n",
      "[1, 2, 3, 4, 5, 6, 7, 8, 9, 10]\n",
      "[10, 1, 7, 3, 9, 4, 5, 2, 8, 6]\n",
      "[1, 2, 3, 4, 5, 6, 7, 8, 9, 10]\n",
      "[10, 9, 8, 7, 6, 5, 4, 3, 2, 1]\n",
      "[10, 9, 8, 7, 6, 5, 4, 3, 2, 1]\n"
     ]
    }
   ],
   "source": [
    "# сортируем список\n",
    "list1 = [10, 1, 7, 3, 9, 4, 5, 2, 8, 6]\n",
    "print(list1)\n",
    "\n",
    "# в данном случае сам списко не менятеся.\n",
    "print(sorted(list1))\n",
    "print(list1)\n",
    "\n",
    "#  метод sort() изменит список\n",
    "list1.sort()\n",
    "print(list1)\n",
    "\n",
    "list1.reverse()\n",
    "print(list1)\n",
    "\n",
    "list1.sort(reverse=True)\n",
    "print(list1)"
   ]
  },
  {
   "cell_type": "markdown",
   "metadata": {},
   "source": [
    "Частые ошибки при работе со списками"
   ]
  },
  {
   "cell_type": "code",
   "execution_count": 37,
   "metadata": {},
   "outputs": [
    {
     "data": {
      "text/plain": [
       "1"
      ]
     },
     "execution_count": 37,
     "metadata": {},
     "output_type": "execute_result"
    }
   ],
   "source": [
    "list1 = [2,5,7,1,0,234,43,787987978,32]\n",
    "print(list1[23])"
   ]
  },
  {
   "cell_type": "markdown",
   "metadata": {},
   "source": [
    "Матрицы или список списков"
   ]
  },
  {
   "cell_type": "code",
   "execution_count": 24,
   "metadata": {},
   "outputs": [
    {
     "name": "stdout",
     "output_type": "stream",
     "text": [
      "[[1, 2, 3], [41, 5, 16], [15, 98, 111]]\n",
      "[41, 5, 16]\n",
      "3\n"
     ]
    }
   ],
   "source": [
    "matrix = [[1,2,3],[41,5,16],[15,98,111]]\n",
    "print(matrix)\n",
    "# обратимся ко второму элементу матрицы\n",
    "print(matrix[1])\n",
    "# обратимся к третьему элементу первого элемента матрицы\n",
    "print(matrix[0][2])"
   ]
  },
  {
   "cell_type": "code",
   "execution_count": 35,
   "metadata": {},
   "outputs": [
    {
     "name": "stdout",
     "output_type": "stream",
     "text": [
      "[2, 5, 3]\n",
      "--------------------------------------------------\n",
      "[2, 5, 3]\n",
      "[2, 1234, 3]\n",
      "[2, 1234, 3]\n"
     ]
    }
   ],
   "source": [
    "# особенности копирование списков\n",
    "a = [2, 5, 3]\n",
    "print(a)\n",
    "print('--'*25)\n",
    "\n",
    "b = a\n",
    "print(b)\n",
    "\n",
    "a[1] = 1234\n",
    "print(a)\n",
    "print(b)"
   ]
  },
  {
   "cell_type": "code",
   "execution_count": 40,
   "metadata": {},
   "outputs": [
    {
     "name": "stdout",
     "output_type": "stream",
     "text": [
      "[2, 5, 3]\n",
      "--------------------------------------------------\n",
      "[2, 1234, 3]\n",
      "[2, 5, 3]\n"
     ]
    }
   ],
   "source": [
    "a = [2, 5, 3]\n",
    "print(a)\n",
    "print('--'*25)\n",
    "\n",
    "b = a[:]\n",
    "# b = a.copy()\n",
    "a[1] = 1234\n",
    "print(a)\n",
    "print(b)"
   ]
  },
  {
   "cell_type": "markdown",
   "metadata": {},
   "source": [
    "Функция range(начало, конец, шаг)\n",
    "Начальная граница входит в список, последняя нет."
   ]
  },
  {
   "cell_type": "code",
   "execution_count": 29,
   "metadata": {},
   "outputs": [
    {
     "name": "stdout",
     "output_type": "stream",
     "text": [
      "[0, 1, 2, 3, 4, 5, 6, 7, 8, 9]\n",
      "[2, 4, 6, 8, 10, 12, 14, 16, 18, 20, 22]\n",
      "[100, 90, 80, 70, 60, 50, 40, 30, 20, 10]\n",
      "[-5, -4, -3, -2, -1, 0, 1, 2, 3, 4, 5]\n"
     ]
    }
   ],
   "source": [
    "print(list(range(10)))\n",
    "print(list(range(2, 24, 2)))\n",
    "print(list(range(100, 0, -10)))\n",
    "print(list(range(-5, 6)))"
   ]
  },
  {
   "cell_type": "code",
   "execution_count": 63,
   "metadata": {},
   "outputs": [
    {
     "data": {
      "text/plain": [
       "['__add__',\n",
       " '__class__',\n",
       " '__contains__',\n",
       " '__delattr__',\n",
       " '__delitem__',\n",
       " '__dir__',\n",
       " '__doc__',\n",
       " '__eq__',\n",
       " '__format__',\n",
       " '__ge__',\n",
       " '__getattribute__',\n",
       " '__getitem__',\n",
       " '__gt__',\n",
       " '__hash__',\n",
       " '__iadd__',\n",
       " '__imul__',\n",
       " '__init__',\n",
       " '__init_subclass__',\n",
       " '__iter__',\n",
       " '__le__',\n",
       " '__len__',\n",
       " '__lt__',\n",
       " '__mul__',\n",
       " '__ne__',\n",
       " '__new__',\n",
       " '__reduce__',\n",
       " '__reduce_ex__',\n",
       " '__repr__',\n",
       " '__reversed__',\n",
       " '__rmul__',\n",
       " '__setattr__',\n",
       " '__setitem__',\n",
       " '__sizeof__',\n",
       " '__str__',\n",
       " '__subclasshook__',\n",
       " 'append',\n",
       " 'clear',\n",
       " 'copy',\n",
       " 'count',\n",
       " 'extend',\n",
       " 'index',\n",
       " 'insert',\n",
       " 'pop',\n",
       " 'remove',\n",
       " 'reverse',\n",
       " 'sort']"
      ]
     },
     "execution_count": 63,
     "metadata": {},
     "output_type": "execute_result"
    }
   ],
   "source": [
    "dir([])"
   ]
  },
  {
   "cell_type": "code",
   "execution_count": 31,
   "metadata": {},
   "outputs": [
    {
     "data": {
      "text/plain": [
       "['append',\n",
       " 'clear',\n",
       " 'copy',\n",
       " 'count',\n",
       " 'extend',\n",
       " 'index',\n",
       " 'insert',\n",
       " 'pop',\n",
       " 'remove',\n",
       " 'reverse',\n",
       " 'sort']"
      ]
     },
     "execution_count": 31,
     "metadata": {},
     "output_type": "execute_result"
    }
   ],
   "source": [
    "# смотрим все методы списков\n",
    "[x for x in dir([]) if '__' not in x]"
   ]
  },
  {
   "cell_type": "markdown",
   "metadata": {},
   "source": [
    "### Кортежи"
   ]
  },
  {
   "cell_type": "markdown",
   "metadata": {},
   "source": [
    "Упорядоченный не изменяемый тип данных. Аналог списков."
   ]
  },
  {
   "cell_type": "code",
   "execution_count": 42,
   "metadata": {},
   "outputs": [
    {
     "data": {
      "text/plain": [
       "(1, 3, 4, 5)"
      ]
     },
     "execution_count": 42,
     "metadata": {},
     "output_type": "execute_result"
    }
   ],
   "source": [
    "a = (1,3,4,5)\n",
    "print(a)"
   ]
  },
  {
   "cell_type": "code",
   "execution_count": 47,
   "metadata": {},
   "outputs": [
    {
     "name": "stdout",
     "output_type": "stream",
     "text": [
      "Мирошников Виктор\n",
      "Программист\n",
      "1\n"
     ]
    }
   ],
   "source": [
    "# распаковка кортежа\n",
    "tuple1 = ('Мирошников Виктор', 'Программист', 1)\n",
    "name, profession, expirience = tuple1\n",
    "\n",
    "print(name)\n",
    "print(profession)\n",
    "print(expirience)"
   ]
  },
  {
   "cell_type": "code",
   "execution_count": 44,
   "metadata": {},
   "outputs": [
    {
     "data": {
      "text/plain": [
       "['count', 'index']"
      ]
     },
     "execution_count": 44,
     "metadata": {},
     "output_type": "execute_result"
    }
   ],
   "source": [
    "# смотрим все методы кортежа\n",
    "[x for x in dir(()) if '__' not in x]"
   ]
  },
  {
   "cell_type": "markdown",
   "metadata": {},
   "source": [
    "Множества"
   ]
  },
  {
   "cell_type": "markdown",
   "metadata": {},
   "source": [
    "Коллекция уникальных объектов."
   ]
  },
  {
   "cell_type": "code",
   "execution_count": 53,
   "metadata": {},
   "outputs": [
    {
     "name": "stdout",
     "output_type": "stream",
     "text": [
      "{1, 3, 4, 5}\n",
      "{1, 3, 4, 5, 'er'}\n"
     ]
    }
   ],
   "source": [
    "# создаем множества\n",
    "a = {1,3,4,5,}\n",
    "b = set([1,3,4,5, 'er'])\n",
    "\n",
    "print(a)\n",
    "print(b)"
   ]
  },
  {
   "cell_type": "markdown",
   "metadata": {},
   "source": [
    "Полезные опреации над множеством"
   ]
  },
  {
   "cell_type": "code",
   "execution_count": 55,
   "metadata": {},
   "outputs": [
    {
     "name": "stdout",
     "output_type": "stream",
     "text": [
      "{1, 2, 3, 444}\n"
     ]
    }
   ],
   "source": [
    "# удаление дублей из списка\n",
    "lst = [1, 2, 3, 444, 2, 2, 1, 1, 1, 3, 3]\n",
    "print(set(lst))"
   ]
  },
  {
   "cell_type": "markdown",
   "metadata": {},
   "source": [
    "<img src='https://pbs.twimg.com/media/C2hmblxWQAEM-bR.jpg:large'>"
   ]
  },
  {
   "cell_type": "code",
   "execution_count": 57,
   "metadata": {},
   "outputs": [
    {
     "name": "stdout",
     "output_type": "stream",
     "text": [
      "{4, 5}\n",
      "{1, 2, 3, 4, 5, 6, 7, 8}\n",
      "{1, 2, 3, 6, 7, 8}\n",
      "{1, 2, 3}\n",
      "{8, 6, 7}\n"
     ]
    }
   ],
   "source": [
    "a = {1, 2, 3, 4, 5}\n",
    "b = {4, 5, 6, 7, 8}\n",
    "print(a & b) # пересечение\n",
    "print(a | b) # Объединение\n",
    "print(a ^ b) # Симметричная разница\n",
    "print(a - b) # Вычитаем общие элементы из a\n",
    "print(b - a) # Вычитаем общие элементы из b"
   ]
  },
  {
   "cell_type": "markdown",
   "metadata": {},
   "source": [
    "Практический пример использования множеств"
   ]
  },
  {
   "cell_type": "code",
   "execution_count": 62,
   "metadata": {},
   "outputs": [
    {
     "name": "stdout",
     "output_type": "stream",
     "text": [
      "{'новостройки', 'в', 'москве', 'купить', 'недорого', 'кваритиру'}\n",
      "{'в', 'москве', 'купить', 'центр', 'ремонтом', 'с', 'кваритиру', 'вторичка'}\n",
      "{'кваритиру', 'в', 'москве', 'купить'}\n",
      "{'новостройки', 'в', 'москве', 'купить', 'центр', 'ремонтом', 'с', 'недорого', 'кваритиру', 'вторичка'}\n",
      "6\n",
      "8\n",
      "0.75\n"
     ]
    }
   ],
   "source": [
    "kw1 = 'купить кваритиру в москве новостройки недорого'\n",
    "kw2 = 'купить кваритиру в москве центр с ремонтом вторичка'\n",
    "\n",
    "st1 = set(kw1.split())\n",
    "st2 = set(kw2.split())\n",
    "print(st1)\n",
    "print(st2)\n",
    "\n",
    "# найдем общие элемнты\n",
    "common = st1 & st2\n",
    "print(common)\n",
    "\n",
    "# уникальные слова в обоих списках\n",
    "union = st1 | st2\n",
    "print(union)\n",
    "\n",
    "# количество слов в кажном списке\n",
    "print(len(st1))\n",
    "print(len(st2))\n",
    "\n",
    "# коэфициент сходства этих фрах\n",
    "print(len(st1)/len(st2))"
   ]
  },
  {
   "cell_type": "code",
   "execution_count": 54,
   "metadata": {},
   "outputs": [
    {
     "data": {
      "text/plain": [
       "['add',\n",
       " 'clear',\n",
       " 'copy',\n",
       " 'difference',\n",
       " 'difference_update',\n",
       " 'discard',\n",
       " 'intersection',\n",
       " 'intersection_update',\n",
       " 'isdisjoint',\n",
       " 'issubset',\n",
       " 'issuperset',\n",
       " 'pop',\n",
       " 'remove',\n",
       " 'symmetric_difference',\n",
       " 'symmetric_difference_update',\n",
       " 'union',\n",
       " 'update']"
      ]
     },
     "execution_count": 54,
     "metadata": {},
     "output_type": "execute_result"
    }
   ],
   "source": [
    "# смотрим все методы множеств\n",
    "[x for x in dir(set()) if '__' not in x]"
   ]
  }
 ],
 "metadata": {
  "kernelspec": {
   "display_name": "Python 3",
   "language": "python",
   "name": "python3"
  },
  "language_info": {
   "codemirror_mode": {
    "name": "ipython",
    "version": 3
   },
   "file_extension": ".py",
   "mimetype": "text/x-python",
   "name": "python",
   "nbconvert_exporter": "python",
   "pygments_lexer": "ipython3",
   "version": "3.6.8"
  }
 },
 "nbformat": 4,
 "nbformat_minor": 2
}
