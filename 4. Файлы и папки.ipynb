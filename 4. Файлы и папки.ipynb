{
 "cells": [
  {
   "cell_type": "markdown",
   "metadata": {},
   "source": [
    "## Файлы и папки"
   ]
  },
  {
   "cell_type": "markdown",
   "metadata": {},
   "source": [
    "#### Файлы"
   ]
  },
  {
   "cell_type": "code",
   "execution_count": 1,
   "metadata": {},
   "outputs": [
    {
     "name": "stdout",
     "output_type": "stream",
     "text": [
      "C:\\Users\\obois\\YandexDisk\\work\\Kodla\\My_lessons\n"
     ]
    }
   ],
   "source": [
    "import os\n",
    "\n",
    "# смотрим текущую директорию\n",
    "print(os.getcwd())"
   ]
  },
  {
   "cell_type": "markdown",
   "metadata": {},
   "source": [
    "Работа  с файлом начинается с его открытия или создания, обе эти операции выполняются методом **open()**, если файл существует в рабочей директории, то он открывается, если нет то создается новый пустой файл (только в режиме открытия на запись)! "
   ]
  },
  {
   "cell_type": "markdown",
   "metadata": {},
   "source": [
    "Теперь создадим откроем/создадим методом open(), обратите внимание на то что помимо названия файла также есть 2-й атрибут, который указывает в каком режиме открывается файл - на чтение или запись.  \n",
    "\n",
    "- **'r'** открытие режиме чтения (используется по умолчанию).\n",
    "- **'w'** открытие на запись (если файла не существует, то создается новый)\n",
    "- **'x'** открытие на запись (если файла не существует, ошибка игнорируется)\n",
    "- **'a'** открытие на дозапись (данные добавляются в конец файла)\n",
    "- **'b'** открытие в двоичном режиме\n",
    "- **'t'** открытие в текстовом режиме\n",
    "- **'+'** открытие на чтение и запись"
   ]
  },
  {
   "cell_type": "code",
   "execution_count": 5,
   "metadata": {},
   "outputs": [
    {
     "name": "stdout",
     "output_type": "stream",
     "text": [
      "строка 1\n",
      "строка 2\n",
      "строка 3\n",
      "\n"
     ]
    },
    {
     "data": {
      "text/plain": [
       "<function TextIOWrapper.close()>"
      ]
     },
     "execution_count": 5,
     "metadata": {},
     "output_type": "execute_result"
    }
   ],
   "source": [
    "# создадим новый файл\n",
    "f = open('text.txt', 'w')\n",
    "\n",
    "# запишем данные\n",
    "f.write('строка 1\\n')\n",
    "f.write('строка 2\\n')\n",
    "f.write('строка 3\\n')\n",
    "# закроем файл\n",
    "f.close\n",
    "\n",
    "# Прочитаем файл\n",
    "f = open('text.txt', 'r')\n",
    "data = f.read()\n",
    "print(data)\n",
    "f.close"
   ]
  },
  {
   "cell_type": "markdown",
   "metadata": {},
   "source": [
    "Упрощенная конструкция для работы с файлами"
   ]
  },
  {
   "cell_type": "code",
   "execution_count": 9,
   "metadata": {},
   "outputs": [
    {
     "name": "stdout",
     "output_type": "stream",
     "text": [
      "строка 1\n",
      "строка 2\n",
      "строка 3\n",
      "строка 4\n",
      "строка 5\n",
      "\n"
     ]
    }
   ],
   "source": [
    "# откроем файл и запишем новые данные в конец файла\n",
    "with open('text.txt', 'a') as f:\n",
    "    f.write('строка 4\\n')\n",
    "    f.write('строка 5\\n')\n",
    "\n",
    "# проверим данные в файле\n",
    "with open('text.txt', 'r') as f:\n",
    "    data = f.read()\n",
    "    print(data)"
   ]
  },
  {
   "cell_type": "code",
   "execution_count": 29,
   "metadata": {},
   "outputs": [
    {
     "data": {
      "text/plain": [
       "<function TextIOWrapper.close()>"
      ]
     },
     "execution_count": 29,
     "metadata": {},
     "output_type": "execute_result"
    }
   ],
   "source": [
    "# на вход общий список ключей\n",
    "input_file = 'for_ppc/all_kw.txt'\n",
    "output_file = 'for_ppc/ecom_kw.txt'\n",
    "\n",
    "# список шаблонов для определения коммерческой направленности фразы\n",
    "ecom_patterns = ['купит', 'заказ', 'магазин', 'цены', 'цена', 'стоит', 'стоимость']\n",
    "\n",
    "# читаем файл  с ключами\n",
    "f_input = open(input_file, 'r', encoding='utf-8')\n",
    "# создаем файл для записи\n",
    "f_output = open(output_file, 'w', encoding='utf-8')\n",
    "#  сначала перебираем шоблоны\n",
    "for pattern in ecom_patterns:\n",
    "#     затем перебираем фарзы из открытого файла\n",
    "    for phrase in f_input:\n",
    "        # Проверяем вхожление шаблона в состав фразы\n",
    "        if pattern in phrase:\n",
    "            # если ответ положительный, то записываем фразу в новый файл\n",
    "            f_output.write(phrase)\n",
    "        \n",
    "f_input.close\n",
    "f_output.close"
   ]
  },
  {
   "cell_type": "markdown",
   "metadata": {},
   "source": [
    "П. С. Если вы специалист по контексту, попробуйте перделать скрипт под фильтрацию стоп-слов!"
   ]
  },
  {
   "cell_type": "code",
   "execution_count": 18,
   "metadata": {},
   "outputs": [
    {
     "data": {
      "text/plain": [
       "['buffer',\n",
       " 'close',\n",
       " 'closed',\n",
       " 'detach',\n",
       " 'encoding',\n",
       " 'errors',\n",
       " 'fileno',\n",
       " 'flush',\n",
       " 'isatty',\n",
       " 'line_buffering',\n",
       " 'mode',\n",
       " 'name',\n",
       " 'newlines',\n",
       " 'read',\n",
       " 'readable',\n",
       " 'readline',\n",
       " 'readlines',\n",
       " 'seek',\n",
       " 'seekable',\n",
       " 'tell',\n",
       " 'truncate',\n",
       " 'writable',\n",
       " 'write',\n",
       " 'writelines']"
      ]
     },
     "execution_count": 18,
     "metadata": {},
     "output_type": "execute_result"
    }
   ],
   "source": [
    "[x for x in dir(f) if not x.startswith('_')]"
   ]
  },
  {
   "cell_type": "markdown",
   "metadata": {},
   "source": [
    "#### Папки и пути к файлам"
   ]
  },
  {
   "cell_type": "code",
   "execution_count": 26,
   "metadata": {},
   "outputs": [
    {
     "name": "stdout",
     "output_type": "stream",
     "text": [
      "C:\\Users\\obois\\YandexDisk\\work\\Kodla\\My_lessons\n",
      "------------------------------------------------------------------------------------------------------------------------\n",
      "['$GetCurrent', '$Recycle.Bin', '$WINDOWS.~BT', '$WINRE_BACKUP_PARTITION.MARKER', 'AdwCleaner', 'AMD', 'Anaconda', 'AVG_Remover', 'Boot', 'bootmgr', 'BOOTNXT', 'Config.Msi', 'Documents and Settings', 'elasticsearch', 'ESD', 'FFOutput', 'hiberfil.sys', 'Intel', 'Logs', 'pagefile.sys', 'PerfLogs', 'prog', 'Program Files', 'Program Files (x86)', 'ProgramData', 'Python36', 'R', 'RBuildTools', 'Recovery', 'SQLServer2017Media', 'swapfile.sys', 'System Volume Information', 'tessdata', 'totalcmd', 'Users', 'Windows', 'Windows10Upgrade', 'work', 'xampp', 'ZL.tmp', 'ZLInstallerLog.log']\n",
      "------------------------------------------------------------------------------------------------------------------------\n",
      "['.git', '.gitignore', '.ipynb_checkpoints', '1. Типы данных, управляющие конструкции.ipynb', '2. Структуры данных  .ipynb', '3. Управляющие конструкции.ipynb', '4. Файлы и папки.ipynb', 'files', 'images', 'text.txt', 'Встроенные модули python.ipynb', 'Словари в python 3.x.ipynb']\n"
     ]
    }
   ],
   "source": [
    "import os\n",
    "\n",
    "# текущая директория\n",
    "a = os.getcwd()\n",
    "# содержимое указанной папки\n",
    "disc_c = os.listdir('c:/')\n",
    "# По умолчанию возвращается содержимое текущей директории\n",
    "cur_dir = os.listdir()\n",
    "\n",
    "print(a)\n",
    "print('----'*30)\n",
    "print(disc_c)\n",
    "print('----'*30)\n",
    "print(cur_dir)"
   ]
  },
  {
   "cell_type": "code",
   "execution_count": 40,
   "metadata": {},
   "outputs": [
    {
     "name": "stdout",
     "output_type": "stream",
     "text": [
      "('C:\\\\Users\\\\obois\\\\YandexDisk\\\\work\\\\Kodla\\\\My_lessons', ['.git', '.ipynb_checkpoints', 'files', 'for_ppc', 'images'], ['.gitignore', '1. Типы данных, управляющие конструкции.ipynb', '2. Структуры данных  .ipynb', '3. Управляющие конструкции.ipynb', '4. Файлы и папки.ipynb', 'text.txt', 'Встроенные модули python.ipynb', 'Словари в python 3.x.ipynb'])\n"
     ]
    }
   ],
   "source": [
    "import os\n",
    "\n",
    "# собираем все файли и папки в один список через walk()\n",
    "all_files = [(path, dirs, files) for path, dirs, files in os.walk(os.getcwd())]\n",
    "print(all_files[0])"
   ]
  },
  {
   "cell_type": "markdown",
   "metadata": {},
   "source": [
    "Создаем структуру директорий под проект"
   ]
  },
  {
   "cell_type": "code",
   "execution_count": 47,
   "metadata": {},
   "outputs": [],
   "source": [
    "import os\n",
    "\n",
    "path = os.getcwd()\n",
    "folders = [\n",
    "    ['input', []], \n",
    "    ['output', []], \n",
    "    ['temp', []], \n",
    "    ['media', [\n",
    "        ['images', []], \n",
    "        ['video', []]]]\n",
    "]\n",
    "\n",
    "def create_folder(path):\n",
    "    if not os.path.exists(path):\n",
    "        os.mkdir(path)\n",
    "        \n",
    "def build(root, data):\n",
    "    if data:\n",
    "        for d in data:\n",
    "            name = d[0]\n",
    "            path = os.path.join(root, name)\n",
    "            create_folder(path)\n",
    "            if len(d[1])>0:\n",
    "                build(path, d[1])\n",
    "            \n",
    "        \n",
    "projectname = input('Введите имя прокта: ')\n",
    "if projectname:\n",
    "    full_path = os.path.join(path, projectname)\n",
    "    create_folder(full_path)\n",
    "    build(full_path, folders)"
   ]
  },
  {
   "cell_type": "markdown",
   "metadata": {},
   "source": [
    "Выберем случайный файл для постинга"
   ]
  },
  {
   "cell_type": "code",
   "execution_count": 52,
   "metadata": {},
   "outputs": [
    {
     "name": "stdout",
     "output_type": "stream",
     "text": [
      "['Sexy_girl_legs (1).jpg', 'Sexy_girl_legs (10).jpg', 'Sexy_girl_legs (11).jpg', 'Sexy_girl_legs (12).jpg', 'Sexy_girl_legs (13).jpg', 'Sexy_girl_legs (14).jpg', 'Sexy_girl_legs (2).jpg', 'Sexy_girl_legs (3).jpg', 'Sexy_girl_legs (4).jpg', 'Sexy_girl_legs (5).jpg', 'Sexy_girl_legs (6).jpg', 'Sexy_girl_legs (7).jpg', 'Sexy_girl_legs (8).jpg', 'Sexy_girl_legs (9).jpg']\n",
      "['Sexy_girl_legs (1).jpg', 'Sexy_girl_legs (10).jpg', 'Sexy_girl_legs (11).jpg', 'Sexy_girl_legs (12).jpg', 'Sexy_girl_legs (13).jpg', 'Sexy_girl_legs (14).jpg', 'Sexy_girl_legs (2).jpg', 'Sexy_girl_legs (3).jpg', 'Sexy_girl_legs (4).jpg', 'Sexy_girl_legs (5).jpg', 'Sexy_girl_legs (6).jpg', 'Sexy_girl_legs (7).jpg', 'Sexy_girl_legs (8).jpg']\n",
      "Sexy_girl_legs (9).jpg\n"
     ]
    }
   ],
   "source": [
    "import os\n",
    "\n",
    "\n",
    "fotos = os.listdir('images')\n",
    "print(fotos)\n",
    "p = fotos.pop()\n",
    "print(fotos)\n",
    "print(p)"
   ]
  },
  {
   "cell_type": "code",
   "execution_count": 53,
   "metadata": {},
   "outputs": [
    {
     "data": {
      "text/plain": [
       "environ{'ALLUSERSPROFILE': 'C:\\\\ProgramData',\n",
       "        'APPDATA': 'C:\\\\Users\\\\obois\\\\AppData\\\\Roaming',\n",
       "        'ASL.LOG': 'Destination=file',\n",
       "        'COMMONPROGRAMFILES': 'C:\\\\Program Files\\\\Common Files',\n",
       "        'COMMONPROGRAMFILES(X86)': 'C:\\\\Program Files (x86)\\\\Common Files',\n",
       "        'COMMONPROGRAMW6432': 'C:\\\\Program Files\\\\Common Files',\n",
       "        'COMPUTERNAME': 'OS_MARKETING1',\n",
       "        'COMSPEC': 'C:\\\\WINDOWS\\\\system32\\\\cmd.exe',\n",
       "        'CONFIGSETROOT': 'C:\\\\WINDOWS\\\\ConfigSetRoot',\n",
       "        'DRIVERDATA': 'C:\\\\Windows\\\\System32\\\\Drivers\\\\DriverData',\n",
       "        'FPS_BROWSER_APP_PROFILE_STRING': 'Internet Explorer',\n",
       "        'FPS_BROWSER_USER_PROFILE_STRING': 'Default',\n",
       "        'FP_NO_HOST_CHECK': 'NO',\n",
       "        'HOMEDRIVE': 'C:',\n",
       "        'HOMEPATH': '\\\\Users\\\\obois',\n",
       "        'LOCALAPPDATA': 'C:\\\\Users\\\\obois\\\\AppData\\\\Local',\n",
       "        'LOGONSERVER': '\\\\\\\\OS_MARKETING1',\n",
       "        'MSMPI_BIN': 'C:\\\\Program Files\\\\Microsoft MPI\\\\Bin\\\\',\n",
       "        'NUMBER_OF_PROCESSORS': '4',\n",
       "        'ONEDRIVE': 'C:\\\\Users\\\\obois\\\\OneDrive',\n",
       "        'OPENSSL_CONF': 'C:\\\\Program Files\\\\PostgreSQL\\\\psqlODBC\\\\etc\\\\openssl.cnf',\n",
       "        'OS': 'Windows_NT',\n",
       "        'PATH': 'C:\\\\Anaconda\\\\envs\\\\snowflakes;C:\\\\Anaconda\\\\envs\\\\snowflakes\\\\Library\\\\mingw-w64\\\\bin;C:\\\\Anaconda\\\\envs\\\\snowflakes\\\\Library\\\\usr\\\\bin;C:\\\\Anaconda\\\\envs\\\\snowflakes\\\\Library\\\\bin;C:\\\\Anaconda\\\\envs\\\\snowflakes\\\\Scripts;C:\\\\Program Files\\\\Microsoft MPI\\\\Bin\\\\;C:\\\\Anaconda;C:\\\\Anaconda\\\\Library\\\\mingw-w64\\\\bin;C:\\\\Anaconda\\\\Library\\\\usr\\\\bin;C:\\\\Anaconda\\\\Library\\\\bin;C:\\\\Anaconda\\\\Scripts;C:\\\\ProgramData\\\\Oracle\\\\Java\\\\javapath;C:\\\\Program Files (x86)\\\\Lenovo\\\\FusionEngine;C:\\\\Program Files (x86)\\\\Intel\\\\iCLS Client\\\\;C:\\\\Program Files\\\\Intel\\\\iCLS Client\\\\;C:\\\\WINDOWS\\\\system32;C:\\\\WINDOWS;C:\\\\WINDOWS\\\\System32\\\\Wbem;C:\\\\WINDOWS\\\\System32\\\\WindowsPowerShell\\\\v1.0\\\\;C:\\\\Program Files (x86)\\\\ATI Technologies\\\\ATI.ACE\\\\Core-Static;C:\\\\Program Files\\\\Intel\\\\Intel(R) Management Engine Components\\\\DAL;C:\\\\Program Files\\\\Intel\\\\Intel(R) Management Engine Components\\\\IPT;C:\\\\Program Files (x86)\\\\Intel\\\\Intel(R) Management Engine Components\\\\DAL;C:\\\\Program Files (x86)\\\\Intel\\\\Intel(R) Management Engine Components\\\\IPT;C:\\\\Program Files\\\\Lenovo\\\\Bluetooth Software\\\\;C:\\\\Program Files\\\\Lenovo\\\\Bluetooth Software\\\\syswow64;C:\\\\Program Files (x86)\\\\Skype\\\\Phone\\\\;C:\\\\Program Files\\\\OpenVPN\\\\bin;C:\\\\Program Files (x86)\\\\Bitvise SSH Client;C:\\\\Program Files\\\\dotnet\\\\;C:\\\\Program Files\\\\Microsoft SQL Server\\\\Client SDK\\\\ODBC\\\\130\\\\Tools\\\\Binn\\\\;C:\\\\Program Files (x86)\\\\Microsoft SQL Server\\\\140\\\\Tools\\\\Binn\\\\;C:\\\\Program Files\\\\Microsoft SQL Server\\\\140\\\\Tools\\\\Binn\\\\;C:\\\\Program Files\\\\Microsoft SQL Server\\\\140\\\\DTS\\\\Binn\\\\;C:\\\\Program Files\\\\Microsoft SQL Server\\\\130\\\\Tools\\\\Binn\\\\;C:\\\\WINDOWS\\\\System32\\\\OpenSSH\\\\;C:\\\\Program Files\\\\Git\\\\cmd;C:\\\\Program Files\\\\Git\\\\mingw64\\\\bin;C:\\\\Program Files\\\\Git\\\\usr\\\\bin;C:\\\\Program Files\\\\PostgreSQL\\\\11\\\\bin;C:\\\\Program Files\\\\PostgreSQL\\\\11\\\\lib;C:\\\\Program Files\\\\nodejs\\\\;C:\\\\Program Files\\\\Microsoft VS Code\\\\bin;C:\\\\Users\\\\obois\\\\AppData\\\\Local\\\\Microsoft\\\\WindowsApps;C:\\\\Users\\\\obois\\\\AppData\\\\Local\\\\Programs\\\\Fiddler;C:\\\\Users\\\\obois\\\\AppData\\\\Local\\\\Microsoft\\\\WindowsApps;C:\\\\Users\\\\obois\\\\AppData\\\\Local\\\\GitHubDesktop\\\\bin;C:\\\\Program Files\\\\CMake\\\\bin;;C:\\\\Users\\\\obois\\\\AppData\\\\Local\\\\Programs\\\\Microsoft VS Code\\\\bin;C:\\\\Users\\\\obois\\\\AppData\\\\Roaming\\\\npm',\n",
       "        'PATHEXT': '.COM;.EXE;.BAT;.CMD;.VBS;.VBE;.JS;.JSE;.WSF;.WSH;.MSC',\n",
       "        'PROCESSOR_ARCHITECTURE': 'AMD64',\n",
       "        'PROCESSOR_IDENTIFIER': 'Intel64 Family 6 Model 69 Stepping 1, GenuineIntel',\n",
       "        'PROCESSOR_LEVEL': '6',\n",
       "        'PROCESSOR_REVISION': '4501',\n",
       "        'PROGRAMDATA': 'C:\\\\ProgramData',\n",
       "        'PROGRAMFILES': 'C:\\\\Program Files',\n",
       "        'PROGRAMFILES(X86)': 'C:\\\\Program Files (x86)',\n",
       "        'PROGRAMW6432': 'C:\\\\Program Files',\n",
       "        'PSMODULEPATH': 'C:\\\\WINDOWS\\\\system32\\\\WindowsPowerShell\\\\v1.0\\\\Modules\\\\;C:\\\\Program Files (x86)\\\\Microsoft SQL Server\\\\140\\\\Tools\\\\PowerShell\\\\Modules\\\\',\n",
       "        'PUBLIC': 'C:\\\\Users\\\\Public',\n",
       "        'SESSIONNAME': 'Console',\n",
       "        'SYSTEMDRIVE': 'C:',\n",
       "        'SYSTEMROOT': 'C:\\\\WINDOWS',\n",
       "        'TEMP': 'C:\\\\Users\\\\obois\\\\AppData\\\\Local\\\\Temp',\n",
       "        'TMP': 'C:\\\\Users\\\\obois\\\\AppData\\\\Local\\\\Temp',\n",
       "        'USERDOMAIN': 'OS_marketing1',\n",
       "        'USERDOMAIN_ROAMINGPROFILE': 'OS_marketing1',\n",
       "        'USERNAME': 'obois',\n",
       "        'USERPROFILE': 'C:\\\\Users\\\\obois',\n",
       "        'WINDIR': 'C:\\\\WINDOWS',\n",
       "        'ZENNOPOSTERCURRENTPATH': 'C:\\\\Program Files (x86)\\\\ZennoLab\\\\RU\\\\ZennoPoster Pro\\\\5.17.2.0\\\\Progs',\n",
       "        'CONDA_PREFIX': 'C:\\\\Anaconda\\\\envs\\\\snowflakes',\n",
       "        'JPY_INTERRUPT_EVENT': '3324',\n",
       "        'IPY_INTERRUPT_EVENT': '3324',\n",
       "        'JPY_PARENT_PID': '2060',\n",
       "        'TERM': 'xterm-color',\n",
       "        'CLICOLOR': '1',\n",
       "        'PAGER': 'cat',\n",
       "        'GIT_PAGER': 'cat',\n",
       "        'MPLBACKEND': 'module://ipykernel.pylab.backend_inline'}"
      ]
     },
     "execution_count": 53,
     "metadata": {},
     "output_type": "execute_result"
    }
   ],
   "source": [
    "os.environ"
   ]
  },
  {
   "cell_type": "code",
   "execution_count": null,
   "metadata": {},
   "outputs": [],
   "source": []
  }
 ],
 "metadata": {
  "kernelspec": {
   "display_name": "Python 3",
   "language": "python",
   "name": "python3"
  },
  "language_info": {
   "codemirror_mode": {
    "name": "ipython",
    "version": 3
   },
   "file_extension": ".py",
   "mimetype": "text/x-python",
   "name": "python",
   "nbconvert_exporter": "python",
   "pygments_lexer": "ipython3",
   "version": "3.6.8"
  }
 },
 "nbformat": 4,
 "nbformat_minor": 2
}
