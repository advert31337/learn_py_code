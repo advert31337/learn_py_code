{
 "cells": [
  {
   "cell_type": "markdown",
   "metadata": {},
   "source": [
    "#### Поговорим про объекты?"
   ]
  },
  {
   "cell_type": "markdown",
   "metadata": {},
   "source": [
    "В написании программ на часто придется иметь дело с объектами и информацией о нем. Какая информация нас интересует при выборе ноутбука? "
   ]
  },
  {
   "cell_type": "markdown",
   "metadata": {},
   "source": [
    "<img src=\"https://rich-hous.ru/i/imgs/cdn1.ozone.ru/multimedia/1025286751.jpg\" alt=\"alt text\" width=\"500\"/>"
   ]
  },
  {
   "cell_type": "code",
   "execution_count": null,
   "metadata": {},
   "outputs": [],
   "source": [
    "notebook = ['процессор', 'видеокарта', 'оперативка', 'жесткий диск']\n",
    "# Попробуем вписать более подробную информацию\n",
    "notebook = [['процессор', 'intel', 2300], 'видеокарта', 'оперативка', 'жесткий диск']\n",
    "# Представим себе что таких ноутбуков много и о каждом надо держать такую информацию\n",
    "# Удобно работать с такой информацией?"
   ]
  },
  {
   "cell_type": "code",
   "execution_count": null,
   "metadata": {},
   "outputs": [],
   "source": [
    "# Допустим нам надо извлечь частоту процессора, так вроде можно\n",
    "print(notebook[0][2])\n",
    "# А представьте себе ситуацию когда сменился программист в компании и вам показали такой код!"
   ]
  },
  {
   "cell_type": "code",
   "execution_count": null,
   "metadata": {},
   "outputs": [],
   "source": [
    "# А так будет удобнее?\n",
    "notebook_dict = {'процессор':{'Модель': 'Intel core i5','Кол-во ядер': 4, 'Частота': 2300},\n",
    "                 'видеокарта': {'Модель': 'Nvidia 2020','Память': '2064'},\n",
    "                 'Оперативная память': 8,\n",
    "                 'Беспроводные интерфейсы':['wifi', 'bluetooth']}\n",
    "print(notebook_dict['процессор']['Частота'])"
   ]
  },
  {
   "cell_type": "markdown",
   "metadata": {},
   "source": [
    "<img src=\"https://a.d-cd.net/2bef5b6s-1920.jpg\" alt=\"alt text\" width=\"800\"/>"
   ]
  },
  {
   "cell_type": "code",
   "execution_count": null,
   "metadata": {},
   "outputs": [],
   "source": [
    "# Для начала повторим списки, условные конструкции и циклы\n",
    "\n",
    "car_chars = [('Макс. скорость, км/ч', 305),\n",
    "            ('Разгон, сек.', 4.31),\n",
    "            ('Мощность, л.с.', 430),\n",
    "            ('Масса, кг', 1430),\n",
    "            ('Крутящий момент, об/мин', 544),\n",
    "            ('Трансмиссия', 'RWD'),\n",
    "            ('Шины', 'Гоночные')]\n",
    "\n",
    "car_char = 'Разгон, сек.'\n",
    "for d in car_chars:\n",
    "    if car_char in d:\n",
    "        print(d[1])\n",
    "        break\n",
    "else: # если break не случилось, то выполняется else\n",
    "    print('Не найдено')"
   ]
  },
  {
   "cell_type": "code",
   "execution_count": null,
   "metadata": {},
   "outputs": [],
   "source": [
    "print(car_chars[1][1])"
   ]
  },
  {
   "cell_type": "markdown",
   "metadata": {},
   "source": [
    "### **СЛОВАРИ (dict)**"
   ]
  },
  {
   "cell_type": "markdown",
   "metadata": {},
   "source": [
    "**Словарь (dict) представляет собой неупорядоченную коллекцию произвольных объектов в виде пары ключ:значение**.  \n",
    "Используются в основном для хранения данных об объекте.\n",
    "\n",
    "В других языках программирования также встречаются названия ассоциативный массив, хэш-таблица или просто таблица.  \n",
    "Словарь заключается в фигурные скобки { } каждая запись отделяется запятой, ключ и соответствующее ему значение записывается через двоеточие \":\". Общий вид словаря:  \n",
    ">{key1: value1, key2: value2, ...}\n",
    "\n",
    "Скорость работы словаря **очень высокая**! Поиск даже в словарях с миллионами записей происходит очень быстро."
   ]
  },
  {
   "cell_type": "markdown",
   "metadata": {},
   "source": [
    "По сути связка \"ключ-значение\", при этом ключом может быть любой **неизменяемый** объект, например текст, число или кортеж. Изменяемые типы объектов не могут являться ключом, например список.  \n",
    "При попытке создать изменяемый ключ будет выдаваться ошибка."
   ]
  },
  {
   "cell_type": "markdown",
   "metadata": {},
   "source": [
    "#### создание словарей"
   ]
  },
  {
   "cell_type": "code",
   "execution_count": null,
   "metadata": {},
   "outputs": [],
   "source": [
    "# явное указание элементов словаря\n",
    "d0 = {'Макс. скорость, км/ч': 305,\n",
    "      'Разгон, сек.': 4.31,\n",
    "      'Шины': 'Гоночные'}\n",
    "# из списка кортежей\n",
    "list_car_chars = [('Макс. скорость, км/ч', 305),('Разгон, сек.', 4.31),('Мощность, л.с.', 430)]\n",
    "d1 = dict(list_car_chars)\n",
    "\n",
    "print(d0)\n",
    "print(d1)"
   ]
  },
  {
   "cell_type": "code",
   "execution_count": null,
   "metadata": {},
   "outputs": [],
   "source": [
    "# другой вариант явного указания элементов (почти не используется)\n",
    "d2 = dict(Москва=495, СПб=812, Ейск=86132)\n",
    "print(d2)"
   ]
  },
  {
   "cell_type": "code",
   "execution_count": null,
   "metadata": {},
   "outputs": [],
   "source": [
    "# пустые словари \n",
    "dic = {}\n",
    "dic0 = dict()\n",
    "\n",
    "print(dic)\n",
    "print(dic0)"
   ]
  },
  {
   "cell_type": "code",
   "execution_count": null,
   "metadata": {},
   "outputs": [],
   "source": [
    "# создадим словари со значением None или заданным одинаковым значением по умолчанию\n",
    "d3 = dict.fromkeys(['a', 'b', 'c'])\n",
    "d4 = dict.fromkeys(['a', 'b', 'c'], 0)\n",
    "print(d3)\n",
    "print(d4)\n",
    "print('-'*100)\n",
    "# генератор словарей\n",
    "d5 = {a: a ** 2 for a in range(7)}\n",
    "print(d5)"
   ]
  },
  {
   "cell_type": "markdown",
   "metadata": {},
   "source": [
    "Ключи словаря содержат только уникальные значения словаря попробуем создать 2 одинаковых ключа"
   ]
  },
  {
   "cell_type": "code",
   "execution_count": null,
   "metadata": {},
   "outputs": [],
   "source": [
    "dict1 = {'a': 1, 'a': 99}\n",
    "print(dict1, '<- мы попытались 2 раза создать один и тот же ключ')"
   ]
  },
  {
   "cell_type": "markdown",
   "metadata": {},
   "source": [
    "#### типы данных в словарях\n",
    "В ключах словарей допустимо использовать только неизменяемые типы данных: int, string, tuple.\n",
    "В остальных случаях будет вылетать ошибка."
   ]
  },
  {
   "cell_type": "code",
   "execution_count": null,
   "metadata": {},
   "outputs": [],
   "source": [
    "# присвоим ключу словаря хэшируемый тип - кортеж\n",
    "key = (1,2)\n",
    "dict1 = {key: 'дерево'}\n",
    "print(key,':', dict1[key])\n",
    "      \n",
    "# присвоим ключу словаря НЕхэшируемый тип - список\n",
    "print('\\nОшибочка вышла:')\n",
    "key = [1,2]\n",
    "dict1 = {key: 'дерево'}"
   ]
  },
  {
   "cell_type": "markdown",
   "metadata": {},
   "source": [
    "#### Обращаемся к элементам словаря\n",
    "Обращаться к записям словаря можно только по ключу, т.к. коллекция неупорядоченная у него просто нет индекса.\n",
    "Неупорядоченность значит, что каждый раз вызывая элемент он может находится в разных местах словаря.  \n",
    "Поэтому словари нельзя сортировать."
   ]
  },
  {
   "cell_type": "markdown",
   "metadata": {},
   "source": [
    "Для примера возьмем кофе-машину, в нем заданный набор ключей в ответ на указанным напиток на экране, возвращает нам чашку с выбранным нами напитком.\n",
    "<img src=\"http://static.pleer.ru/review_photo/356/136/452a68a.jpg\" alt=\"alt text\" width=\"500\"/>"
   ]
  },
  {
   "cell_type": "code",
   "execution_count": null,
   "metadata": {},
   "outputs": [],
   "source": [
    "dictionary = {'Макс. скорость, км/ч': 305,\n",
    "      'Разгон, сек.': 4.31,\n",
    "      'Шины': 'Гоночные'}\n",
    "# Получение занчения\n",
    "print(dictionary.get('Макс. скорость, км/ч'))\n",
    "print(dictionary['Макс. скорость, км/ч'])"
   ]
  },
  {
   "cell_type": "markdown",
   "metadata": {},
   "source": [
    "При попытке обратиться к несуществующему ключу будет получаем KeyError ."
   ]
  },
  {
   "cell_type": "code",
   "execution_count": null,
   "metadata": {},
   "outputs": [],
   "source": [
    "# ошибка при попытке вызвать несуществующий ключ\n",
    "dictionary = {'Макс. скорость, км/ч': 305,\n",
    "      'Разгон, сек.': 4.31,\n",
    "      'Шины': 'Гоночные'}\n",
    "print(dict1['Цвет'])"
   ]
  },
  {
   "cell_type": "code",
   "execution_count": null,
   "metadata": {},
   "outputs": [],
   "source": [
    "# Для того чтобы избежать ошибки делаем так\n",
    "print(dictionary.get('Цвет', 'а вот нету тут ничего!'))"
   ]
  },
  {
   "cell_type": "markdown",
   "metadata": {},
   "source": [
    "#### добавление/изменение  элемента словаря\n",
    "Чтобы добавить в словарь новое значение достаточно после названия словаря в квадратных скобках указать ключ и приравнять его к нужному значению. Точно также можно изменить существующий ключ.  \n",
    ">dict[key] = value\n",
    "\n",
    "Или использовать функцию update() \n",
    ">dict.update()"
   ]
  },
  {
   "cell_type": "code",
   "execution_count": null,
   "metadata": {},
   "outputs": [],
   "source": [
    "d = {'Макс. скорость, км/ч': 305,\n",
    "      'Разгон, сек.': 4.31,\n",
    "      'Шины': 'Гоночные'}\n",
    "print('До', d)\n",
    "# Добавление/изменение элементов\n",
    "d['Цвет'] = 'Черный'\n",
    "d.update({'Фары': 'Диодные'})\n",
    "print('После', d)"
   ]
  },
  {
   "cell_type": "code",
   "execution_count": null,
   "metadata": {},
   "outputs": [],
   "source": [
    "# добавляем элемент в словарь и со значением по умолчанию\n",
    "d.setdefault('Уровень топлива', 0)\n",
    "print('1', d)\n",
    "# заправим\n",
    "d.update({'Уровень топлива': 3})\n",
    "print('2', d)\n",
    "# дозаправим еще чуть-чуть\n",
    "d['Уровень топлива'] +=2\n",
    "print('3', d)"
   ]
  },
  {
   "cell_type": "markdown",
   "metadata": {},
   "source": [
    "#### удаление элементов словаря"
   ]
  },
  {
   "cell_type": "code",
   "execution_count": null,
   "metadata": {},
   "outputs": [],
   "source": [
    "d = {'Макс. скорость, км/ч': 305,\n",
    "      'Разгон, сек.': 4.31,\n",
    "      'Шины': 'Гоночные',\n",
    "      'Багажник': 'Есть',\n",
    "      'Мощность, л.с.': 430,\n",
    "      'Масса, кг': 1430,\n",
    "      'Крутящий момент, об/мин': 544,\n",
    "      'Трансмиссия': 'RWD',\n",
    "      'Содержимое багажника': ['знак','инструменты', 'насос', 'домкрат']\n",
    "    }\n",
    "print(d)\n",
    "# удаление элемента словаря\n",
    "del d['Багажник']\n",
    "print(d)\n",
    "# возвращает значение и удаляет соответствующий элемент из словаря\n",
    "print(d.pop('Шины'))\n",
    "print(d)\n",
    "\n",
    "# возвращает случайную пару ключ:значение и удаляет его из словаря\n",
    "print(d.popitem())\n",
    "print(d)\n",
    "\n",
    "# удаление всех элементов словаря\n",
    "d.clear()\n",
    "print(d)"
   ]
  },
  {
   "cell_type": "markdown",
   "metadata": {},
   "source": [
    "Проверить наличие ключа в словаре можно при помощи инструкции  \n",
    ">x in dict"
   ]
  },
  {
   "cell_type": "code",
   "execution_count": null,
   "metadata": {},
   "outputs": [],
   "source": [
    "d = {'Макс. скорость, км/ч': 305,\n",
    "      'Разгон, сек.': 4.31,\n",
    "      'Шины': 'Гоночные',\n",
    "      'Багажник': 'Есть',\n",
    "      'Мощность, л.с.': 430,\n",
    "      'Масса, кг': 1430,\n",
    "      'Крутящий момент, об/мин': 544,\n",
    "      'Трансмиссия': 'RWD',\n",
    "    }\n",
    "print('Багажник' in d)\n",
    "print('Масса, кг' in d)\n",
    "print('Нитро' in d)"
   ]
  },
  {
   "cell_type": "markdown",
   "metadata": {},
   "source": [
    "#### перебор элементов словаря"
   ]
  },
  {
   "cell_type": "markdown",
   "metadata": {},
   "source": [
    "Можно также возвращать элементы словаря: значения, ключи или связки ключ-значение. Посмотрим код."
   ]
  },
  {
   "cell_type": "code",
   "execution_count": null,
   "metadata": {},
   "outputs": [],
   "source": [
    "dic = {'Макс. скорость, км/ч': 305,\n",
    "      'Разгон, сек.': 4.31,\n",
    "      'Шины': 'Гоночные',\n",
    "      'Багажник': 'Есть',\n",
    "      'Мощность, л.с.': 430,\n",
    "      'Масса, кг': 1430,\n",
    "      'Крутящий момент, об/мин': 544,\n",
    "      'Трансмиссия': 'RWD',\n",
    "    }\n",
    "print(dic.items())\n",
    "print('-'*50)\n",
    "print(dic.keys())\n",
    "print('-'*50)\n",
    "print(list(dic.values()))"
   ]
  },
  {
   "cell_type": "code",
   "execution_count": null,
   "metadata": {},
   "outputs": [],
   "source": [
    "for key in dic:\n",
    "    print(key, dic[key])"
   ]
  },
  {
   "cell_type": "code",
   "execution_count": null,
   "metadata": {},
   "outputs": [],
   "source": [
    "for key, value in dic.items():\n",
    "    print(key, value)"
   ]
  },
  {
   "cell_type": "code",
   "execution_count": null,
   "metadata": {},
   "outputs": [],
   "source": [
    "for key in dic.keys():\n",
    "    print(key)"
   ]
  },
  {
   "cell_type": "code",
   "execution_count": null,
   "metadata": {},
   "outputs": [],
   "source": [
    "for value in dic.values():\n",
    "    print(value)"
   ]
  },
  {
   "cell_type": "markdown",
   "metadata": {},
   "source": [
    "#### копирование словаря"
   ]
  },
  {
   "cell_type": "code",
   "execution_count": null,
   "metadata": {},
   "outputs": [],
   "source": [
    "dic = {'Макс. скорость, км/ч': 305,\n",
    "      'Разгон, сек.': 4.31,\n",
    "      'Шины': 'Гоночные',\n",
    "      'Багажник': 'Есть',\n",
    "      'Мощность, л.с.': 430,\n",
    "      'Масса, кг': 1430,\n",
    "      'Крутящий момент, об/мин': 544,\n",
    "      'Трансмиссия': 'RWD',\n",
    "      'Содержимое багажника': ['знак','инструменты', 'насос', 'домкрат']}"
   ]
  },
  {
   "cell_type": "code",
   "execution_count": null,
   "metadata": {},
   "outputs": [],
   "source": [
    "ddd = dic\n",
    "ddd['Масса, кг'] = 2500\n",
    "print(dic)"
   ]
  },
  {
   "cell_type": "code",
   "execution_count": null,
   "metadata": {},
   "outputs": [],
   "source": [
    "co = dic.copy()\n",
    "co['Масса, кг'] = 1\n",
    "print(dic)\n",
    "print('---'*40)\n",
    "print(co)"
   ]
  },
  {
   "cell_type": "code",
   "execution_count": null,
   "metadata": {},
   "outputs": [],
   "source": [
    "cop = dic.copy()\n",
    "cop['Содержимое багажника'][0] = 'канистра'\n",
    "print(dic)\n",
    "print('---'*40)\n",
    "print(cop)"
   ]
  },
  {
   "cell_type": "code",
   "execution_count": null,
   "metadata": {},
   "outputs": [],
   "source": [
    "import copy \n",
    "\n",
    "\n",
    "cop = copy.deepcopy(dic)\n",
    "cop['Содержимое багажника'][0] = 'палатка'\n",
    "print(dic)\n",
    "print('---'*40)\n",
    "print(cop)"
   ]
  },
  {
   "cell_type": "markdown",
   "metadata": {},
   "source": [
    "Словари часто используют для подсчета частоты элементов списков, в этом случае каждый раз нужно производить проверку наличия ключа в словаре. Давайте посмотрим на примере как это можно сделать стандартным способом и применив метод **setdefault()**. Код станет немного короче."
   ]
  },
  {
   "cell_type": "code",
   "execution_count": null,
   "metadata": {},
   "outputs": [],
   "source": [
    "# список для подсчета элементов\n",
    "list1 = ['a', 'b', 'a', 'c', 'c','c', 'd', 'b', 'r']\n",
    "\n",
    "# создадим пустой словарь и циклом подсчитаем количество каждого элемента\n",
    "dict1 = {}\n",
    "for el in list1:\n",
    "    if not el in dict1:\n",
    "        dict1[el] = 0\n",
    "    dict1[el] += 1\n",
    "print(dict1, '<- словарь полученный через проверку in')\n",
    "      \n",
    "# то же самое, но методом setdefault()\n",
    "dict2 = {}\n",
    "for el in list1:\n",
    "    dict2.setdefault(el, 0)\n",
    "    dict2[el] += 1\n",
    "print(dict2, '<- словарь полученный через метод setdefaul')"
   ]
  },
  {
   "cell_type": "code",
   "execution_count": null,
   "metadata": {},
   "outputs": [],
   "source": [
    "s = 'Когда полезно использовать (*№;№%;%:?(№\"№? словарь'\n",
    "d = {}\n",
    "for l in sorted(s.lower()):\n",
    "    if l.isalpha():\n",
    "        d[l] = d.get(l, 0) + 1\n",
    "        # if l in d:\n",
    "        #     d[l] += 1\n",
    "        # else:\n",
    "        #     d[l] = 1\n",
    "print(d)"
   ]
  },
  {
   "cell_type": "markdown",
   "metadata": {},
   "source": [
    "Используя функции из стандартной библиотеки **collections** можно расширить функционал. \n",
    "Рассмотрим функции **defaultdict** и **Counter**.  \n",
    "Импортируются функции следующей конструкцией:\n",
    ">from collections import defaultdict, Counter"
   ]
  },
  {
   "cell_type": "code",
   "execution_count": null,
   "metadata": {},
   "outputs": [],
   "source": [
    "# создадим словарь содержащий фамилии с установленными значениями по умолчанию\n",
    "from collections import defaultdict\n",
    "\n",
    "list1 = ['Иванов', 'Петров', 'Сидоров', 'Кукушкин']\n",
    "\n",
    "names = defaultdict(int)\n",
    "for name in list1:\n",
    "    names[name]\n",
    "    \n",
    "names2 = defaultdict(list)\n",
    "for name in list1:\n",
    "    names2[name]\n",
    "    \n",
    "print(dict(names), '<- словарь с типом данных по умолчанию - число')\n",
    "print(dict(names2), '<- словарь с типом данных по умолчанию - список')"
   ]
  },
  {
   "cell_type": "code",
   "execution_count": null,
   "metadata": {},
   "outputs": [],
   "source": [
    "# функция Counter\n",
    "from collections import Counter\n",
    "\n",
    "list1 = ['a', 'b', 'a', 'c', 'c','c', 'd', 'b', 'a', 'a', 'd', 'n']\n",
    "cnt = Counter(list1)\n",
    "print(dict(cnt), '<- подсчет количества букв в списке методом Counter')\n",
    "\n",
    "# выведем самые частые элементы через Counter.most_common()\n",
    "print(cnt.most_common(3), '<- 3 самых частых элемента через Counter.most_common()')"
   ]
  },
  {
   "cell_type": "markdown",
   "metadata": {},
   "source": [
    "Посмотреть список методов и атрибутов словаря можно через функцию dir()."
   ]
  },
  {
   "cell_type": "code",
   "execution_count": null,
   "metadata": {},
   "outputs": [],
   "source": [
    "print(dir({'a': 4}))"
   ]
  }
 ],
 "metadata": {
  "kernelspec": {
   "display_name": "Python 3",
   "language": "python",
   "name": "python3"
  },
  "language_info": {
   "codemirror_mode": {
    "name": "ipython",
    "version": 3
   },
   "file_extension": ".py",
   "mimetype": "text/x-python",
   "name": "python",
   "nbconvert_exporter": "python",
   "pygments_lexer": "ipython3",
   "version": "3.6.8"
  }
 },
 "nbformat": 4,
 "nbformat_minor": 2
}
