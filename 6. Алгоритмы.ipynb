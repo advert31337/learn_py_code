{
 "cells": [
  {
   "cell_type": "code",
   "execution_count": 4,
   "metadata": {},
   "outputs": [
    {
     "name": "stdout",
     "output_type": "stream",
     "text": [
      "1111\n",
      "5413"
     ]
    }
   ],
   "source": [
    "base = 7\n",
    "x = int(input())\n",
    "\n",
    "while x > 0:\n",
    "    dig = x % base\n",
    "    print(dig, end='')\n",
    "    x //= base"
   ]
  },
  {
   "cell_type": "markdown",
   "metadata": {},
   "source": [
    "## Однопроходные алгоритмы"
   ]
  },
  {
   "cell_type": "markdown",
   "metadata": {},
   "source": [
    "Подсчет количества  \n",
    "Суммы элементов  \n",
    "Произведение элементов  \n",
    "Проверка монотонности  \n",
    "Проверка всех элементов по критерию  \n",
    "Поиск элемента  \n",
    "Поиск максимума"
   ]
  },
  {
   "cell_type": "code",
   "execution_count": 16,
   "metadata": {},
   "outputs": [
    {
     "name": "stdout",
     "output_type": "stream",
     "text": [
      "[52, 89, 72, 50, 12, 28]\n",
      "89\n",
      "89\n"
     ]
    }
   ],
   "source": [
    "from random import randint\n",
    "\n",
    "\n",
    "lst = [randint(0,100) for x in range(randint(5, 30))]\n",
    "print(lst)\n",
    "print(max(lst))\n",
    "\n",
    "\n",
    "def maximum(lst):\n",
    "    maxim = 0\n",
    "    for x in lst:\n",
    "        for temp in lst:\n",
    "            if x > maxim and x >= temp:\n",
    "                maxim = x\n",
    "    return maxim\n",
    "print(maximum(lst))"
   ]
  },
  {
   "cell_type": "markdown",
   "metadata": {},
   "source": [
    "## Метод грубой силы (brute force)"
   ]
  },
  {
   "cell_type": "code",
   "execution_count": null,
   "metadata": {},
   "outputs": [],
   "source": [
    "def is_simple_number(x):\n",
    "    divisor = 2\n",
    "    while divisor < x:\n",
    "        if x % divisor == 0:\n",
    "            return False\n",
    "        divisor += 1\n",
    "    return True"
   ]
  },
  {
   "cell_type": "markdown",
   "metadata": {},
   "source": [
    "## Бинарный поиск"
   ]
  },
  {
   "cell_type": "code",
   "execution_count": 12,
   "metadata": {},
   "outputs": [
    {
     "data": {
      "text/plain": [
       "True"
      ]
     },
     "execution_count": 12,
     "metadata": {},
     "output_type": "execute_result"
    }
   ],
   "source": [
    "data = [2, 4, 5, 13, 25, 44, 56, 57, 62, 68, 70, 73, 76, 86, 90, 91, 93, 99, 101]\n",
    "target = 13\n",
    "\n",
    "# linear serch\n",
    "def linear_search(data, target):\n",
    "    for i in range(len(data)):\n",
    "        if target == data[i]:\n",
    "            return True\n",
    "    return False\n",
    "linear_search(data, target)"
   ]
  },
  {
   "cell_type": "code",
   "execution_count": 10,
   "metadata": {},
   "outputs": [
    {
     "data": {
      "text/plain": [
       "True"
      ]
     },
     "execution_count": 10,
     "metadata": {},
     "output_type": "execute_result"
    }
   ],
   "source": [
    "data = [2, 4, 5, 13, 25, 44, 56, 57, 62, 68, 70, 73, 76, 86, 90, 91, 93, 99, 101]\n",
    "target = 99\n",
    "\n",
    "def binary_search_iterative(data, target):\n",
    "    low = 0\n",
    "    high = len(data) - 1\n",
    "    \n",
    "    while low <= high:\n",
    "        mid = (low + high)//2\n",
    "        if target == data[mid]:\n",
    "            return True\n",
    "        elif target < data[mid]:\n",
    "            high = mid - 1\n",
    "        else: \n",
    "            low = mid + 1\n",
    "    return False  \n",
    "\n",
    "binary_search_iterative(data, target)"
   ]
  },
  {
   "cell_type": "code",
   "execution_count": 7,
   "metadata": {},
   "outputs": [
    {
     "data": {
      "text/plain": [
       "True"
      ]
     },
     "execution_count": 7,
     "metadata": {},
     "output_type": "execute_result"
    }
   ],
   "source": [
    "data = [2, 4, 5, 13, 25, 44, 56, 57, 62, 68, 70, 73, 76, 86, 90, 91, 93, 99, 101]\n",
    "target = 4\n",
    "\n",
    "def binary_search_recurcieve(data, target, low, high):\n",
    "    if low > high:\n",
    "        return False\n",
    "    else:\n",
    "        mid = (low + high) // 2\n",
    "        if target == data[mid]:\n",
    "            return True\n",
    "        elif target < data[mid]:\n",
    "            return binary_search_recurcieve(data, target, low, mid-1)\n",
    "        else: \n",
    "            return binary_search_recurcieve(data, target, 0, len(data)-1)\n",
    "\n",
    "binary_search_recurcieve(data, target, 0, len(data))"
   ]
  },
  {
   "cell_type": "markdown",
   "metadata": {},
   "source": [
    "### Рекурсия"
   ]
  },
  {
   "cell_type": "code",
   "execution_count": 8,
   "metadata": {},
   "outputs": [
    {
     "name": "stdout",
     "output_type": "stream",
     "text": [
      "С\n",
      "К\n",
      "No uppercase character found\n",
      "С\n",
      "К\n",
      "No uppercase character found\n"
     ]
    }
   ],
   "source": [
    "str1 = 'купить квартиру в СПб'\n",
    "str2 = 'Купить квартиру в СПб'\n",
    "str3 = 'купить квартиру в спб'\n",
    "\n",
    "def find_uppercase_iterative(string):\n",
    "    for i in range(len(string)):\n",
    "        if string[i].isupper():\n",
    "            return string[i]\n",
    "    return 'No uppercase character found'\n",
    "    \n",
    "def find_uppercase_reqursive(string, idx=0):\n",
    "    if string[idx].isupper():\n",
    "        return string[idx]\n",
    "    if idx == len(string) -1:\n",
    "        return 'No uppercase character found'\n",
    "    return find_uppercase_reqursive(string, idx+1)\n",
    "\n",
    "\n",
    "print(find_uppercase_reqursive(str1)) \n",
    "print(find_uppercase_reqursive(str2))\n",
    "print(find_uppercase_reqursive(str3))\n",
    "print(find_uppercase_iterative(str1))  \n",
    "print(find_uppercase_iterative(str2)) \n",
    "print(find_uppercase_iterative(str3)) "
   ]
  },
  {
   "cell_type": "code",
   "execution_count": 10,
   "metadata": {},
   "outputs": [
    {
     "name": "stdout",
     "output_type": "stream",
     "text": [
      "21\n",
      "21\n",
      "21\n"
     ]
    }
   ],
   "source": [
    "str1 = 'купить квартиру в СПб'\n",
    "print(len(str1))\n",
    "\n",
    "def iterative_str_len(string):\n",
    "    count = 0\n",
    "    for i in range(len(string)):\n",
    "        count += 1\n",
    "    return count\n",
    "\n",
    "def recursive_str_len(string):\n",
    "    if string == '':\n",
    "        return 0\n",
    "    return 1 + recursive_str_len(string[1:])\n",
    "\n",
    "print(recursive_str_len(str1))\n",
    "print(iterative_str_len(str1))"
   ]
  },
  {
   "cell_type": "code",
   "execution_count": null,
   "metadata": {},
   "outputs": [],
   "source": []
  }
 ],
 "metadata": {
  "kernelspec": {
   "display_name": "Python 3",
   "language": "python",
   "name": "python3"
  },
  "language_info": {
   "codemirror_mode": {
    "name": "ipython",
    "version": 3
   },
   "file_extension": ".py",
   "mimetype": "text/x-python",
   "name": "python",
   "nbconvert_exporter": "python",
   "pygments_lexer": "ipython3",
   "version": "3.6.8"
  }
 },
 "nbformat": 4,
 "nbformat_minor": 2
}
