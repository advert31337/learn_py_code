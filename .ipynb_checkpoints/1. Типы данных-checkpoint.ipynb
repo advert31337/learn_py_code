{
 "cells": [
  {
   "cell_type": "markdown",
   "metadata": {},
   "source": [
    "установка, import this"
   ]
  },
  {
   "cell_type": "code",
   "execution_count": 25,
   "metadata": {},
   "outputs": [
    {
     "name": "stdout",
     "output_type": "stream",
     "text": [
      "The Zen of Python, by Tim Peters\n",
      "\n",
      "Beautiful is better than ugly.\n",
      "Explicit is better than implicit.\n",
      "Simple is better than complex.\n",
      "Complex is better than complicated.\n",
      "Flat is better than nested.\n",
      "Sparse is better than dense.\n",
      "Readability counts.\n",
      "Special cases aren't special enough to break the rules.\n",
      "Although practicality beats purity.\n",
      "Errors should never pass silently.\n",
      "Unless explicitly silenced.\n",
      "In the face of ambiguity, refuse the temptation to guess.\n",
      "There should be one-- and preferably only one --obvious way to do it.\n",
      "Although that way may not be obvious at first unless you're Dutch.\n",
      "Now is better than never.\n",
      "Although never is often better than *right* now.\n",
      "If the implementation is hard to explain, it's a bad idea.\n",
      "If the implementation is easy to explain, it may be a good idea.\n",
      "Namespaces are one honking great idea -- let's do more of those!\n"
     ]
    }
   ],
   "source": [
    "import this"
   ]
  },
  {
   "cell_type": "markdown",
   "metadata": {},
   "source": [
    "**Дзэн Питона (Тим Петерс)**\n",
    "\n",
    "    Красивое лучше уродливого.  \n",
    "    Явное лучше неявного.  \n",
    "    Простое лучше сложного.  \n",
    "    Сложное лучше запутанного.  \n",
    "    Развернутое лучше вложенного.  \n",
    "    Разреженное лучше плотного.  \n",
    "    Читаемость имеет значение.  \n",
    "    Особые случаи не настолько особые, чтобы нарушать правила.  \n",
    "    При этом практичность важнее безупречности.  \n",
    "    Ошибки не должны замалчиваться.  \n",
    "    Если не замалчиваются явно.  \n",
    "    Встретив двусмысленность, отбрось искушение угадать.  \n",
    "    Должен существовать один - и, желательно, только один - очевидный способ сделать это.  \n",
    "    Хотя он поначалу может быть и не очевиден, если вы не голландец.  \n",
    "    Сейчас лучше, чем никогда.  \n",
    "    Хотя никогда зачастую лучше, чем *прямо* сейчас.  \n",
    "    Если реализацию сложно объяснить - идея плоха.  \n",
    "    Если реализацию легко объяснить - идея, возможно, хороша.  \n",
    "    Пространства имен - отличная штука! Будем делать их побольше! \n",
    "   "
   ]
  },
  {
   "cell_type": "markdown",
   "metadata": {},
   "source": [
    "Программирование:  \n",
    "*Синтаксис (временное)*,  \n",
    "*Алгоритмы и стр. данных*,  \n",
    "*Прикладные библиотеки (временное)*,  \n",
    "*практика*,  \n",
    "*Проектирование*,  \n",
    "*Групповая работа*.  "
   ]
  },
  {
   "cell_type": "markdown",
   "metadata": {},
   "source": [
    "Первая программа"
   ]
  },
  {
   "cell_type": "code",
   "execution_count": 1,
   "metadata": {},
   "outputs": [
    {
     "name": "stdout",
     "output_type": "stream",
     "text": [
      "Hello world\n"
     ]
    }
   ],
   "source": [
    "print('Hello world')"
   ]
  },
  {
   "cell_type": "markdown",
   "metadata": {},
   "source": [
    "## Переменные"
   ]
  },
  {
   "cell_type": "code",
   "execution_count": 2,
   "metadata": {},
   "outputs": [
    {
     "name": "stdout",
     "output_type": "stream",
     "text": [
      "Hello world\n"
     ]
    }
   ],
   "source": [
    "# имена и занчение -- x сылается на объект 'Hello world'\n",
    "x = 'Hello world'\n",
    "print(x)"
   ]
  },
  {
   "cell_type": "markdown",
   "metadata": {},
   "source": [
    "В ячейки ниже создаются временые объекты 1,2,3,2 между ними проводятся вычисления, создается объект 8.  И имя переменной x связывается (ссылается) с этой 8-кой. Объекты 1,2,3,2 удаляются сборщиком мусора."
   ]
  },
  {
   "cell_type": "code",
   "execution_count": 3,
   "metadata": {},
   "outputs": [],
   "source": [
    "x = 1 + 2 + 3 + 2"
   ]
  },
  {
   "cell_type": "markdown",
   "metadata": {},
   "source": [
    "Обмен переменных через 3-ю переменную."
   ]
  },
  {
   "cell_type": "code",
   "execution_count": 4,
   "metadata": {},
   "outputs": [
    {
     "name": "stdout",
     "output_type": "stream",
     "text": [
      "6 2\n"
     ]
    }
   ],
   "source": [
    "a = 2\n",
    "b = 6\n",
    "tmp = a\n",
    "a = b\n",
    "b = tmp\n",
    "print(a, b)"
   ]
  },
  {
   "cell_type": "markdown",
   "metadata": {},
   "source": [
    "Через две переменные\n"
   ]
  },
  {
   "cell_type": "code",
   "execution_count": 5,
   "metadata": {},
   "outputs": [
    {
     "name": "stdout",
     "output_type": "stream",
     "text": [
      "6 2\n"
     ]
    }
   ],
   "source": [
    "a = 2\n",
    "b = 6\n",
    "tmp1 = a\n",
    "tmp2 = b\n",
    "a = tmp2\n",
    "b = tmp1\n",
    "print(a,b)"
   ]
  },
  {
   "cell_type": "markdown",
   "metadata": {},
   "source": [
    "Каскадное присваивание"
   ]
  },
  {
   "cell_type": "code",
   "execution_count": 6,
   "metadata": {},
   "outputs": [
    {
     "name": "stdout",
     "output_type": "stream",
     "text": [
      "0 0 0\n"
     ]
    }
   ],
   "source": [
    "x = y = z = 0\n",
    "print(x, y, z)"
   ]
  },
  {
   "cell_type": "markdown",
   "metadata": {},
   "source": [
    "Множественное присваивание"
   ]
  },
  {
   "cell_type": "code",
   "execution_count": 7,
   "metadata": {},
   "outputs": [
    {
     "name": "stdout",
     "output_type": "stream",
     "text": [
      "1 3 4\n"
     ]
    }
   ],
   "source": [
    "x, y, z = 1, 3, 4\n",
    "print(x, y, z)"
   ]
  },
  {
   "cell_type": "markdown",
   "metadata": {},
   "source": [
    "Вернемся к множественному присваиванию и применим на практики полученные знания."
   ]
  },
  {
   "cell_type": "code",
   "execution_count": 8,
   "metadata": {},
   "outputs": [
    {
     "name": "stdout",
     "output_type": "stream",
     "text": [
      "6 2\n"
     ]
    }
   ],
   "source": [
    "a = 2\n",
    "b = 6\n",
    "tmp1, tmp2 = a, b\n",
    "a, b = tmp2, tmp1\n",
    "print(a,b)"
   ]
  },
  {
   "cell_type": "markdown",
   "metadata": {},
   "source": [
    "Убираем лишнее, получается обмен через временный кортеж."
   ]
  },
  {
   "cell_type": "code",
   "execution_count": 10,
   "metadata": {},
   "outputs": [
    {
     "name": "stdout",
     "output_type": "stream",
     "text": [
      "6 2\n"
     ]
    }
   ],
   "source": [
    "a = 2\n",
    "b = 6\n",
    "a, b  = b, a\n",
    "print(a,b)"
   ]
  },
  {
   "cell_type": "markdown",
   "metadata": {},
   "source": [
    "## Типы данных"
   ]
  },
  {
   "cell_type": "markdown",
   "metadata": {},
   "source": [
    "- При работе на язык Python **объявлять типы заранее необязательно**, питон определит их \"на лету\" по ходу исполнения кода.   \n",
    "- **Все объекты в питоне делятся на имена** (переменные или ссылки) и **объекты в памяти**. Для лучшего понимания представьте, что переменные - это ярлыки, которые \"наклеиваются\" на объекты в памяти, которые можно сравнить с объектами в физическом мире.\n",
    "- **Понятие типа данных относится непосредственно к объекту в памяти**.\n",
    "- Когда все ссылки на объект в физической памяти удаляются сам объект также удаляется из памяти. **Очистка памяти происходит автоматически**."
   ]
  },
  {
   "cell_type": "code",
   "execution_count": null,
   "metadata": {},
   "outputs": [],
   "source": [
    "print(type(False), type(1), type('Яндекс'))"
   ]
  },
  {
   "cell_type": "markdown",
   "metadata": {},
   "source": [
    "Целое число int"
   ]
  },
  {
   "cell_type": "code",
   "execution_count": 20,
   "metadata": {},
   "outputs": [],
   "source": [
    "x = 1"
   ]
  },
  {
   "cell_type": "code",
   "execution_count": null,
   "metadata": {},
   "outputs": [],
   "source": [
    "Арифметические операции"
   ]
  },
  {
   "cell_type": "code",
   "execution_count": 18,
   "metadata": {},
   "outputs": [
    {
     "name": "stdout",
     "output_type": "stream",
     "text": [
      "4\n",
      "2.0\n",
      "4\n",
      "3.0\n",
      "2\n",
      "6\n"
     ]
    }
   ],
   "source": [
    "# возведение в степень\n",
    "x = 2**2\n",
    "print(x)\n",
    "# Нахождение корня\n",
    "x = 4**0.5\n",
    "print(x)\n",
    "# умножение \n",
    "x = 2*2\n",
    "print(x)\n",
    "# Деление. Обаратите внимание! При делении на выходе всегад float\n",
    "x = 9/3\n",
    "print(x)\n",
    "# остаток от деления или деление по модулю\n",
    "x = 11 % 3\n",
    "print(x)\n",
    "# целочисленное деление\n",
    "x = 20 // 3\n",
    "print(x)"
   ]
  },
  {
   "cell_type": "markdown",
   "metadata": {},
   "source": [
    "Операции деления и умножения имеют равный приоритет. Выполняются последовательно, если нет скобок."
   ]
  },
  {
   "cell_type": "code",
   "execution_count": 2,
   "metadata": {},
   "outputs": [
    {
     "data": {
      "text/plain": [
       "['bit_length',\n",
       " 'conjugate',\n",
       " 'denominator',\n",
       " 'from_bytes',\n",
       " 'imag',\n",
       " 'numerator',\n",
       " 'real',\n",
       " 'to_bytes']"
      ]
     },
     "execution_count": 2,
     "metadata": {},
     "output_type": "execute_result"
    }
   ],
   "source": [
    "x = 8 / 2 * 2\n",
    "x"
   ]
  },
  {
   "cell_type": "markdown",
   "metadata": {},
   "source": [
    "Вещественное число"
   ]
  },
  {
   "cell_type": "code",
   "execution_count": 3,
   "metadata": {},
   "outputs": [
    {
     "name": "stdout",
     "output_type": "stream",
     "text": [
      "98.01\n",
      "3.146426544510455\n",
      "19.8\n",
      "3.3000000000000003\n",
      "0.9000000000000004\n",
      "3.0\n"
     ]
    }
   ],
   "source": [
    "y = 9.9\n",
    "# возведение в степень\n",
    "x = y**2\n",
    "print(x)\n",
    "# Нахождение корня\n",
    "x = y**0.5\n",
    "print(x)\n",
    "# умножение \n",
    "x = y*2\n",
    "print(x)\n",
    "# Деление. Обаратите внимание! При делении на выходе всегад float\n",
    "x = y/3\n",
    "print(x)\n",
    "# остаток от деления или деление по модулю\n",
    "x = y % 3\n",
    "print(x)\n",
    "# целочисленное деление\n",
    "x = y // 3\n",
    "print(x)"
   ]
  },
  {
   "cell_type": "code",
   "execution_count": 8,
   "metadata": {},
   "outputs": [
    {
     "name": "stdout",
     "output_type": "stream",
     "text": [
      "4.36\n",
      "4.4\n"
     ]
    }
   ],
   "source": [
    "# округление round()\n",
    "x = 4.359\n",
    "print(round(x, 2))\n",
    "print(round(x, 1))"
   ]
  },
  {
   "cell_type": "code",
   "execution_count": 13,
   "metadata": {},
   "outputs": [
    {
     "name": "stdout",
     "output_type": "stream",
     "text": [
      "0.9999999999999999\n"
     ]
    }
   ],
   "source": [
    "x = 0.1 + 0.1 + 0.1 + 0.1 + 0.1 + 0.1 + 0.1 + 0.1 + 0.1 + 0.1\n",
    "print(x)"
   ]
  },
  {
   "cell_type": "code",
   "execution_count": 14,
   "metadata": {},
   "outputs": [
    {
     "ename": "OverflowError",
     "evalue": "int too large to convert to float",
     "output_type": "error",
     "traceback": [
      "\u001b[1;31m---------------------------------------------------------------------------\u001b[0m",
      "\u001b[1;31mOverflowError\u001b[0m                             Traceback (most recent call last)",
      "\u001b[1;32m<ipython-input-14-88fe2c7be406>\u001b[0m in \u001b[0;36m<module>\u001b[1;34m\u001b[0m\n\u001b[0;32m      1\u001b[0m \u001b[0ma\u001b[0m \u001b[1;33m=\u001b[0m \u001b[1;36m3\u001b[0m \u001b[1;33m**\u001b[0m \u001b[1;36m1000\u001b[0m\u001b[1;33m\u001b[0m\u001b[1;33m\u001b[0m\u001b[0m\n\u001b[1;32m----> 2\u001b[1;33m \u001b[0ma\u001b[0m \u001b[1;33m+\u001b[0m \u001b[1;36m0.1\u001b[0m\u001b[1;33m\u001b[0m\u001b[1;33m\u001b[0m\u001b[0m\n\u001b[0m",
      "\u001b[1;31mOverflowError\u001b[0m: int too large to convert to float"
     ]
    }
   ],
   "source": [
    "a = 3 ** 1000\n",
    "a + 0.1"
   ]
  },
  {
   "cell_type": "markdown",
   "metadata": {},
   "source": [
    "Модуль math предоставляет более сложные математические функции."
   ]
  },
  {
   "cell_type": "code",
   "execution_count": 15,
   "metadata": {},
   "outputs": [
    {
     "name": "stdout",
     "output_type": "stream",
     "text": [
      "3.141592653589793\n",
      "5.0\n"
     ]
    }
   ],
   "source": [
    "import math\n",
    "\n",
    "print(math.pi)\n",
    "print(math.sqrt(25))"
   ]
  },
  {
   "cell_type": "markdown",
   "metadata": {},
   "source": [
    "***Строки***"
   ]
  },
  {
   "cell_type": "code",
   "execution_count": 36,
   "metadata": {},
   "outputs": [
    {
     "name": "stdout",
     "output_type": "stream",
     "text": [
      "Работать Надо, А Не Ныть\n",
      "РАБОТАТЬ НАДО, А НЕ НЫТЬ\n",
      "улыбаемся и пашем\n",
      "------------------------------------------\n",
      "['работать', 'надо,', 'а', 'не', 'ныть']\n",
      "работать !надо, !а !не !ныть\n",
      "работать !надо, !а !не !ныть\n",
      "раб\n",
      "['надо,', 'а']\n",
      "ьтын ен а ,одан ьтатобар\n"
     ]
    }
   ],
   "source": [
    "string = 'работать надо, а не ныть'\n",
    "str2 = 'уЛыбаеМсЯ И пАШем'\n",
    "lines = '--------------'\n",
    "print(string.title())\n",
    "print(string.upper())\n",
    "print(str2.lower())\n",
    "print(lines*3)\n",
    "print(string.split())\n",
    "print(string.replace(' ', ' !'))\n",
    "print((' !').join(string.split()))\n",
    "print(string[:3])\n",
    "print(string.split()[1:3])\n",
    "print(string[::-1])"
   ]
  },
  {
   "cell_type": "code",
   "execution_count": 15,
   "metadata": {},
   "outputs": [
    {
     "name": "stdout",
     "output_type": "stream",
     "text": [
      "stroka\n",
      "sroka2\n"
     ]
    }
   ],
   "source": [
    "print('stroka\\nsroka2')"
   ]
  },
  {
   "cell_type": "code",
   "execution_count": 18,
   "metadata": {},
   "outputs": [
    {
     "name": "stdout",
     "output_type": "stream",
     "text": [
      "messages:\n",
      "\tmessage2\n",
      "\tmessage3\n",
      "end\n"
     ]
    }
   ],
   "source": [
    "print('messages:\\n\\tmessage2\\n\\tmessage3\\nend')"
   ]
  },
  {
   "cell_type": "code",
   "execution_count": 19,
   "metadata": {},
   "outputs": [
    {
     "name": "stdout",
     "output_type": "stream",
     "text": [
      "Lower name: вася пупкин\n"
     ]
    }
   ],
   "source": [
    "name = 'ВаСя пупкиН'\n",
    "print('Lower name: ' + name.lower())"
   ]
  },
  {
   "cell_type": "code",
   "execution_count": 23,
   "metadata": {},
   "outputs": [
    {
     "name": "stdout",
     "output_type": "stream",
     "text": [
      "      ВаСя пупкиН.........\n",
      "ВаСя пупкиН.........\n",
      "      ВаСя пупкиН\n"
     ]
    }
   ],
   "source": [
    "name = '      ВаСя пупкиН.........'\n",
    "print(name)\n",
    "print(name.strip())\n",
    "print(name.strip('.'))"
   ]
  },
  {
   "cell_type": "markdown",
   "metadata": {},
   "source": [
    "экранирование строк"
   ]
  },
  {
   "cell_type": "code",
   "execution_count": 38,
   "metadata": {},
   "outputs": [
    {
     "name": "stdout",
     "output_type": "stream",
     "text": [
      "купить \n",
      " телефон\n"
     ]
    }
   ],
   "source": [
    "print('купить \\n телефон')"
   ]
  },
  {
   "cell_type": "markdown",
   "metadata": {},
   "source": [
    "форматирование строк"
   ]
  },
  {
   "cell_type": "code",
   "execution_count": 44,
   "metadata": {},
   "outputs": [
    {
     "name": "stdout",
     "output_type": "stream",
     "text": [
      "Метя зовут Вася мне 19\n",
      "Метя зовут Вася мне 19\n",
      "Метя зовут Вася мне 19\n",
      "Метя зовут Вася мне 19\n"
     ]
    }
   ],
   "source": [
    "name = 'Вася'\n",
    "age = 19\n",
    "\n",
    "print('Метя зовут %s мне %s' % (name,age))\n",
    "print('Метя зовут {} мне {}'.format(name,age))\n",
    "print('Метя зовут {1} мне {0}'.format(age, name))\n",
    "print(f'Метя зовут {name} мне {age}')"
   ]
  },
  {
   "cell_type": "markdown",
   "metadata": {},
   "source": [
    "все операции над строками"
   ]
  },
  {
   "cell_type": "code",
   "execution_count": 50,
   "metadata": {},
   "outputs": [],
   "source": [
    "[x for x in dir('') if '__' not in x]"
   ]
  },
  {
   "cell_type": "markdown",
   "metadata": {},
   "source": [
    "##### Булевые переменные"
   ]
  },
  {
   "cell_type": "markdown",
   "metadata": {},
   "source": [
    "True и False"
   ]
  },
  {
   "cell_type": "markdown",
   "metadata": {},
   "source": [
    "Сравнение"
   ]
  },
  {
   "cell_type": "code",
   "execution_count": 21,
   "metadata": {},
   "outputs": [
    {
     "name": "stdout",
     "output_type": "stream",
     "text": [
      "False\n",
      "False\n",
      "False\n",
      "False\n",
      "------------------------------------------------------------\n",
      "True\n",
      "True\n",
      "True\n",
      "True\n"
     ]
    }
   ],
   "source": [
    "print(bool([]))\n",
    "print(bool(''))\n",
    "print(bool(0))\n",
    "print(bool({}))\n",
    "\n",
    "print('---'* 20)\n",
    "print(bool(['fill', 'list']))\n",
    "print(bool('a'))\n",
    "print(bool(345))\n",
    "print(bool({'a':'a'}))"
   ]
  },
  {
   "cell_type": "markdown",
   "metadata": {},
   "source": [
    "Вхождение"
   ]
  },
  {
   "cell_type": "code",
   "execution_count": null,
   "metadata": {},
   "outputs": [],
   "source": []
  },
  {
   "cell_type": "markdown",
   "metadata": {},
   "source": [
    "Соответствие"
   ]
  },
  {
   "cell_type": "code",
   "execution_count": null,
   "metadata": {},
   "outputs": [],
   "source": []
  },
  {
   "cell_type": "markdown",
   "metadata": {},
   "source": [
    "Преобразование типов данных"
   ]
  },
  {
   "cell_type": "code",
   "execution_count": null,
   "metadata": {},
   "outputs": [],
   "source": []
  },
  {
   "cell_type": "markdown",
   "metadata": {},
   "source": [
    "Прочие типы данных"
   ]
  },
  {
   "cell_type": "code",
   "execution_count": null,
   "metadata": {},
   "outputs": [],
   "source": []
  }
 ],
 "metadata": {
  "kernelspec": {
   "display_name": "Python 3",
   "language": "python",
   "name": "python3"
  },
  "language_info": {
   "codemirror_mode": {
    "name": "ipython",
    "version": 3
   },
   "file_extension": ".py",
   "mimetype": "text/x-python",
   "name": "python",
   "nbconvert_exporter": "python",
   "pygments_lexer": "ipython3",
   "version": "3.6.8"
  }
 },
 "nbformat": 4,
 "nbformat_minor": 2
}
