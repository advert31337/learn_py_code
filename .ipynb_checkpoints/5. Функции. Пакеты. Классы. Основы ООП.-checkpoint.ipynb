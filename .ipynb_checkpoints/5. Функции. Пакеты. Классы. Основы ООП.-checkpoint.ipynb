{
 "cells": [
  {
   "cell_type": "markdown",
   "metadata": {},
   "source": [
    "# **ФУНКЦИИ**"
   ]
  },
  {
   "cell_type": "markdown",
   "metadata": {},
   "source": [
    "**Функцией** в Python называется объект, принимающий на входе определенные данные и параметры (аргументы) и возвращающий результат работы функции.  \n",
    "Функция начинается с ключевого слова **def** после идет название функции с маленькой букву в **snake\\_стиле**  (PEP8), далее в круглых скобках принимаются аргументы функции и после двоеточия с новой строки пишется блок кода с отступом.\n",
    "\n",
    "В общем виде простейшая функция выглядит так:"
   ]
  },
  {
   "cell_type": "code",
   "execution_count": 1,
   "metadata": {},
   "outputs": [
    {
     "name": "stdout",
     "output_type": "stream",
     "text": [
      "None\n"
     ]
    }
   ],
   "source": [
    "def test_func(args):\n",
    "    \"\"\"Описание функциии\"\"\"\n",
    "    pass\n",
    "\n",
    "print(test_func(1))"
   ]
  },
  {
   "cell_type": "markdown",
   "metadata": {},
   "source": [
    "Главное назначение функции сократить **повторяющиеся** блоки кода в вашем коде.\n",
    "\n",
    "После основного блока инструкций функция обычно возвращает результат для этого используется оператор **return**.  \n",
    "В новых версиях языка Python появились аннотации, которые облегчаю чтение ваших функций другими программистами.  \n",
    "Суть после каждого аргумента через двоеточие объявляется тип передаваемого аргумента, а после знака стрелочки  \"**->**\" указывается тип данных результата возвращаемого функцией."
   ]
  },
  {
   "cell_type": "code",
   "execution_count": 4,
   "metadata": {},
   "outputs": [
    {
     "name": "stdout",
     "output_type": "stream",
     "text": [
      "testtesttest <- результат работы нашей функции\n"
     ]
    }
   ],
   "source": [
    "def test_func(n: int, string: str) -> 'str':\n",
    "    \"\"\"Функция возвращает строку string n раз\"\"\"\n",
    "    res = string * n\n",
    "    return res\n",
    "\n",
    "print(test_func(3, 'test'), '<- результат работы нашей функции')"
   ]
  },
  {
   "cell_type": "markdown",
   "metadata": {},
   "source": [
    "В функции можно производить дополнительные проверки и преобразования входных данных для возвращения корректного результата."
   ]
  },
  {
   "cell_type": "code",
   "execution_count": 5,
   "metadata": {},
   "outputs": [
    {
     "name": "stdout",
     "output_type": "stream",
     "text": [
      "False <- результат работы нашей функции\n",
      "True <- результат работы нашей функции\n",
      "Аргумент не является целым числом <- результат работы нашей функции\n"
     ]
    }
   ],
   "source": [
    "# условие вложенное в цикл\n",
    "def even_check(a: int) -> 'bool':\n",
    "    \"\"\"Проверка числа на четность\"\"\"\n",
    "    if not isinstance(a, int):\n",
    "        return 'Аргумент не является целым числом'\n",
    "    if a % 2 == 0:\n",
    "        return True\n",
    "    return False\n",
    "\n",
    "print(even_check(1), '<- результат работы нашей функции')\n",
    "print(even_check(4), '<- результат работы нашей функции')\n",
    "print(even_check('t'), '<- результат работы нашей функции')"
   ]
  },
  {
   "cell_type": "markdown",
   "metadata": {},
   "source": [
    "Если вы не указали оператор return, то функция вернет значение **None**.  \n",
    "Всегда старайтесь пользоваться стандартными функциями и библиотеками, т.к. они написаны на С и работают существенно быстрее чем самописные функции!  \n",
    "Поведение вашей функции будет определяться свойcтвами переданных ей аргументов, вы можете получать разные результаты, передавая в функцию разные типы данных.\n",
    "Свойство языка когда результат функции определяется типами аргументов называется **полиморфизм**."
   ]
  },
  {
   "cell_type": "code",
   "execution_count": 6,
   "metadata": {},
   "outputs": [
    {
     "name": "stdout",
     "output_type": "stream",
     "text": [
      "2 <- результат работы нашей функции\n",
      "11 <- результат работы нашей функции\n"
     ]
    }
   ],
   "source": [
    "def mysum(a, b):\n",
    "    \"\"\"Сложение 2х переменных независимо от резльутата\"\"\"\n",
    "    return a + b\n",
    "\n",
    "print(mysum(1, 1), '<- результат работы нашей функции')\n",
    "print(mysum('1', '1'), '<- результат работы нашей функции')"
   ]
  },
  {
   "cell_type": "markdown",
   "metadata": {},
   "source": [
    "При написании функции вы также можете вызывать ошибки оператором **raise**. Пример кода ниже."
   ]
  },
  {
   "cell_type": "code",
   "execution_count": 7,
   "metadata": {},
   "outputs": [
    {
     "name": "stdout",
     "output_type": "stream",
     "text": [
      "0.1 <- результат работы нашей функции\n"
     ]
    },
    {
     "ename": "ZeroDivisionError",
     "evalue": "Деление на 0!",
     "output_type": "error",
     "traceback": [
      "\u001b[1;31m---------------------------------------------------------------------------\u001b[0m",
      "\u001b[1;31mZeroDivisionError\u001b[0m                         Traceback (most recent call last)",
      "\u001b[1;32m<ipython-input-7-f0353fac9993>\u001b[0m in \u001b[0;36m<module>\u001b[1;34m\u001b[0m\n\u001b[0;32m      8\u001b[0m \u001b[1;33m\u001b[0m\u001b[0m\n\u001b[0;32m      9\u001b[0m \u001b[0mprint\u001b[0m\u001b[1;33m(\u001b[0m\u001b[0merror_func\u001b[0m\u001b[1;33m(\u001b[0m\u001b[1;36m100\u001b[0m\u001b[1;33m)\u001b[0m\u001b[1;33m,\u001b[0m \u001b[1;34m'<- результат работы нашей функции'\u001b[0m\u001b[1;33m)\u001b[0m\u001b[1;33m\u001b[0m\u001b[1;33m\u001b[0m\u001b[0m\n\u001b[1;32m---> 10\u001b[1;33m \u001b[0mprint\u001b[0m\u001b[1;33m(\u001b[0m\u001b[0merror_func\u001b[0m\u001b[1;33m(\u001b[0m\u001b[1;36m0\u001b[0m\u001b[1;33m)\u001b[0m\u001b[1;33m,\u001b[0m \u001b[1;34m'<- результат работы нашей функции'\u001b[0m\u001b[1;33m)\u001b[0m\u001b[1;33m\u001b[0m\u001b[1;33m\u001b[0m\u001b[0m\n\u001b[0m",
      "\u001b[1;32m<ipython-input-7-f0353fac9993>\u001b[0m in \u001b[0;36merror_func\u001b[1;34m(a)\u001b[0m\n\u001b[0;32m      3\u001b[0m         \u001b[1;32mreturn\u001b[0m \u001b[1;34m'Аргумент не является числом'\u001b[0m\u001b[1;33m\u001b[0m\u001b[1;33m\u001b[0m\u001b[0m\n\u001b[0;32m      4\u001b[0m     \u001b[1;32mif\u001b[0m \u001b[0ma\u001b[0m \u001b[1;33m==\u001b[0m \u001b[1;36m0\u001b[0m\u001b[1;33m:\u001b[0m\u001b[1;33m\u001b[0m\u001b[1;33m\u001b[0m\u001b[0m\n\u001b[1;32m----> 5\u001b[1;33m         \u001b[1;32mraise\u001b[0m \u001b[0mZeroDivisionError\u001b[0m\u001b[1;33m(\u001b[0m\u001b[1;34m\"Деление на 0!\"\u001b[0m\u001b[1;33m)\u001b[0m\u001b[1;33m\u001b[0m\u001b[1;33m\u001b[0m\u001b[0m\n\u001b[0m\u001b[0;32m      6\u001b[0m     \u001b[1;32mreturn\u001b[0m \u001b[1;36m10\u001b[0m \u001b[1;33m/\u001b[0m \u001b[0ma\u001b[0m\u001b[1;33m\u001b[0m\u001b[1;33m\u001b[0m\u001b[0m\n\u001b[0;32m      7\u001b[0m \u001b[1;33m\u001b[0m\u001b[0m\n",
      "\u001b[1;31mZeroDivisionError\u001b[0m: Деление на 0!"
     ]
    }
   ],
   "source": [
    "def error_func(a):\n",
    "    if not isinstance(a, int) or isinstance(a, float):\n",
    "        return 'Аргумент не является числом'\n",
    "    if a == 0:\n",
    "        raise ZeroDivisionError(\"Деление на 0!\")\n",
    "    return 10 / a\n",
    "\n",
    "\n",
    "print(error_func(100), '<- результат работы нашей функции')\n",
    "print(error_func(0), '<- результат работы нашей функции')"
   ]
  },
  {
   "cell_type": "markdown",
   "metadata": {},
   "source": [
    "### **Области видимости**"
   ]
  },
  {
   "cell_type": "code",
   "execution_count": 8,
   "metadata": {},
   "outputs": [
    {
     "name": "stdout",
     "output_type": "stream",
     "text": [
      "['__annotations__', '__call__', '__class__', '__closure__', '__code__', '__defaults__', '__delattr__', '__dict__', '__dir__', '__doc__', '__eq__', '__format__', '__ge__', '__get__', '__getattribute__', '__globals__', '__gt__', '__hash__', '__init__', '__init_subclass__', '__kwdefaults__', '__le__', '__lt__', '__module__', '__name__', '__ne__', '__new__', '__qualname__', '__reduce__', '__reduce_ex__', '__repr__', '__setattr__', '__sizeof__', '__str__', '__subclasshook__']\n",
      "1 <- печать глобальной переменной\n",
      "Печать локальной переменной:\n",
      "100\n"
     ]
    }
   ],
   "source": [
    "# пример печати переменной d в областях видимости\n",
    "d = 1\n",
    "def func():\n",
    "    d = 100\n",
    "    print(d)\n",
    "    \n",
    "print(dir(func))\n",
    "print(d, '<- печать глобальной переменной')\n",
    "print('Печать локальной переменной:')\n",
    "func()"
   ]
  },
  {
   "cell_type": "markdown",
   "metadata": {},
   "source": [
    "Переопределять имена стандартных функций крайне не рекомендуется, лучше создать похожую собственную функцию с префиксом \\_ или my\\_.  \n",
    "В случае если в теле функции требуется переопределить глобальную переменную (например общий счетчик), то для этого используется оператор **golbal**.  \n",
    "Внимание: ключевое слово global не работает корректно в Jupyter Notebook, но в любом IDE будет переобъявляться в глобальном простанстве имен."
   ]
  },
  {
   "cell_type": "code",
   "execution_count": 9,
   "metadata": {},
   "outputs": [
    {
     "name": "stdout",
     "output_type": "stream",
     "text": [
      "2 <- печать глобальной переменной\n",
      "Печать локальной переменной:\n",
      "100\n",
      "100 <- в консоли Python у вас будет значение 100!\n"
     ]
    }
   ],
   "source": [
    "d = 2\n",
    "def func():\n",
    "    global d \n",
    "    d = 100\n",
    "    print(d)\n",
    "    \n",
    "print(d, '<- печать глобальной переменной')\n",
    "print('Печать локальной переменной:')\n",
    "func()\n",
    "print(d, '<- в консоли Python у вас будет значение 100!')"
   ]
  },
  {
   "cell_type": "markdown",
   "metadata": {},
   "source": [
    "### **Аргументы**"
   ]
  },
  {
   "cell_type": "markdown",
   "metadata": {},
   "source": [
    "Функции в Python могут принимать произвольное количество аргументов или не принимать ни одного аргумента.  \n",
    "Аргументы в функции могут быть **позиционные** или **именованные**, а также **обязательные** и **необязательные** (установленные по умолчанию). Обычно в коде в качестве аргументов передаются переменные, при этом надо следить за их привязкой к объектам в памяти во избежание ошибок!  \n",
    "Посмотрим в чем различие позиционных и именованных аргументов."
   ]
  },
  {
   "cell_type": "code",
   "execution_count": 10,
   "metadata": {},
   "outputs": [
    {
     "name": "stdout",
     "output_type": "stream",
     "text": [
      "100 <- работа функции: аргументы принимаются по порядку\n",
      "100 <- работа функции: аргументы принимаются по имени (порядок не важен)\n"
     ]
    }
   ],
   "source": [
    "def _pow(a, b):\n",
    "    return a ** b\n",
    "\n",
    "print(_pow(10, 2), '<- работа функции: аргументы принимаются по порядку')\n",
    "\n",
    "\n",
    "def _pow2(num, power):\n",
    "    return num ** power\n",
    "\n",
    "print(_pow2(power=2, num=10), '<- работа функции: аргументы принимаются по имени (порядок не важен)')"
   ]
  },
  {
   "cell_type": "markdown",
   "metadata": {},
   "source": [
    "Также вы можете устанавливать значение **по умолчанию**, в этом случае вам не обязательно указывать параметр, если вы его опустите функция возьмет значение, указанное по умолчанию через \"=\" в теле функции."
   ]
  },
  {
   "cell_type": "code",
   "execution_count": 11,
   "metadata": {},
   "outputs": [
    {
     "name": "stdout",
     "output_type": "stream",
     "text": [
      "False <- значение по умолчанию\n",
      "True <- значение принятое в качестве аргумента\n"
     ]
    }
   ],
   "source": [
    "def _bool(x=False):\n",
    "    if x:\n",
    "        return x\n",
    "    return x\n",
    "\n",
    "print(_bool(), '<- значение по умолчанию')\n",
    "print(_bool(True), '<- значение принятое в качестве аргумента')"
   ]
  },
  {
   "cell_type": "markdown",
   "metadata": {},
   "source": [
    "Если заранее неизвестно точное количество аргументов вы можете воспользоваться приемом **распаковка** \\*args.  \n",
    "Вот пример распаковки аргументов."
   ]
  },
  {
   "cell_type": "code",
   "execution_count": 12,
   "metadata": {},
   "outputs": [
    {
     "name": "stdout",
     "output_type": "stream",
     "text": [
      "[(False, <class 'bool'>), ([1, 2, 3], <class 'list'>), ('yandex', <class 'str'>), (set(), <class 'set'>)] <- печать аргументов и их типов\n"
     ]
    }
   ],
   "source": [
    "list1 = [False, [1,2,3], 'yandex', set()]\n",
    "def type_print(*args):\n",
    "    for a in args:\n",
    "        yield a, type(a)\n",
    "        \n",
    "print(list(type_print(*list1)), '<- печать аргументов и их типов')"
   ]
  },
  {
   "cell_type": "markdown",
   "metadata": {},
   "source": [
    "Похожим образом производится распаковка именованных аргументов ****kwargs**."
   ]
  },
  {
   "cell_type": "code",
   "execution_count": 15,
   "metadata": {},
   "outputs": [
    {
     "name": "stdout",
     "output_type": "stream",
     "text": [
      "a:False\n",
      "b:[1, 2, 3]\n",
      "c:yandex\n",
      "None <- печать именованных аргументов и их типов\n"
     ]
    }
   ],
   "source": [
    "# примаер распаковки аргументов через **kwargs\n",
    "list1 = [False, [1,2,3], 'yandex', set()]\n",
    "def type_print2(**kwargs):\n",
    "    for i in kwargs.items():\n",
    "        print(*i, sep=':')\n",
    "\n",
    "print(type_print2(a = list1[0], b = list1[1], c = list1[2]), '<- печать именованных аргументов и их типов')\n"
   ]
  },
  {
   "cell_type": "markdown",
   "metadata": {},
   "source": [
    "### **Проектирование функций**"
   ]
  },
  {
   "cell_type": "markdown",
   "metadata": {},
   "source": [
    "При проектировании собственных функций лучше придерживаться определенных правил для получения рабочего кода.  \n",
    "Вот правила которые стоит придерживаться при написании функций:  \n",
    "- При создании собственных модулей стараться не использовать переменную global, т.к. результат работы вашего кода может быть непредсказуемым;\n",
    "- При создании функций не использовать методы, которые изменяют передаваемые (входящие) объекты;\n",
    "- Слишком сложные и перегруженные функции лучше разбить на несколько простых и понятных;\n",
    "- Функции занимающие несколько экранов однозначно стоит разбить на более короткие."
   ]
  },
  {
   "cell_type": "markdown",
   "metadata": {},
   "source": [
    "**Структурное программирование**\n",
    "Проектирование сверху вниз "
   ]
  },
  {
   "cell_type": "markdown",
   "metadata": {},
   "source": [
    "### **Прочее**"
   ]
  },
  {
   "cell_type": "markdown",
   "metadata": {},
   "source": [
    "Функции которые существуют в рамках классов (будут рассмотрены далее) носят название методов. При записи также обозначаются def, но применяются к экземпляру класса.  \n",
    "Иногда писать небольшую функцию нецелесообразно, например"
   ]
  },
  {
   "cell_type": "code",
   "execution_count": 13,
   "metadata": {},
   "outputs": [],
   "source": [
    "def power(x, p):\n",
    "    return x ** p"
   ]
  },
  {
   "cell_type": "markdown",
   "metadata": {},
   "source": [
    "В этом случае целесообразнее использовать одностроковую анонимную (безымянную) функцию **lambda** вида:\n",
    ">lambda x, p: x ** p"
   ]
  },
  {
   "cell_type": "markdown",
   "metadata": {},
   "source": [
    "Особенности функции lambda:\n",
    "- Запись lambda компактнее, не требуется оператор return.\n",
    "- Функция lambda выполняется обычно быстрее чем стандартная функция def.\n",
    "- В целом функция lambda ведет себя аналогично def.\n",
    "- Особенно популярны анонимные функции в продвинутых конструкциях кода типа map, reduce, zip и т.д."
   ]
  },
  {
   "cell_type": "code",
   "execution_count": 14,
   "metadata": {},
   "outputs": [
    {
     "name": "stdout",
     "output_type": "stream",
     "text": [
      "[1, 243, 16] <- результат lambda функции через генератор\n",
      "[1, 243, 16] <- результат lambda функции через map()\n"
     ]
    }
   ],
   "source": [
    "tuples = ((1,3), (3,5), (2, 4))\n",
    "f = lambda x, y: x ** y\n",
    "gen_list = [f(*x) for x in tuples]\n",
    "\n",
    "map_list = map(lambda x: x[0] ** x[1], tuples)\n",
    "\n",
    "print(list(gen_list), '<- результат lambda функции через генератор')\n",
    "print(list(map_list), '<- результат lambda функции через map()')"
   ]
  },
  {
   "cell_type": "markdown",
   "metadata": {},
   "source": [
    "#### Декораторы"
   ]
  },
  {
   "cell_type": "code",
   "execution_count": 5,
   "metadata": {},
   "outputs": [
    {
     "name": "stdout",
     "output_type": "stream",
     "text": [
      "<b><i>hello habr</i></b>\n",
      "<i>hello habr</i>\n"
     ]
    }
   ],
   "source": [
    "def makebold(fn):\n",
    "    def wrapped():\n",
    "        return \"<b>\" + fn() + \"</b>\"\n",
    "    return wrapped\n",
    " \n",
    "def makeitalic(fn):\n",
    "    def wrapped():\n",
    "        return \"<i>\" + fn() + \"</i>\"\n",
    "    return wrapped\n",
    " \n",
    "def hello():\n",
    "    return \"hello habr\"\n",
    "\n",
    "makeitalic = makeitalic(hello)\n",
    "makebold = makebold(makeitalic)\n",
    "print(makebold())"
   ]
  },
  {
   "cell_type": "code",
   "execution_count": 2,
   "metadata": {},
   "outputs": [
    {
     "name": "stdout",
     "output_type": "stream",
     "text": [
      "<b><i>hello habr</i></b>\n"
     ]
    }
   ],
   "source": [
    "def makebold(fn):\n",
    "    def wrapped():\n",
    "        return \"<b>\" + fn() + \"</b>\"\n",
    "    return wrapped\n",
    " \n",
    "def makeitalic(fn):\n",
    "    def wrapped():\n",
    "        return \"<i>\" + fn() + \"</i>\"\n",
    "    return wrapped\n",
    " \n",
    "@makebold\n",
    "@makeitalic\n",
    "def hello():\n",
    "    return \"hello habr\"\n",
    " \n",
    "print(hello()) ## выведет <b><i>hello habr</i></b>"
   ]
  },
  {
   "cell_type": "markdown",
   "metadata": {},
   "source": [
    "# **ПАКЕТЫ И МОДУЛИ**"
   ]
  },
  {
   "cell_type": "code",
   "execution_count": null,
   "metadata": {},
   "outputs": [],
   "source": []
  },
  {
   "cell_type": "code",
   "execution_count": 1,
   "metadata": {},
   "outputs": [
    {
     "name": "stdout",
     "output_type": "stream",
     "text": [
      "2\n",
      "3\n",
      "4\n",
      "5\n",
      "6\n",
      "[1, 2, 3, 4, 5]\n"
     ]
    }
   ],
   "source": []
  },
  {
   "cell_type": "code",
   "execution_count": null,
   "metadata": {},
   "outputs": [],
   "source": []
  }
 ],
 "metadata": {
  "kernelspec": {
   "display_name": "Python 3",
   "language": "python",
   "name": "python3"
  },
  "language_info": {
   "codemirror_mode": {
    "name": "ipython",
    "version": 3
   },
   "file_extension": ".py",
   "mimetype": "text/x-python",
   "name": "python",
   "nbconvert_exporter": "python",
   "pygments_lexer": "ipython3",
   "version": "3.6.8"
  }
 },
 "nbformat": 4,
 "nbformat_minor": 2
}
