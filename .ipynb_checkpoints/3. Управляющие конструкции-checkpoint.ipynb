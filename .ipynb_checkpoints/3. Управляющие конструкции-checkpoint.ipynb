{
 "cells": [
  {
   "cell_type": "markdown",
   "metadata": {},
   "source": [
    "## Управляющие конструкции"
   ]
  },
  {
   "cell_type": "markdown",
   "metadata": {},
   "source": [
    "#### Условия или ветвление"
   ]
  },
  {
   "cell_type": "code",
   "execution_count": 1,
   "metadata": {},
   "outputs": [
    {
     "name": "stdout",
     "output_type": "stream",
     "text": [
      "больше чем 3\n"
     ]
    }
   ],
   "source": [
    "a = 5\n",
    "if a > 3:\n",
    "    print(a, 'больше чем 3')"
   ]
  },
  {
   "cell_type": "code",
   "execution_count": 4,
   "metadata": {},
   "outputs": [
    {
     "name": "stdout",
     "output_type": "stream",
     "text": [
      "5 больше чем 3\n",
      "5 больше чем 3\n"
     ]
    }
   ],
   "source": [
    "a = 5\n",
    "if a > 3: print(a, 'больше чем 3')\n",
    "    \n",
    "print(a, 'больше чем 3') if a > 3 else print(a, 'меньше или равно 3')"
   ]
  },
  {
   "cell_type": "code",
   "execution_count": null,
   "metadata": {},
   "outputs": [],
   "source": [
    "a = 15\n",
    "if a % 2 == 0:\n",
    "    print('ok')\n",
    "else:\n",
    "    print('not ok')"
   ]
  },
  {
   "cell_type": "markdown",
   "metadata": {},
   "source": [
    "Если требуется реализовать более сложное дерево условий можно использовать вложенные условия."
   ]
  },
  {
   "cell_type": "code",
   "execution_count": 5,
   "metadata": {},
   "outputs": [
    {
     "name": "stdout",
     "output_type": "stream",
     "text": [
      "5 является нечетным чилом\n"
     ]
    }
   ],
   "source": [
    "a = 5\n",
    "if a > 3:\n",
    "    if a % 2 == 0:\n",
    "        print(a, 'является четным числом')\n",
    "    else:\n",
    "        print(a, 'является нечетным чилом')\n",
    "else:\n",
    "    print(a, 'меньше или равно 3')"
   ]
  },
  {
   "cell_type": "code",
   "execution_count": 6,
   "metadata": {},
   "outputs": [
    {
     "name": "stdout",
     "output_type": "stream",
     "text": [
      "3 меньше или равно 3\n"
     ]
    }
   ],
   "source": [
    "a = 3\n",
    "if a <= 3:\n",
    "    print(a, 'меньше или равно 3')\n",
    "elif a % 2 == 0:\n",
    "    print(a, 'является четным числом')\n",
    "else:\n",
    "    print(a, 'является нечетным числом')"
   ]
  },
  {
   "cell_type": "markdown",
   "metadata": {},
   "source": [
    "**pass** заглушка, котоая позволит вернуться к дописанию кода позднее."
   ]
  },
  {
   "cell_type": "code",
   "execution_count": null,
   "metadata": {},
   "outputs": [],
   "source": [
    "a = 5\n",
    "if a > 3:\n",
    "    pass\n",
    "else:\n",
    "    print(a, 'меньше или равно 3')"
   ]
  },
  {
   "cell_type": "markdown",
   "metadata": {},
   "source": [
    "**Внимание!!!**: в питоне в качестве булевых операторов True или False могут также выступать другие типы данных.  \n",
    "\n",
    "В качестве **False** могут использоваться также:  [], (), {}, '', \"\"  \n",
    "В качестве **True**, любой не пустой и не нолевой элемент."
   ]
  },
  {
   "cell_type": "code",
   "execution_count": null,
   "metadata": {},
   "outputs": [],
   "source": [
    "a = []\n",
    "print(a, 'значение True') if a else print(a, 'значение False')\n",
    "a = [1,2]\n",
    "print(a, 'значение True') if a else print(a, 'значение False')\n",
    "a = set()\n",
    "print(a, 'значение True') if a else print(a, 'значение False')\n",
    "a = {1,2}\n",
    "print(a, 'значение True') if a else print(a, 'значение False')\n",
    "a = ''\n",
    "print(a, 'значение True') if a else print(a, 'значение False')\n",
    "a = 'text'\n",
    "print(a, 'значение True') if a else print(a, 'значение False')"
   ]
  },
  {
   "cell_type": "code",
   "execution_count": 8,
   "metadata": {},
   "outputs": [
    {
     "name": "stdout",
     "output_type": "stream",
     "text": [
      "True True\n",
      "True not False\n"
     ]
    }
   ],
   "source": [
    "a = True\n",
    "print(a, 'True') if a else print(a, 'False')\n",
    "\n",
    "a = True\n",
    "print(a, 'not True') if not a else print(a, 'not False')"
   ]
  },
  {
   "cell_type": "code",
   "execution_count": 9,
   "metadata": {},
   "outputs": [
    {
     "name": "stdout",
     "output_type": "stream",
     "text": [
      "9 число больше 5 И кратно 3\n",
      "9 число больше 10 ИЛИ кратно 3\n"
     ]
    }
   ],
   "source": [
    "a = 9\n",
    "if (a > 5) and (a % 3 == 0):\n",
    "    print(a, 'число больше 5 И кратно 3')\n",
    "\n",
    "if (a > 10) or (a % 3 == 0):\n",
    "    print(a, 'число больше 10 ИЛИ кратно 3')"
   ]
  },
  {
   "cell_type": "markdown",
   "metadata": {},
   "source": [
    "#### Циклы while, for. break, continue, else."
   ]
  },
  {
   "cell_type": "markdown",
   "metadata": {},
   "source": [
    "Цикл while"
   ]
  },
  {
   "cell_type": "code",
   "execution_count": null,
   "metadata": {},
   "outputs": [],
   "source": [
    "i = 0\n",
    "while i < 10:\n",
    "    print('*****')\n",
    "    i += 1"
   ]
  },
  {
   "cell_type": "markdown",
   "metadata": {},
   "source": [
    "Цикл for"
   ]
  },
  {
   "cell_type": "code",
   "execution_count": null,
   "metadata": {},
   "outputs": [],
   "source": [
    "for x in range(10):\n",
    "    print('*****')"
   ]
  },
  {
   "cell_type": "code",
   "execution_count": 1,
   "metadata": {},
   "outputs": [
    {
     "name": "stdout",
     "output_type": "stream",
     "text": [
      "1\n",
      "9\n",
      "16\n",
      "25\n",
      "36\n"
     ]
    }
   ],
   "source": [
    "for x in 1,3,4,5,6:\n",
    "    print(x**2)"
   ]
  },
  {
   "cell_type": "markdown",
   "metadata": {},
   "source": [
    "Цикл while"
   ]
  },
  {
   "cell_type": "code",
   "execution_count": null,
   "metadata": {},
   "outputs": [],
   "source": [
    "i = 0\n",
    "while i < 10:\n",
    "    print('*****')\n",
    "    i += 1"
   ]
  }
 ],
 "metadata": {
  "kernelspec": {
   "display_name": "Python 3",
   "language": "python",
   "name": "python3"
  },
  "language_info": {
   "codemirror_mode": {
    "name": "ipython",
    "version": 3
   },
   "file_extension": ".py",
   "mimetype": "text/x-python",
   "name": "python",
   "nbconvert_exporter": "python",
   "pygments_lexer": "ipython3",
   "version": "3.6.8"
  }
 },
 "nbformat": 4,
 "nbformat_minor": 2
}
