{
 "cells": [
  {
   "cell_type": "markdown",
   "metadata": {},
   "source": [
    "### Параллельное программирование"
   ]
  },
  {
   "cell_type": "code",
   "execution_count": null,
   "metadata": {},
   "outputs": [],
   "source": [
    "# пример последовательного выполнения\n",
    "print('haha')\n",
    "x = 1\n",
    "y = 2\n",
    "print(x*y)"
   ]
  },
  {
   "cell_type": "markdown",
   "metadata": {},
   "source": [
    "Блокирующие задачи  \n",
    "ожидание действий. Исполнение в этот момент останавливатеся, хотя что-то можно бы и делать"
   ]
  },
  {
   "cell_type": "code",
   "execution_count": null,
   "metadata": {},
   "outputs": [],
   "source": [
    "import threading\n",
    "import time\n",
    "\n",
    "def sleeper(n, name):\n",
    "    print(f'Привет я {name}. Собираюсь поспать.')\n",
    "    time.sleep(n)\n",
    "    print(f'{name} проснулся')\n",
    "\n",
    "t = threading.Thread(target=sleeper, name='Thread', args=(5, 'Thread1'))\n",
    "t.start()\n",
    "for i in range(10):\n",
    "    print('Hello')\n",
    "    if i == 8:\n",
    "        t.join()\n",
    "        print('Отрабатываем кода Thread1 проснеться')"
   ]
  },
  {
   "cell_type": "code",
   "execution_count": null,
   "metadata": {},
   "outputs": [],
   "source": [
    "import threading\n",
    "import time\n",
    "\n",
    "def sleeper(n, name):\n",
    "    print(f'Привет я {name}. Собираюсь поспать.')\n",
    "    time.sleep(n)\n",
    "    print(f'{name} проснулся')\n",
    "\n",
    "start = time.time()\n",
    "thread_list = []\n",
    "for i in range(3):\n",
    "    t = threading.Thread(target=sleeper, name=f'Thread_{i}', args=(5, f'Thread_{i}'))\n",
    "    thread_list.append(t)\n",
    "    \n",
    "    t.start()\n",
    "    print(f'{t.name} поток в работе')\n",
    "\n",
    "for i in range(10):\n",
    "    print('Hello')    \n",
    "    \n",
    "for t in thread_list:\n",
    "    t.join()\n",
    "    \n",
    "end = time.time()\n",
    "    \n",
    "print(f'time taken {end-start}')\n",
    "print('all operations done')"
   ]
  },
  {
   "cell_type": "markdown",
   "metadata": {},
   "source": [
    "Deamons потокип"
   ]
  },
  {
   "cell_type": "code",
   "execution_count": null,
   "metadata": {},
   "outputs": [],
   "source": [
    "import threading\n",
    "import time\n",
    "\n",
    "total = 4\n",
    "\n",
    "def creates_item():\n",
    "    global total\n",
    "    for i in range(10):\n",
    "        time.sleep(2)\n",
    "        print('iteration {}'.format(i))\n",
    "        total += 1\n",
    "    print('iterations done')\n",
    "    \n",
    "    \n",
    "def creates_item2():\n",
    "    global total\n",
    "    for i in range(7):\n",
    "        time.sleep(1)\n",
    "        print('iteration {}'.format(i))\n",
    "        total += 1\n",
    "    print('iterations done')\n",
    "    \n",
    "def limits_items():\n",
    "    global total\n",
    "    while True:\n",
    "        if total > 5:\n",
    "            print('totla overloaded')\n",
    "            total -= 3\n",
    "            print('subtracted by 3')\n",
    "        else:\n",
    "            time.sleep(1)\n",
    "            print('waiting')\n",
    "            \n",
    "creates1 = threading.Thread(target = creates_item)\n",
    "creates2 = threading.Thread(target = creates_item2)\n",
    "limiter = threading.Thread(target=limits_items, daemon=True)\n",
    "\n",
    "creates1.start()\n",
    "creates2.start()\n",
    "limiter.start()\n",
    "\n",
    "creates1.join()\n",
    "creates2.join()\n",
    "# limiter.join()\n",
    "print('')"
   ]
  },
  {
   "cell_type": "markdown",
   "metadata": {},
   "source": [
    "Подклассы потоки"
   ]
  },
  {
   "cell_type": "code",
   "execution_count": null,
   "metadata": {},
   "outputs": [],
   "source": [
    "import threading\n",
    "import time\n",
    "\n",
    "class MyThread(threading.Thread):\n",
    "    def __init__(self, number, func, args):\n",
    "        threading.Thread.__init__(self)\n",
    "        self.number = number\n",
    "        self.func   = func\n",
    "        self.args   = args\n",
    "        \n",
    "    def run(self):\n",
    "        print(f'{self.number} has started')\n",
    "        self.func(*self.args)\n",
    "        print(f'{self.number} has finished')\n",
    "        \n",
    "def double(number, cycles):\n",
    "    for i in range(cycles):\n",
    "        number += number\n",
    "    print(number)\n",
    "    \n",
    "threads_list = []\n",
    "\n",
    "for i in range(50):\n",
    "    t = MyThread(number=i+1, func=double, args=[i, 3])\n",
    "    threads_list.append(t)\n",
    "    t.start()\n",
    "\n",
    "for t in threads_list:\n",
    "    t.join()"
   ]
  },
  {
   "cell_type": "code",
   "execution_count": null,
   "metadata": {},
   "outputs": [],
   "source": [
    "import threading\n",
    "import time\n",
    "\n",
    "class MyThread(threading.Thread):\n",
    "    # так выглядит __init__ класса thread по умолчанию\n",
    "#     def __init__(self, group=None, target=None, name=None,\n",
    "#                     args=(), kwargs={}, *, daemon=None):\n",
    "\n",
    "    # создадим свое\n",
    "    def __init__(self, number, style, *args, **kwargs):\n",
    "        super(MyThread, self).__init__(*args, **kwargs)\n",
    "        self.number = number\n",
    "        self.style  = style\n",
    "        \n",
    "    def run(self, *args, **kwargs):\n",
    "        print(f'{self.number} has started')\n",
    "        super(MyThread, self).run(*args, **kwargs)\n",
    "        print(f'{self.number} finished')\n",
    "        \n",
    "def sleeper(num, style):\n",
    "    print(f'sleeping for {num} sec style {style}')\n",
    "    time.sleep(num)\n",
    "\n",
    "t = MyThread(number=3, style='green', target=sleeper,\n",
    "            args=[3, 'green'])\n",
    "t.start()\n"
   ]
  },
  {
   "cell_type": "markdown",
   "metadata": {},
   "source": [
    "Болкировки"
   ]
  },
  {
   "cell_type": "code",
   "execution_count": null,
   "metadata": {},
   "outputs": [],
   "source": [
    "import threading\n",
    "\n",
    "l = threading.Lock() \n",
    "x = 0\n",
    "COUNT = 1000\n",
    "\n",
    "def adding_2():\n",
    "    global x\n",
    "    with l:\n",
    "        for i in range(COUNT):\n",
    "            x += 2\n",
    "        \n",
    "def adding_3():\n",
    "    global x\n",
    "    with l:\n",
    "        for i in range(COUNT):\n",
    "            x += 3\n",
    "        \n",
    "def subtracting_4():\n",
    "    global x\n",
    "    with l:\n",
    "        for i in range(COUNT):\n",
    "            x -= 4\n",
    "\n",
    "def subtracting_1():\n",
    "    global x\n",
    "    with l:\n",
    "        for i in range(COUNT):\n",
    "            x -= 1\n",
    "for i in range(1000):\n",
    "    t0 = threading.Thread(target=adding_2)\n",
    "    t1 = threading.Thread(target=adding_3)\n",
    "    t2 = threading.Thread(target=subtracting_4)\n",
    "    t3 = threading.Thread(target=subtracting_1)\n",
    "\n",
    "    t0.start()\n",
    "    t1.start()\n",
    "    t2.start()\n",
    "    t3.start()\n",
    "\n",
    "    t0.join()\n",
    "    t1.join()\n",
    "    t2.join()\n",
    "    t3.join()\n",
    "    if x != 0:\n",
    "        print(i,x)\n",
    "        break\n",
    "\n"
   ]
  },
  {
   "cell_type": "markdown",
   "metadata": {},
   "source": [
    "Очереди  \n",
    "- FIFO  \n",
    "- LIFO  \n",
    "- Priority  "
   ]
  },
  {
   "cell_type": "code",
   "execution_count": null,
   "metadata": {},
   "outputs": [],
   "source": [
    "import queue\n",
    "import threading\n",
    "import time\n",
    "\n",
    "def putting_thread(q):\n",
    "    while True:\n",
    "        print('start thread')\n",
    "        time.sleep(10)\n",
    "        q.put(5)\n",
    "        print('sup something')\n",
    "        \n",
    "q = queue.Queue()\n",
    "t = threading.Thread(target=putting_thread, args=(q,), daemon=True)\n",
    "t.start()\n",
    "\n",
    "q.put(0)\n",
    "print(q.get(), 'first item')\n",
    "print('----')\n",
    "\n",
    "print(q.get(), 'finish')"
   ]
  },
  {
   "cell_type": "markdown",
   "metadata": {},
   "source": [
    "Asyncio, async/awayt"
   ]
  },
  {
   "cell_type": "markdown",
   "metadata": {},
   "source": [
    "Как это работало с python 3.4"
   ]
  },
  {
   "cell_type": "code",
   "execution_count": null,
   "metadata": {},
   "outputs": [],
   "source": [
    "import asyncio\n",
    "from time import time\n",
    "\n",
    "\n",
    "@asyncio.coroutine\n",
    "def print_nums():\n",
    "    num = 1\n",
    "    while True:\n",
    "        print(num)\n",
    "        num +=1 \n",
    "        yield from asyncio.sleep(1)\n",
    "\n",
    "@asyncio.coroutine\n",
    "def print_time():\n",
    "    count = 0\n",
    "    while True:\n",
    "        if count % 3 == 0:\n",
    "            print(f'{count} seconds have passed')\n",
    "        count += 1\n",
    "        yield from asyncio.sleep(1)\n",
    "        \n",
    "\n",
    "@asyncio.coroutine\n",
    "def main():\n",
    "    task1 = asyncio.ensure_future(print_nums())\n",
    "    task2 = asyncio.ensure_future(print_time())\n",
    "    \n",
    "    yield from asyncio.gather(task1, task2)\n",
    "\n",
    "    \n",
    "loop = asyncio.get_event_loop()\n",
    "loop.run_until_complete(main())\n",
    "loop.close()"
   ]
  },
  {
   "cell_type": "markdown",
   "metadata": {},
   "source": [
    "python 3.5"
   ]
  },
  {
   "cell_type": "code",
   "execution_count": null,
   "metadata": {},
   "outputs": [],
   "source": [
    "import asyncio\n",
    "from time import time\n",
    "\n",
    "\n",
    "async def print_nums():\n",
    "    num = 1\n",
    "    while True:\n",
    "        print(num)\n",
    "        num +=1 \n",
    "        await asyncio.sleep(0.5)\n",
    "\n",
    "\n",
    "async def print_time():\n",
    "    count = 0\n",
    "    while True:\n",
    "        if count % 3 == 0:\n",
    "            print(f'{count} seconds have passed')\n",
    "        count += 1\n",
    "        await asyncio.sleep(1)\n",
    "        \n",
    "\n",
    "\n",
    "async def main():\n",
    "    task1 = asyncio.create_task(print_nums())\n",
    "    task2 = asyncio.create_task(print_time())\n",
    "    \n",
    "    await asyncio.gather(task1, task2)\n",
    "\n",
    "    \n",
    "asyncio.run(main())\n"
   ]
  },
  {
   "cell_type": "markdown",
   "metadata": {},
   "source": [
    "Линейная реализация"
   ]
  },
  {
   "cell_type": "code",
   "execution_count": null,
   "metadata": {},
   "outputs": [],
   "source": [
    "import requests\n",
    "\n",
    "\n",
    "def get_file(url):\n",
    "    r = requests.get(url, allow_redirects=True)\n",
    "    return r\n",
    "\n",
    "def write_file(response):\n",
    "    filename = response.url.split('/')[-1]\n",
    "    with open('images/' + filename, 'wb') as f:\n",
    "        f.write(response.content)\n",
    "\n",
    "def main():\n",
    "    t0 = time()\n",
    "    url = 'https://loremflickr.com/320/240'\n",
    "    \n",
    "    for i in range(10):\n",
    "        write_file(get_file(url))\n",
    "    \n",
    "    print(time() - t0)\n",
    "        \n",
    "main()"
   ]
  },
  {
   "cell_type": "code",
   "execution_count": 1,
   "metadata": {},
   "outputs": [
    {
     "ename": "RuntimeError",
     "evalue": "This event loop is already running",
     "output_type": "error",
     "traceback": [
      "\u001b[1;31m---------------------------------------------------------------------------\u001b[0m",
      "\u001b[1;31mRuntimeError\u001b[0m                              Traceback (most recent call last)",
      "\u001b[1;32m<ipython-input-1-8cd112a3e780>\u001b[0m in \u001b[0;36m<module>\u001b[1;34m\u001b[0m\n\u001b[0;32m     26\u001b[0m \u001b[1;33m\u001b[0m\u001b[0m\n\u001b[0;32m     27\u001b[0m \u001b[0mloop\u001b[0m \u001b[1;33m=\u001b[0m \u001b[0masyncio\u001b[0m\u001b[1;33m.\u001b[0m\u001b[0mget_event_loop\u001b[0m\u001b[1;33m(\u001b[0m\u001b[1;33m)\u001b[0m\u001b[1;33m\u001b[0m\u001b[1;33m\u001b[0m\u001b[0m\n\u001b[1;32m---> 28\u001b[1;33m \u001b[0mloop\u001b[0m\u001b[1;33m.\u001b[0m\u001b[0mrun_until_complete\u001b[0m\u001b[1;33m(\u001b[0m\u001b[0mmain\u001b[0m\u001b[1;33m(\u001b[0m\u001b[1;33m)\u001b[0m\u001b[1;33m)\u001b[0m\u001b[1;33m\u001b[0m\u001b[1;33m\u001b[0m\u001b[0m\n\u001b[0m\u001b[0;32m     29\u001b[0m \u001b[0mloop\u001b[0m\u001b[1;33m.\u001b[0m\u001b[0mclose\u001b[0m\u001b[1;33m(\u001b[0m\u001b[1;33m)\u001b[0m\u001b[1;33m\u001b[0m\u001b[1;33m\u001b[0m\u001b[0m\n",
      "\u001b[1;32mC:\\Anaconda\\envs\\snowflakes\\lib\\asyncio\\base_events.py\u001b[0m in \u001b[0;36mrun_until_complete\u001b[1;34m(self, future)\u001b[0m\n\u001b[0;32m    469\u001b[0m         \u001b[0mfuture\u001b[0m\u001b[1;33m.\u001b[0m\u001b[0madd_done_callback\u001b[0m\u001b[1;33m(\u001b[0m\u001b[0m_run_until_complete_cb\u001b[0m\u001b[1;33m)\u001b[0m\u001b[1;33m\u001b[0m\u001b[1;33m\u001b[0m\u001b[0m\n\u001b[0;32m    470\u001b[0m         \u001b[1;32mtry\u001b[0m\u001b[1;33m:\u001b[0m\u001b[1;33m\u001b[0m\u001b[1;33m\u001b[0m\u001b[0m\n\u001b[1;32m--> 471\u001b[1;33m             \u001b[0mself\u001b[0m\u001b[1;33m.\u001b[0m\u001b[0mrun_forever\u001b[0m\u001b[1;33m(\u001b[0m\u001b[1;33m)\u001b[0m\u001b[1;33m\u001b[0m\u001b[1;33m\u001b[0m\u001b[0m\n\u001b[0m\u001b[0;32m    472\u001b[0m         \u001b[1;32mexcept\u001b[0m\u001b[1;33m:\u001b[0m\u001b[1;33m\u001b[0m\u001b[1;33m\u001b[0m\u001b[0m\n\u001b[0;32m    473\u001b[0m             \u001b[1;32mif\u001b[0m \u001b[0mnew_task\u001b[0m \u001b[1;32mand\u001b[0m \u001b[0mfuture\u001b[0m\u001b[1;33m.\u001b[0m\u001b[0mdone\u001b[0m\u001b[1;33m(\u001b[0m\u001b[1;33m)\u001b[0m \u001b[1;32mand\u001b[0m \u001b[1;32mnot\u001b[0m \u001b[0mfuture\u001b[0m\u001b[1;33m.\u001b[0m\u001b[0mcancelled\u001b[0m\u001b[1;33m(\u001b[0m\u001b[1;33m)\u001b[0m\u001b[1;33m:\u001b[0m\u001b[1;33m\u001b[0m\u001b[1;33m\u001b[0m\u001b[0m\n",
      "\u001b[1;32mC:\\Anaconda\\envs\\snowflakes\\lib\\asyncio\\base_events.py\u001b[0m in \u001b[0;36mrun_forever\u001b[1;34m(self)\u001b[0m\n\u001b[0;32m    423\u001b[0m         \u001b[0mself\u001b[0m\u001b[1;33m.\u001b[0m\u001b[0m_check_closed\u001b[0m\u001b[1;33m(\u001b[0m\u001b[1;33m)\u001b[0m\u001b[1;33m\u001b[0m\u001b[1;33m\u001b[0m\u001b[0m\n\u001b[0;32m    424\u001b[0m         \u001b[1;32mif\u001b[0m \u001b[0mself\u001b[0m\u001b[1;33m.\u001b[0m\u001b[0mis_running\u001b[0m\u001b[1;33m(\u001b[0m\u001b[1;33m)\u001b[0m\u001b[1;33m:\u001b[0m\u001b[1;33m\u001b[0m\u001b[1;33m\u001b[0m\u001b[0m\n\u001b[1;32m--> 425\u001b[1;33m             \u001b[1;32mraise\u001b[0m \u001b[0mRuntimeError\u001b[0m\u001b[1;33m(\u001b[0m\u001b[1;34m'This event loop is already running'\u001b[0m\u001b[1;33m)\u001b[0m\u001b[1;33m\u001b[0m\u001b[1;33m\u001b[0m\u001b[0m\n\u001b[0m\u001b[0;32m    426\u001b[0m         \u001b[1;32mif\u001b[0m \u001b[0mevents\u001b[0m\u001b[1;33m.\u001b[0m\u001b[0m_get_running_loop\u001b[0m\u001b[1;33m(\u001b[0m\u001b[1;33m)\u001b[0m \u001b[1;32mis\u001b[0m \u001b[1;32mnot\u001b[0m \u001b[1;32mNone\u001b[0m\u001b[1;33m:\u001b[0m\u001b[1;33m\u001b[0m\u001b[1;33m\u001b[0m\u001b[0m\n\u001b[0;32m    427\u001b[0m             raise RuntimeError(\n",
      "\u001b[1;31mRuntimeError\u001b[0m: This event loop is already running"
     ]
    }
   ],
   "source": [
    "import asyncio\n",
    "import aiohttp\n",
    "\n",
    "def write_image(data):\n",
    "    filename = f'file-{int(time() * 1000)}.jpeg'\n",
    "    with open('images/'+filename, 'wb') as f:\n",
    "        f.write(data)\n",
    "\n",
    "async def fetch_content(url, session):\n",
    "    async with session.get(url, allow_redirect=True) as resp:\n",
    "        data = await resp.read()\n",
    "        write_image(data)\n",
    "\n",
    "async def main():\n",
    "    t0 = time()\n",
    "    url = 'https://loremflickr.com/320/240'\n",
    "    tasks = []\n",
    "    async with aiohttp.ClientSession() as session:\n",
    "        for i in range(10):\n",
    "            task = asyncio.create_task(fetch_content(url, session))\n",
    "            tasks.append(task)\n",
    "        \n",
    "        await asyncio.gather(*tasks)\n",
    "        \n",
    "asyncio.run(main())"
   ]
  },
  {
   "cell_type": "code",
   "execution_count": null,
   "metadata": {},
   "outputs": [],
   "source": []
  }
 ],
 "metadata": {
  "kernelspec": {
   "display_name": "Python 3",
   "language": "python",
   "name": "python3"
  },
  "language_info": {
   "codemirror_mode": {
    "name": "ipython",
    "version": 3
   },
   "file_extension": ".py",
   "mimetype": "text/x-python",
   "name": "python",
   "nbconvert_exporter": "python",
   "pygments_lexer": "ipython3",
   "version": "3.6.8"
  }
 },
 "nbformat": 4,
 "nbformat_minor": 2
}
