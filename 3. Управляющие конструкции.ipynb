{
 "cells": [
  {
   "cell_type": "markdown",
   "metadata": {},
   "source": [
    "## Управляющие конструкции"
   ]
  },
  {
   "cell_type": "markdown",
   "metadata": {},
   "source": [
    "#### Условия или ветвление"
   ]
  },
  {
   "cell_type": "code",
   "execution_count": 1,
   "metadata": {},
   "outputs": [
    {
     "name": "stdout",
     "output_type": "stream",
     "text": [
      "больше чем 3\n"
     ]
    }
   ],
   "source": [
    "a = 5\n",
    "if a > 3:\n",
    "    print(a, 'больше чем 3')"
   ]
  },
  {
   "cell_type": "code",
   "execution_count": 4,
   "metadata": {},
   "outputs": [
    {
     "name": "stdout",
     "output_type": "stream",
     "text": [
      "5 больше чем 3\n",
      "5 больше чем 3\n"
     ]
    }
   ],
   "source": [
    "a = 5\n",
    "if a > 3: print(a, 'больше чем 3')\n",
    "    \n",
    "print(a, 'больше чем 3') if a > 3 else print(a, 'меньше или равно 3')"
   ]
  },
  {
   "cell_type": "code",
   "execution_count": null,
   "metadata": {},
   "outputs": [],
   "source": [
    "a = 15\n",
    "if a % 2 == 0:\n",
    "    print('ok')\n",
    "else:\n",
    "    print('not ok')"
   ]
  },
  {
   "cell_type": "markdown",
   "metadata": {},
   "source": [
    "Если требуется реализовать более сложное дерево условий можно использовать вложенные условия."
   ]
  },
  {
   "cell_type": "code",
   "execution_count": 5,
   "metadata": {},
   "outputs": [
    {
     "name": "stdout",
     "output_type": "stream",
     "text": [
      "5 является нечетным чилом\n"
     ]
    }
   ],
   "source": [
    "a = 5\n",
    "if a > 3:\n",
    "    if a % 2 == 0:\n",
    "        print(a, 'является четным числом')\n",
    "    else:\n",
    "        print(a, 'является нечетным чилом')\n",
    "else:\n",
    "    print(a, 'меньше или равно 3')"
   ]
  },
  {
   "cell_type": "code",
   "execution_count": 6,
   "metadata": {},
   "outputs": [
    {
     "name": "stdout",
     "output_type": "stream",
     "text": [
      "3 меньше или равно 3\n"
     ]
    }
   ],
   "source": [
    "a = 3\n",
    "if a <= 3:\n",
    "    print(a, 'меньше или равно 3')\n",
    "elif a % 2 == 0:\n",
    "    print(a, 'является четным числом')\n",
    "else:\n",
    "    print(a, 'является нечетным числом')"
   ]
  },
  {
   "cell_type": "markdown",
   "metadata": {},
   "source": [
    "**pass** заглушка, котоая позволит вернуться к дописанию кода позднее."
   ]
  },
  {
   "cell_type": "code",
   "execution_count": null,
   "metadata": {},
   "outputs": [],
   "source": [
    "a = 5\n",
    "if a > 3:\n",
    "    pass\n",
    "else:\n",
    "    print(a, 'меньше или равно 3')"
   ]
  },
  {
   "cell_type": "markdown",
   "metadata": {},
   "source": [
    "**Внимание!!!**: в питоне в качестве булевых операторов True или False могут также выступать другие типы данных.  \n",
    "\n",
    "В качестве **False** могут использоваться также:  [], (), {}, '', \"\"  \n",
    "В качестве **True**, любой не пустой и не нолевой элемент."
   ]
  },
  {
   "cell_type": "code",
   "execution_count": null,
   "metadata": {},
   "outputs": [],
   "source": [
    "a = []\n",
    "print(a, 'значение True') if a else print(a, 'значение False')\n",
    "a = [1,2]\n",
    "print(a, 'значение True') if a else print(a, 'значение False')\n",
    "a = set()\n",
    "print(a, 'значение True') if a else print(a, 'значение False')\n",
    "a = {1,2}\n",
    "print(a, 'значение True') if a else print(a, 'значение False')\n",
    "a = ''\n",
    "print(a, 'значение True') if a else print(a, 'значение False')\n",
    "a = 'text'\n",
    "print(a, 'значение True') if a else print(a, 'значение False')"
   ]
  },
  {
   "cell_type": "code",
   "execution_count": 8,
   "metadata": {},
   "outputs": [
    {
     "name": "stdout",
     "output_type": "stream",
     "text": [
      "True True\n",
      "True not False\n"
     ]
    }
   ],
   "source": [
    "a = True\n",
    "print(a, 'True') if a else print(a, 'False')\n",
    "\n",
    "a = True\n",
    "print(a, 'not True') if not a else print(a, 'not False')"
   ]
  },
  {
   "cell_type": "code",
   "execution_count": 9,
   "metadata": {},
   "outputs": [
    {
     "name": "stdout",
     "output_type": "stream",
     "text": [
      "9 число больше 5 И кратно 3\n",
      "9 число больше 10 ИЛИ кратно 3\n"
     ]
    }
   ],
   "source": [
    "a = 9\n",
    "if (a > 5) and (a % 3 == 0):\n",
    "    print(a, 'число больше 5 И кратно 3')\n",
    "\n",
    "if (a > 10) or (a % 3 == 0):\n",
    "    print(a, 'число больше 10 ИЛИ кратно 3')"
   ]
  },
  {
   "cell_type": "markdown",
   "metadata": {},
   "source": [
    "#### Циклы while, for. break, continue, else."
   ]
  },
  {
   "cell_type": "markdown",
   "metadata": {},
   "source": [
    "### Цикл while"
   ]
  },
  {
   "cell_type": "code",
   "execution_count": null,
   "metadata": {},
   "outputs": [],
   "source": [
    "i = 0\n",
    "while i < 10:\n",
    "    print('*****')\n",
    "    i += 1"
   ]
  },
  {
   "cell_type": "code",
   "execution_count": null,
   "metadata": {},
   "outputs": [],
   "source": [
    "a = 0\n",
    "while a < 5:\n",
    "    print(a)\n",
    "    a += 1"
   ]
  },
  {
   "cell_type": "code",
   "execution_count": 10,
   "metadata": {},
   "outputs": [
    {
     "name": "stdout",
     "output_type": "stream",
     "text": [
      "1 текущая итерация\n",
      "2 текущая итерация\n",
      "4 текущая итерация\n",
      "5 текущая итерация\n",
      "7 текущая итерация\n",
      "8 текущая итерация\n",
      "10 текущая итерация\n",
      "11 на этом значении прерываем цикл\n"
     ]
    }
   ],
   "source": [
    "a = 0\n",
    "while True:\n",
    "    if a > 10:\n",
    "        print(a, 'на этом значении прерываем цикл')\n",
    "        break\n",
    "    elif a % 3 == 0:\n",
    "        a += 1\n",
    "        continue\n",
    "    print(a, 'текущая итерация')\n",
    "    a += 1\n"
   ]
  },
  {
   "cell_type": "markdown",
   "metadata": {},
   "source": [
    "Конструкция **while True** (\"вечный\" цикл) может быть полезна когда нет понимания количества итераций, но есть понимание когда его следует прервать.  \n",
    "С циклами также как и с условными конструкциями можно использовать оператор **pass**."
   ]
  },
  {
   "cell_type": "markdown",
   "metadata": {},
   "source": [
    "### Цикл for"
   ]
  },
  {
   "cell_type": "code",
   "execution_count": 11,
   "metadata": {},
   "outputs": [
    {
     "name": "stdout",
     "output_type": "stream",
     "text": [
      "*****\n",
      "*****\n",
      "*****\n",
      "*****\n",
      "*****\n",
      "*****\n",
      "*****\n",
      "*****\n",
      "*****\n",
      "*****\n"
     ]
    }
   ],
   "source": [
    "for x in range(10):\n",
    "    print('*****')"
   ]
  },
  {
   "cell_type": "code",
   "execution_count": 1,
   "metadata": {},
   "outputs": [
    {
     "name": "stdout",
     "output_type": "stream",
     "text": [
      "1\n",
      "9\n",
      "16\n",
      "25\n",
      "36\n"
     ]
    }
   ],
   "source": [
    "for x in 1,3,4,5,6:\n",
    "    print(x**2)"
   ]
  },
  {
   "cell_type": "markdown",
   "metadata": {},
   "source": [
    "Варианты перебора коллекций элементов."
   ]
  },
  {
   "cell_type": "code",
   "execution_count": 14,
   "metadata": {},
   "outputs": [
    {
     "name": "stdout",
     "output_type": "stream",
     "text": [
      "т --- перебор строки\n",
      "е --- перебор строки\n",
      "к --- перебор строки\n",
      "с --- перебор строки\n",
      "т --- перебор строки\n",
      "('a', 1) --- перебор словаря\n",
      "('b', 2) --- перебор словаря\n",
      "('c', 3) --- перебор словаря\n"
     ]
    }
   ],
   "source": [
    "# перебор строки\n",
    "string = 'текст'\n",
    "for s in string:\n",
    "    print(s, '--- перебор строки')\n",
    "\n",
    "# перебор записей словаря\n",
    "dictionary = {'a': 1, 'b': 2, 'c': 3}\n",
    "for d in dictionary.items():\n",
    "    print(d, '--- перебор словаря')"
   ]
  },
  {
   "cell_type": "code",
   "execution_count": 25,
   "metadata": {},
   "outputs": [
    {
     "name": "stdout",
     "output_type": "stream",
     "text": [
      "1 --- проход по элементу с индексом 0\n",
      "2 --- проход по элементу с индексом 1\n",
      "3 --- проход по элементу с индексом 2\n",
      "4 --- проход по элементу с индексом 3\n",
      "5 --- проход по элементу с индексом 4\n"
     ]
    }
   ],
   "source": [
    "# повторим блок инструкций 5 раз\n",
    "for i in range(5):\n",
    "    print(i + 1 ,f'--- проход по элементу с индексом {i}')"
   ]
  },
  {
   "cell_type": "code",
   "execution_count": 23,
   "metadata": {},
   "outputs": [
    {
     "name": "stdout",
     "output_type": "stream",
     "text": [
      "купить душевая кабина в Москве\n",
      "купить душевая кабина в СПб\n",
      "купить раковина в Москве\n",
      "купить раковина в СПб\n",
      "купить ванная в Москве\n",
      "купить ванная в СПб\n",
      "заказать душевая кабина в Москве\n",
      "заказать душевая кабина в СПб\n",
      "заказать раковина в Москве\n",
      "заказать раковина в СПб\n",
      "заказать ванная в Москве\n",
      "заказать ванная в СПб\n",
      "заказ душевая кабина в Москве\n",
      "заказ душевая кабина в СПб\n",
      "заказ раковина в Москве\n",
      "заказ раковина в СПб\n",
      "заказ ванная в Москве\n",
      "заказ ванная в СПб\n",
      "цена душевая кабина в Москве\n",
      "цена душевая кабина в СПб\n",
      "цена раковина в Москве\n",
      "цена раковина в СПб\n",
      "цена ванная в Москве\n",
      "цена ванная в СПб\n",
      "стоимость душевая кабина в Москве\n",
      "стоимость душевая кабина в СПб\n",
      "стоимость раковина в Москве\n",
      "стоимость раковина в СПб\n",
      "стоимость ванная в Москве\n",
      "стоимость ванная в СПб\n",
      "доставка душевая кабина в Москве\n",
      "доставка душевая кабина в СПб\n",
      "доставка раковина в Москве\n",
      "доставка раковина в СПб\n",
      "доставка ванная в Москве\n",
      "доставка ванная в СПб\n"
     ]
    }
   ],
   "source": [
    "# перемножение ключевых фраз\n",
    "ecom_intents = ['купить', 'заказать', 'заказ', 'цена', 'стоимость', 'доставка']\n",
    "products = ['душевая кабина', 'раковина', 'ванная']\n",
    "geo = ['в Москве', 'в СПб']\n",
    "\n",
    "for action in ecom_intents:\n",
    "    for product in products:\n",
    "        for city in geo:\n",
    "            print(f'{action} {product} {city}')"
   ]
  },
  {
   "cell_type": "code",
   "execution_count": 26,
   "metadata": {},
   "outputs": [
    {
     "name": "stdout",
     "output_type": "stream",
     "text": [
      "0 --- купить\n",
      "1 --- заказать\n",
      "2 --- заказ\n",
      "3 --- цена\n",
      "4 --- стоимость\n",
      "5 --- доставка\n"
     ]
    }
   ],
   "source": [
    "ecom_intents = ['купить', 'заказать', 'заказ', 'цена', 'стоимость', 'доставка']\n",
    "for i, word in enumerate(ecom_intents):\n",
    "    print(f'{i} --- {word}')"
   ]
  },
  {
   "cell_type": "code",
   "execution_count": null,
   "metadata": {},
   "outputs": [],
   "source": [
    "# создадим список циклом\n",
    "list1 = []\n",
    "for x in range(10):\n",
    "    list1.append(x)\n",
    "print(list1, '<- список сформированный обычным циклом')\n",
    "\n",
    "# создадим список циклом\n",
    "list2 = [x for x in range(10)]\n",
    "print(list2, '<- список сформированный циклом посредством генератора')"
   ]
  },
  {
   "cell_type": "markdown",
   "metadata": {},
   "source": [
    "### **Функция range()**"
   ]
  },
  {
   "cell_type": "code",
   "execution_count": 29,
   "metadata": {},
   "outputs": [
    {
     "name": "stdout",
     "output_type": "stream",
     "text": [
      "[0, 1, 2, 3, 4, 5, 6, 7, 8, 9, 10, 11, 12, 13, 14, 15, 16, 17, 18, 19]\n"
     ]
    }
   ],
   "source": [
    "a = list(range(20))\n",
    "print(a)"
   ]
  },
  {
   "cell_type": "markdown",
   "metadata": {},
   "source": [
    "### **itertools**"
   ]
  },
  {
   "cell_type": "markdown",
   "metadata": {},
   "source": [
    "Итератор count возвращает равномерно распределенные переменные, начиная с числа, которое вы передаете в качестве стартового параметра.  \n",
    "https://python-scripts.com/itertools"
   ]
  },
  {
   "cell_type": "code",
   "execution_count": 30,
   "metadata": {},
   "outputs": [
    {
     "name": "stdout",
     "output_type": "stream",
     "text": [
      "10\n",
      "11\n",
      "12\n",
      "13\n",
      "14\n",
      "15\n",
      "16\n",
      "17\n",
      "18\n",
      "19\n",
      "20\n"
     ]
    }
   ],
   "source": [
    "from itertools import count\n",
    " \n",
    "for i in count(10):\n",
    "    if i > 20:\n",
    "        break\n",
    "    else:\n",
    "        print(i)"
   ]
  },
  {
   "cell_type": "markdown",
   "metadata": {},
   "source": [
    "В этом примере мы импортируем islice и зацикливаем по count, начиная с 10 и заканчивая после 5 элементов. Как вы могли догадаться, второй аргумент «когда» нужен для остановки итерации. Но это не означает «остановись, когда я дойду до числа 5», вместо этого «остановись, когда мы достигнем пяти итераций»."
   ]
  },
  {
   "cell_type": "code",
   "execution_count": 31,
   "metadata": {},
   "outputs": [
    {
     "name": "stdout",
     "output_type": "stream",
     "text": [
      "10\n",
      "11\n",
      "12\n",
      "13\n",
      "14\n"
     ]
    }
   ],
   "source": [
    "from itertools import islice\n",
    " \n",
    "for i in islice(count(10), 5):\n",
    "    print(i)"
   ]
  },
  {
   "cell_type": "code",
   "execution_count": 35,
   "metadata": {},
   "outputs": [
    {
     "name": "stdout",
     "output_type": "stream",
     "text": [
      "с\n",
      " \n",
      "р\n",
      "а\n",
      "з\n",
      "б\n",
      "е\n",
      "г\n",
      "а\n",
      "с\n",
      " \n",
      "р\n",
      "а\n",
      "з\n",
      "б\n",
      "е\n",
      "г\n",
      "а\n",
      "с\n",
      " \n",
      "р\n",
      "а\n",
      "з\n",
      "б\n",
      "е\n",
      "г\n",
      "а\n",
      "с\n",
      " \n",
      "р\n"
     ]
    }
   ],
   "source": [
    "from itertools import cycle\n",
    " \n",
    "count = 0\n",
    "for item in cycle('с разбега'):\n",
    "    if count > 29:\n",
    "        break\n",
    "    print(item)\n",
    "    count += 1"
   ]
  },
  {
   "cell_type": "code",
   "execution_count": 36,
   "metadata": {},
   "outputs": [
    {
     "name": "stdout",
     "output_type": "stream",
     "text": [
      "triangle\n",
      "square\n",
      "pentagon\n",
      "rectangle\n",
      "triangle\n",
      "square\n"
     ]
    }
   ],
   "source": [
    "from itertools import cycle\n",
    " \n",
    "polys = ['triangle', 'square', 'pentagon', 'rectangle']\n",
    "iterator = cycle(polys)\n",
    " \n",
    "print(next(iterator)) # triangle\n",
    "print(next(iterator)) # square\n",
    "print(next(iterator)) # pentagon\n",
    "print(next(iterator)) # rectangle\n",
    "print(next(iterator)) # triangle\n",
    "print(next(iterator)) # square"
   ]
  },
  {
   "cell_type": "markdown",
   "metadata": {},
   "source": [
    "Здесь мы импортируем repeat и указываем ему повторить текст «test» пять раз."
   ]
  },
  {
   "cell_type": "code",
   "execution_count": 37,
   "metadata": {},
   "outputs": [
    {
     "name": "stdout",
     "output_type": "stream",
     "text": [
      "test\n",
      "test\n",
      "test\n",
      "test\n",
      "test\n"
     ]
    },
    {
     "ename": "StopIteration",
     "evalue": "",
     "output_type": "error",
     "traceback": [
      "\u001b[1;31m---------------------------------------------------------------------------\u001b[0m",
      "\u001b[1;31mStopIteration\u001b[0m                             Traceback (most recent call last)",
      "\u001b[1;32m<ipython-input-37-34c9bce772d8>\u001b[0m in \u001b[0;36m<module>\u001b[1;34m\u001b[0m\n\u001b[0;32m     10\u001b[0m \u001b[1;33m\u001b[0m\u001b[0m\n\u001b[0;32m     11\u001b[0m \u001b[1;31m# В 6й раз будет ошибка...\u001b[0m\u001b[1;33m\u001b[0m\u001b[1;33m\u001b[0m\u001b[1;33m\u001b[0m\u001b[0m\n\u001b[1;32m---> 12\u001b[1;33m \u001b[0mprint\u001b[0m\u001b[1;33m(\u001b[0m\u001b[0mnext\u001b[0m\u001b[1;33m(\u001b[0m\u001b[0miterator\u001b[0m\u001b[1;33m)\u001b[0m\u001b[1;33m)\u001b[0m\u001b[1;33m\u001b[0m\u001b[1;33m\u001b[0m\u001b[0m\n\u001b[0m",
      "\u001b[1;31mStopIteration\u001b[0m: "
     ]
    }
   ],
   "source": [
    "from itertools import repeat\n",
    " \n",
    "iterator = repeat('test', 5)\n",
    " \n",
    "print(next(iterator)) # test\n",
    "print(next(iterator)) # test\n",
    "print(next(iterator)) # test\n",
    "print(next(iterator)) # test\n",
    "print(next(iterator)) # test\n",
    " \n",
    "# В 6й раз будет ошибка...\n",
    "print(next(iterator))"
   ]
  },
  {
   "cell_type": "markdown",
   "metadata": {},
   "source": [
    "### Конечные итераторы"
   ]
  },
  {
   "cell_type": "markdown",
   "metadata": {},
   "source": [
    "Итератор accumulate возвращает накопленные суммы или накопленные результаты двух аргументных функций, которые вы передали для накопления."
   ]
  },
  {
   "cell_type": "code",
   "execution_count": 38,
   "metadata": {},
   "outputs": [
    {
     "name": "stdout",
     "output_type": "stream",
     "text": [
      "[0, 1, 3, 6, 10, 15, 21, 28, 36, 45]\n"
     ]
    }
   ],
   "source": [
    "from itertools import accumulate\n",
    " \n",
    "result = list(accumulate(range(10)))\n",
    "print(result)"
   ]
  },
  {
   "cell_type": "code",
   "execution_count": 39,
   "metadata": {},
   "outputs": [
    {
     "name": "stdout",
     "output_type": "stream",
     "text": [
      "[1, 2, 6, 24]\n"
     ]
    }
   ],
   "source": [
    "from itertools import accumulate\n",
    "import operator\n",
    " \n",
    "result = list(accumulate(range(1, 5), operator.mul))\n",
    "print(result) # [1, 2, 6, 24]"
   ]
  },
  {
   "cell_type": "markdown",
   "metadata": {},
   "source": [
    "Итератор **chain** берет ряд итерируемых, и лепит из них одну длинную итерируемую."
   ]
  },
  {
   "cell_type": "code",
   "execution_count": 40,
   "metadata": {},
   "outputs": [
    {
     "name": "stdout",
     "output_type": "stream",
     "text": [
      "['foo', 'bar', 'ls', '/some/dir', 0, 1, 2, 3, 4]\n"
     ]
    }
   ],
   "source": [
    "from itertools import chain\n",
    " \n",
    "numbers = list(range(5))\n",
    "cmd = ['ls', '/some/dir']\n",
    " \n",
    "my_list = list(chain(['foo', 'bar'], cmd, numbers))\n",
    " \n",
    "print(my_list)\n",
    "# ['foo', 'bar', 'ls', '/some/dir', 0, 1, 2, 3, 4]"
   ]
  },
  {
   "cell_type": "code",
   "execution_count": null,
   "metadata": {},
   "outputs": [],
   "source": [
    "from itertools import chain\n",
    "\n",
    "numbers = list(range(5))\n",
    "cmd = ['ls', '/some/dir']\n",
    "\n",
    "data = list(chain.from_iterable([cmd, numbers]))\n",
    "print(data) "
   ]
  },
  {
   "cell_type": "code",
   "execution_count": 41,
   "metadata": {},
   "outputs": [
    {
     "name": "stdout",
     "output_type": "stream",
     "text": [
      "['A', 'C', 'D']\n"
     ]
    }
   ],
   "source": [
    "from itertools import compress\n",
    " \n",
    "letters = 'ABCDEFG'\n",
    "bools = [True, False, True, True, False]\n",
    " \n",
    "data = list(compress(letters, bools))\n",
    "print(data) # ['A', 'C', 'D']"
   ]
  },
  {
   "cell_type": "code",
   "execution_count": 42,
   "metadata": {},
   "outputs": [
    {
     "name": "stdout",
     "output_type": "stream",
     "text": [
      "[6, 4, 1]\n"
     ]
    }
   ],
   "source": [
    "from itertools import dropwhile\n",
    " \n",
    "data = list(dropwhile(lambda x: x<5, [1,4,6,4,1]))\n",
    "print(data) # [6, 4, 1]"
   ]
  },
  {
   "cell_type": "code",
   "execution_count": 43,
   "metadata": {},
   "outputs": [
    {
     "name": "stdout",
     "output_type": "stream",
     "text": [
      "[1, 2, 3, 10]\n"
     ]
    }
   ],
   "source": [
    "from itertools import dropwhile\n",
    " \n",
    "def greater_than_five(x):\n",
    "    return x > 5\n",
    " \n",
    "data = list(\n",
    "    dropwhile(\n",
    "        greater_than_five,\n",
    "        [6, 7, 8, 9, 1, 2, 3, 10]\n",
    "    )\n",
    ")\n",
    " \n",
    "print(data) # [1, 2, 3, 10]"
   ]
  },
  {
   "cell_type": "code",
   "execution_count": null,
   "metadata": {},
   "outputs": [],
   "source": [
    "from itertools import filterfalse\n",
    " \n",
    "def greater_than_five(x):\n",
    "    return x > 5\n",
    " \n",
    "data = list(\n",
    "    filterfalse(\n",
    "        greater_than_five,\n",
    "        [6, 7, 8, 9, 1, 2, 3, 10]\n",
    "    )\n",
    ")\n",
    " \n",
    "print(data) # [1, 2, 3]"
   ]
  },
  {
   "cell_type": "code",
   "execution_count": 46,
   "metadata": {},
   "outputs": [
    {
     "name": "stdout",
     "output_type": "stream",
     "text": [
      "Cobalt is made by Chevrolet\n",
      "**** END OF GROUP ***\n",
      "\n",
      "Charger is made by Dodge\n",
      "Durango is made by Dodge\n",
      "**** END OF GROUP ***\n",
      "\n",
      "F150 is made by Ford\n",
      "GT is made by Ford\n",
      "Taurus is made by Ford\n",
      "**** END OF GROUP ***\n",
      "\n"
     ]
    }
   ],
   "source": [
    "from itertools import groupby\n",
    "\n",
    "vehicles = [('Ford', 'Taurus'), ('Dodge', 'Durango'),\n",
    "            ('Chevrolet', 'Cobalt'), ('Ford', 'F150'),\n",
    "            ('Dodge', 'Charger'), ('Ford', 'GT')]\n",
    "\n",
    "sorted_vehicles = sorted(vehicles)\n",
    "\n",
    "for key, group in groupby(sorted_vehicles, lambda make: make[0]):\n",
    "    for make, model in group:\n",
    "        print('{model} is made by {make}'.format(model=model, make=make))\n",
    "    \n",
    "    print (\"**** END OF GROUP ***\\n\")"
   ]
  },
  {
   "cell_type": "code",
   "execution_count": 47,
   "metadata": {},
   "outputs": [
    {
     "name": "stdout",
     "output_type": "stream",
     "text": [
      "1\n",
      "2\n",
      "3\n",
      "4\n"
     ]
    },
    {
     "ename": "StopIteration",
     "evalue": "",
     "output_type": "error",
     "traceback": [
      "\u001b[1;31m---------------------------------------------------------------------------\u001b[0m",
      "\u001b[1;31mStopIteration\u001b[0m                             Traceback (most recent call last)",
      "\u001b[1;32m<ipython-input-47-0af49f1c2acb>\u001b[0m in \u001b[0;36m<module>\u001b[1;34m\u001b[0m\n\u001b[0;32m      8\u001b[0m \u001b[0mprint\u001b[0m\u001b[1;33m(\u001b[0m\u001b[0mnext\u001b[0m\u001b[1;33m(\u001b[0m\u001b[0miterator\u001b[0m\u001b[1;33m)\u001b[0m\u001b[1;33m)\u001b[0m \u001b[1;31m# 4\u001b[0m\u001b[1;33m\u001b[0m\u001b[1;33m\u001b[0m\u001b[0m\n\u001b[0;32m      9\u001b[0m \u001b[1;33m\u001b[0m\u001b[0m\n\u001b[1;32m---> 10\u001b[1;33m \u001b[0mprint\u001b[0m\u001b[1;33m(\u001b[0m\u001b[0mnext\u001b[0m\u001b[1;33m(\u001b[0m\u001b[0miterator\u001b[0m\u001b[1;33m)\u001b[0m\u001b[1;33m)\u001b[0m \u001b[1;31m# ошибка!\u001b[0m\u001b[1;33m\u001b[0m\u001b[1;33m\u001b[0m\u001b[0m\n\u001b[0m",
      "\u001b[1;31mStopIteration\u001b[0m: "
     ]
    }
   ],
   "source": [
    "from itertools import islice\n",
    " \n",
    "iterator = islice('123456', 4)\n",
    " \n",
    "print(next(iterator)) # 1\n",
    "print(next(iterator)) # 2\n",
    "print(next(iterator)) # 3\n",
    "print(next(iterator)) # 4\n",
    " \n",
    "print(next(iterator)) # ошибка!"
   ]
  },
  {
   "cell_type": "code",
   "execution_count": 48,
   "metadata": {},
   "outputs": [
    {
     "name": "stdout",
     "output_type": "stream",
     "text": [
      "3\n",
      "4\n",
      "5\n",
      "6\n",
      "7\n",
      "8\n",
      "9\n",
      "10\n",
      "11\n",
      "12\n",
      "13\n",
      "14\n"
     ]
    }
   ],
   "source": [
    "from itertools import islice\n",
    "from itertools import count\n",
    " \n",
    "for i in islice(count(), 3, 15):\n",
    "    print(i)"
   ]
  },
  {
   "cell_type": "code",
   "execution_count": 50,
   "metadata": {},
   "outputs": [
    {
     "name": "stdout",
     "output_type": "stream",
     "text": [
      "8\n",
      "1024\n"
     ]
    }
   ],
   "source": [
    "from itertools import starmap\n",
    " \n",
    "def add(a, b):\n",
    "    return a**b\n",
    " \n",
    "for item in starmap(add, [(2,3), (4,5)]):\n",
    "    print(item)"
   ]
  },
  {
   "cell_type": "code",
   "execution_count": 51,
   "metadata": {},
   "outputs": [
    {
     "name": "stdout",
     "output_type": "stream",
     "text": [
      "[1, 4]\n"
     ]
    }
   ],
   "source": [
    "from itertools import takewhile\n",
    " \n",
    "data = list(takewhile(lambda x: x<5, [1,4,6,4,1]))\n",
    "print(data) # [1, 4]"
   ]
  },
  {
   "cell_type": "code",
   "execution_count": 54,
   "metadata": {},
   "outputs": [
    {
     "name": "stdout",
     "output_type": "stream",
     "text": [
      "A\n",
      "B\n",
      "C\n",
      "D\n",
      "E\n",
      "-------\n",
      "A\n",
      "B\n",
      "C\n",
      "D\n",
      "E\n"
     ]
    }
   ],
   "source": [
    "from itertools import tee\n",
    " \n",
    "data = 'ABCDE'\n",
    "iter1, iter2 = tee(data)\n",
    " \n",
    "for item in iter1:\n",
    "    print(item)\n",
    "\n",
    "print('-------')\n",
    "for item in iter2:\n",
    "    print(item)"
   ]
  },
  {
   "cell_type": "code",
   "execution_count": 55,
   "metadata": {},
   "outputs": [
    {
     "name": "stdout",
     "output_type": "stream",
     "text": [
      "('A', 'x')\n",
      "('B', 'y')\n",
      "('C', 'BLANK')\n",
      "('D', 'BLANK')\n"
     ]
    }
   ],
   "source": [
    "from itertools import zip_longest\n",
    " \n",
    "for item in zip_longest('ABCD', 'xy', fillvalue='BLANK'):\n",
    "    print (item)"
   ]
  },
  {
   "cell_type": "markdown",
   "metadata": {},
   "source": [
    "### Комбинаторные генераторы"
   ]
  },
  {
   "cell_type": "code",
   "execution_count": 56,
   "metadata": {},
   "outputs": [
    {
     "name": "stdout",
     "output_type": "stream",
     "text": [
      "[('W', 'X'), ('W', 'Y'), ('W', 'Z'), ('X', 'Y'), ('X', 'Z'), ('Y', 'Z')]\n"
     ]
    }
   ],
   "source": [
    "from itertools import combinations\n",
    " \n",
    "data = list(combinations('WXYZ', 2))\n",
    "print(data)"
   ]
  },
  {
   "cell_type": "code",
   "execution_count": 57,
   "metadata": {},
   "outputs": [
    {
     "name": "stdout",
     "output_type": "stream",
     "text": [
      "WX\n",
      "WY\n",
      "WZ\n",
      "XY\n",
      "XZ\n",
      "YZ\n"
     ]
    }
   ],
   "source": [
    "from itertools import combinations\n",
    " \n",
    "for item in combinations('WXYZ', 2):\n",
    "    print(''.join(item))"
   ]
  },
  {
   "cell_type": "code",
   "execution_count": 58,
   "metadata": {},
   "outputs": [
    {
     "name": "stdout",
     "output_type": "stream",
     "text": [
      "WW\n",
      "WX\n",
      "WY\n",
      "WZ\n",
      "XX\n",
      "XY\n",
      "XZ\n",
      "YY\n",
      "YZ\n",
      "ZZ\n"
     ]
    }
   ],
   "source": [
    "from itertools import combinations_with_replacement\n",
    " \n",
    "for item in combinations_with_replacement('WXYZ', 2):\n",
    "    print(''.join(item))"
   ]
  },
  {
   "cell_type": "code",
   "execution_count": 59,
   "metadata": {},
   "outputs": [
    {
     "name": "stdout",
     "output_type": "stream",
     "text": [
      "[(-1, -3, -5), (-1, -3, 5), (-1, 3, -5), (-1, 3, 5), (1, -3, -5), (1, -3, 5), (1, 3, -5), (1, 3, 5)]\n"
     ]
    }
   ],
   "source": [
    "from itertools import product\n",
    " \n",
    "arrays = [(-1,1), (-3,3), (-5,5)]\n",
    "cp = list(product(*arrays))\n",
    " \n",
    "print(cp)"
   ]
  },
  {
   "cell_type": "code",
   "execution_count": 60,
   "metadata": {},
   "outputs": [
    {
     "name": "stdout",
     "output_type": "stream",
     "text": [
      "WX\n",
      "WY\n",
      "WZ\n",
      "XW\n",
      "XY\n",
      "XZ\n",
      "YW\n",
      "YX\n",
      "YZ\n",
      "ZW\n",
      "ZX\n",
      "ZY\n"
     ]
    }
   ],
   "source": [
    "from itertools import permutations\n",
    " \n",
    "for item in permutations('WXYZ', 2):\n",
    "    print(''.join(item))"
   ]
  },
  {
   "cell_type": "code",
   "execution_count": null,
   "metadata": {},
   "outputs": [],
   "source": []
  }
 ],
 "metadata": {
  "kernelspec": {
   "display_name": "Python 3",
   "language": "python",
   "name": "python3"
  },
  "language_info": {
   "codemirror_mode": {
    "name": "ipython",
    "version": 3
   },
   "file_extension": ".py",
   "mimetype": "text/x-python",
   "name": "python",
   "nbconvert_exporter": "python",
   "pygments_lexer": "ipython3",
   "version": "3.6.8"
  }
 },
 "nbformat": 4,
 "nbformat_minor": 2
}
