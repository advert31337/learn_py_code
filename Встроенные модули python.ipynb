{
 "cells": [
  {
   "cell_type": "markdown",
   "metadata": {},
   "source": [
    "re - регулярные выражения"
   ]
  },
  {
   "cell_type": "code",
   "execution_count": 1,
   "metadata": {},
   "outputs": [
    {
     "name": "stdout",
     "output_type": "stream",
     "text": [
      "['sdaa354', 'sdfe333', 'sdf333']\n"
     ]
    }
   ],
   "source": [
    "import re\n",
    "\n",
    "s1 = 'каждый охотник sdaa354 желает sdfe333 знать где сидит фазан sdf333'\n",
    "patt = '\\w+\\d+'\n",
    "\n",
    "find = re.findall(patt, s1)\n",
    "print(find)"
   ]
  },
  {
   "cell_type": "code",
   "execution_count": null,
   "metadata": {},
   "outputs": [],
   "source": []
  }
 ],
 "metadata": {
  "kernelspec": {
   "display_name": "Python 3",
   "language": "python",
   "name": "python3"
  },
  "language_info": {
   "codemirror_mode": {
    "name": "ipython",
    "version": 3
   },
   "file_extension": ".py",
   "mimetype": "text/x-python",
   "name": "python",
   "nbconvert_exporter": "python",
   "pygments_lexer": "ipython3",
   "version": "3.6.8"
  }
 },
 "nbformat": 4,
 "nbformat_minor": 2
}
