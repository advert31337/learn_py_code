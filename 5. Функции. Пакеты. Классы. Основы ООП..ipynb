{
 "cells": [
  {
   "cell_type": "markdown",
   "metadata": {},
   "source": [
    "# **ФУНКЦИИ**"
   ]
  },
  {
   "cell_type": "markdown",
   "metadata": {},
   "source": [
    "**Функцией** в Python называется объект, принимающий на входе определенные данные и параметры (аргументы) и возвращающий результат работы функции.  \n",
    "Функция начинается с ключевого слова **def** после идет название функции с маленькой букву в **snake\\_стиле**  (PEP8), далее в круглых скобках принимаются аргументы функции и после двоеточия с новой строки пишется блок кода с отступом.\n",
    "\n",
    "В общем виде простейшая функция выглядит так:"
   ]
  },
  {
   "cell_type": "code",
   "execution_count": null,
   "metadata": {},
   "outputs": [],
   "source": [
    "def test_func(args):\n",
    "    \"\"\"Описание функциии\"\"\"\n",
    "    pass\n",
    "\n",
    "print(test_func(1))"
   ]
  },
  {
   "cell_type": "markdown",
   "metadata": {},
   "source": [
    "Главное назначение функции сократить **повторяющиеся** блоки кода в вашем коде.\n",
    "\n",
    "После основного блока инструкций функция обычно возвращает результат для этого используется оператор **return**.  \n",
    "В новых версиях языка Python появились аннотации, которые облегчаю чтение ваших функций другими программистами.  \n",
    "Суть после каждого аргумента через двоеточие объявляется тип передаваемого аргумента, а после знака стрелочки  \"**->**\" указывается тип данных результата возвращаемого функцией."
   ]
  },
  {
   "cell_type": "code",
   "execution_count": null,
   "metadata": {},
   "outputs": [],
   "source": [
    "def test_func(n: int, string: str) -> 'str':\n",
    "    \"\"\"Функция возвращает строку string n раз\"\"\"\n",
    "    res = string * n\n",
    "    return res\n",
    "\n",
    "print(test_func(3, 'test'), '<- результат работы нашей функции')"
   ]
  },
  {
   "cell_type": "markdown",
   "metadata": {},
   "source": [
    "В функции можно производить дополнительные проверки и преобразования входных данных для возвращения корректного результата."
   ]
  },
  {
   "cell_type": "code",
   "execution_count": null,
   "metadata": {},
   "outputs": [],
   "source": [
    "# условие вложенное в цикл\n",
    "def even_check(a: int) -> 'bool':\n",
    "    \"\"\"Проверка числа на четность\"\"\"\n",
    "    if not isinstance(a, int):\n",
    "        return 'Аргумент не является целым числом'\n",
    "    if a % 2 == 0:\n",
    "        return True\n",
    "    return False\n",
    "\n",
    "print(even_check(1), '<- результат работы нашей функции')\n",
    "print(even_check(4), '<- результат работы нашей функции')\n",
    "print(even_check('t'), '<- результат работы нашей функции')"
   ]
  },
  {
   "cell_type": "markdown",
   "metadata": {},
   "source": [
    "Если вы не указали оператор return, то функция вернет значение **None**.  \n",
    "Всегда старайтесь пользоваться стандартными функциями и библиотеками, т.к. они написаны на С и работают существенно быстрее чем самописные функции!  \n",
    "Поведение вашей функции будет определяться свойcтвами переданных ей аргументов, вы можете получать разные результаты, передавая в функцию разные типы данных.\n",
    "Свойство языка когда результат функции определяется типами аргументов называется **полиморфизм**."
   ]
  },
  {
   "cell_type": "code",
   "execution_count": null,
   "metadata": {},
   "outputs": [],
   "source": [
    "def mysum(a, b):\n",
    "    \"\"\"Сложение 2х переменных независимо от резльутата\"\"\"\n",
    "    return a + b\n",
    "\n",
    "print(mysum(1, 1), '<- результат работы нашей функции')\n",
    "print(mysum('1', '1'), '<- результат работы нашей функции')"
   ]
  },
  {
   "cell_type": "markdown",
   "metadata": {},
   "source": [
    "При написании функции вы также можете вызывать ошибки оператором **raise**. Пример кода ниже."
   ]
  },
  {
   "cell_type": "code",
   "execution_count": null,
   "metadata": {},
   "outputs": [],
   "source": [
    "def error_func(a):\n",
    "    if not isinstance(a, int) or isinstance(a, float):\n",
    "        return 'Аргумент не является числом'\n",
    "    if a == 0:\n",
    "        raise ZeroDivisionError(\"Деление на 0!\")\n",
    "    return 10 / a\n",
    "\n",
    "\n",
    "print(error_func(100), '<- результат работы нашей функции')\n",
    "print(error_func(0), '<- результат работы нашей функции')"
   ]
  },
  {
   "cell_type": "markdown",
   "metadata": {},
   "source": [
    "### **Области видимости**"
   ]
  },
  {
   "cell_type": "code",
   "execution_count": null,
   "metadata": {},
   "outputs": [],
   "source": [
    "# пример печати переменной d в областях видимости\n",
    "d = 1\n",
    "def func():\n",
    "    d = 100\n",
    "    print(d)\n",
    "    \n",
    "print(dir(func))\n",
    "print(d, '<- печать глобальной переменной')\n",
    "print('Печать локальной переменной:')\n",
    "func()"
   ]
  },
  {
   "cell_type": "markdown",
   "metadata": {},
   "source": [
    "Переопределять имена стандартных функций крайне не рекомендуется, лучше создать похожую собственную функцию с префиксом \\_ или my\\_.  \n",
    "В случае если в теле функции требуется переопределить глобальную переменную (например общий счетчик), то для этого используется оператор **golbal**.  \n",
    "Внимание: ключевое слово global не работает корректно в Jupyter Notebook, но в любом IDE будет переобъявляться в глобальном простанстве имен."
   ]
  },
  {
   "cell_type": "code",
   "execution_count": null,
   "metadata": {},
   "outputs": [],
   "source": [
    "d = 2\n",
    "def func():\n",
    "    global d \n",
    "    d = 100\n",
    "    print(d)\n",
    "    \n",
    "print(d, '<- печать глобальной переменной')\n",
    "print('Печать локальной переменной:')\n",
    "func()\n",
    "print(d, '<- в консоли Python у вас будет значение 100!')"
   ]
  },
  {
   "cell_type": "markdown",
   "metadata": {},
   "source": [
    "### **Аргументы**"
   ]
  },
  {
   "cell_type": "markdown",
   "metadata": {},
   "source": [
    "Функции в Python могут принимать произвольное количество аргументов или не принимать ни одного аргумента.  \n",
    "Аргументы в функции могут быть **позиционные** или **именованные**, а также **обязательные** и **необязательные** (установленные по умолчанию). Обычно в коде в качестве аргументов передаются переменные, при этом надо следить за их привязкой к объектам в памяти во избежание ошибок!  \n",
    "Посмотрим в чем различие позиционных и именованных аргументов."
   ]
  },
  {
   "cell_type": "code",
   "execution_count": null,
   "metadata": {},
   "outputs": [],
   "source": [
    "def _pow(a, b):\n",
    "    return a ** b\n",
    "\n",
    "print(_pow(10, 2), '<- работа функции: аргументы принимаются по порядку')\n",
    "\n",
    "\n",
    "def _pow2(num, power):\n",
    "    return num ** power\n",
    "\n",
    "print(_pow2(power=2, num=10), '<- работа функции: аргументы принимаются по имени (порядок не важен)')"
   ]
  },
  {
   "cell_type": "markdown",
   "metadata": {},
   "source": [
    "Также вы можете устанавливать значение **по умолчанию**, в этом случае вам не обязательно указывать параметр, если вы его опустите функция возьмет значение, указанное по умолчанию через \"=\" в теле функции."
   ]
  },
  {
   "cell_type": "code",
   "execution_count": null,
   "metadata": {},
   "outputs": [],
   "source": [
    "def _bool(x=False):\n",
    "    if x:\n",
    "        return x\n",
    "    return x\n",
    "\n",
    "print(_bool(), '<- значение по умолчанию')\n",
    "print(_bool(True), '<- значение принятое в качестве аргумента')"
   ]
  },
  {
   "cell_type": "markdown",
   "metadata": {},
   "source": [
    "Если заранее неизвестно точное количество аргументов вы можете воспользоваться приемом **распаковка** \\*args.  \n",
    "Вот пример распаковки аргументов."
   ]
  },
  {
   "cell_type": "code",
   "execution_count": null,
   "metadata": {},
   "outputs": [],
   "source": [
    "list1 = [False, [1,2,3], 'yandex', set()]\n",
    "def type_print(*args):\n",
    "    for a in args:\n",
    "        yield a, type(a)\n",
    "        \n",
    "print(list(type_print(*list1)), '<- печать аргументов и их типов')"
   ]
  },
  {
   "cell_type": "markdown",
   "metadata": {},
   "source": [
    "Похожим образом производится распаковка именованных аргументов ****kwargs**."
   ]
  },
  {
   "cell_type": "code",
   "execution_count": null,
   "metadata": {},
   "outputs": [],
   "source": [
    "# примаер распаковки аргументов через **kwargs\n",
    "list1 = [False, [1,2,3], 'yandex', set()]\n",
    "def type_print2(**kwargs):\n",
    "    for i in kwargs.items():\n",
    "        print(*i, sep=':')\n",
    "\n",
    "print(type_print2(a = list1[0], b = list1[1], c = list1[2]), '<- печать именованных аргументов и их типов')\n"
   ]
  },
  {
   "cell_type": "markdown",
   "metadata": {},
   "source": [
    "### **Проектирование функций**"
   ]
  },
  {
   "cell_type": "markdown",
   "metadata": {},
   "source": [
    "При проектировании собственных функций лучше придерживаться определенных правил для получения рабочего кода.  \n",
    "Вот правила которые стоит придерживаться при написании функций:  \n",
    "- При создании собственных модулей стараться не использовать переменную global, т.к. результат работы вашего кода может быть непредсказуемым;\n",
    "- При создании функций не использовать методы, которые изменяют передаваемые (входящие) объекты;\n",
    "- Слишком сложные и перегруженные функции лучше разбить на несколько простых и понятных;\n",
    "- Функции занимающие несколько экранов однозначно стоит разбить на более короткие."
   ]
  },
  {
   "cell_type": "markdown",
   "metadata": {},
   "source": [
    "**Структурное программирование**\n",
    "Проектирование сверху вниз "
   ]
  },
  {
   "cell_type": "markdown",
   "metadata": {},
   "source": [
    "### **Прочее**"
   ]
  },
  {
   "cell_type": "markdown",
   "metadata": {},
   "source": [
    "Функции которые существуют в рамках классов (будут рассмотрены далее) носят название методов. При записи также обозначаются def, но применяются к экземпляру класса.  \n",
    "Иногда писать небольшую функцию нецелесообразно, например"
   ]
  },
  {
   "cell_type": "code",
   "execution_count": null,
   "metadata": {},
   "outputs": [],
   "source": [
    "def power(x, p):\n",
    "    return x ** p"
   ]
  },
  {
   "cell_type": "markdown",
   "metadata": {},
   "source": [
    "В этом случае целесообразнее использовать одностроковую анонимную (безымянную) функцию **lambda** вида:\n",
    ">lambda x, p: x ** p"
   ]
  },
  {
   "cell_type": "markdown",
   "metadata": {},
   "source": [
    "Особенности функции lambda:\n",
    "- Запись lambda компактнее, не требуется оператор return.\n",
    "- Функция lambda выполняется обычно быстрее чем стандартная функция def.\n",
    "- В целом функция lambda ведет себя аналогично def.\n",
    "- Особенно популярны анонимные функции в продвинутых конструкциях кода типа map, reduce, zip и т.д."
   ]
  },
  {
   "cell_type": "code",
   "execution_count": null,
   "metadata": {},
   "outputs": [],
   "source": [
    "tuples = ((1,3), (3,5), (2, 4))\n",
    "f = lambda x, y: x ** y\n",
    "gen_list = [f(*x) for x in tuples]\n",
    "\n",
    "map_list = map(lambda x: x[0] ** x[1], tuples)\n",
    "\n",
    "print(list(gen_list), '<- результат lambda функции через генератор')\n",
    "print(list(map_list), '<- результат lambda функции через map()')"
   ]
  },
  {
   "cell_type": "markdown",
   "metadata": {},
   "source": [
    "#### Декораторы"
   ]
  },
  {
   "cell_type": "code",
   "execution_count": null,
   "metadata": {},
   "outputs": [],
   "source": [
    "def makebold(fn):\n",
    "    def wrapped():\n",
    "        return \"<b>\" + fn() + \"</b>\"\n",
    "    return wrapped\n",
    " \n",
    "def makeitalic(fn):\n",
    "    def wrapped():\n",
    "        return \"<i>\" + fn() + \"</i>\"\n",
    "    return wrapped\n",
    " \n",
    "def hello():\n",
    "    return \"hello habr\"\n",
    "\n",
    "makeitalic = makeitalic(hello)\n",
    "makebold = makebold(makeitalic)\n",
    "print(makebold())"
   ]
  },
  {
   "cell_type": "code",
   "execution_count": null,
   "metadata": {},
   "outputs": [],
   "source": [
    "def makebold(fn):\n",
    "    def wrapped():\n",
    "        return \"<b>\" + fn() + \"</b>\"\n",
    "    return wrapped\n",
    " \n",
    "def makeitalic(fn):\n",
    "    def wrapped():\n",
    "        return \"<i>\" + fn() + \"</i>\"\n",
    "    return wrapped\n",
    " \n",
    "@makebold\n",
    "@makeitalic\n",
    "def hello():\n",
    "    return \"hello habr\"\n",
    " \n",
    "print(hello()) ## выведет <b><i>hello habr</i></b>"
   ]
  },
  {
   "cell_type": "code",
   "execution_count": null,
   "metadata": {},
   "outputs": [],
   "source": [
    "def bread(func):\n",
    "    def wrapper():\n",
    "        print(\"</------\\>\")\n",
    "        func()\n",
    "        print(\"<\\______/>\")\n",
    "    return wrapper\n",
    " \n",
    "def ingredients(func):\n",
    "    def wrapper():\n",
    "        print(\"#помидоры#\")\n",
    "        func()\n",
    "        print(\"~салат~\")\n",
    "    return wrapper\n",
    " \n",
    "def sandwich(food=\"--ветчина--\"):\n",
    "    print(food)\n",
    " \n",
    "\n",
    "sandwich()\n",
    "#выведет: --ветчина--\n",
    "sandwich = bread(ingredients(sandwich))\n",
    "sandwich()"
   ]
  },
  {
   "cell_type": "code",
   "execution_count": null,
   "metadata": {},
   "outputs": [],
   "source": [
    "def bread(func):\n",
    "    def wrapper():\n",
    "        print(\"</------\\>\")\n",
    "        func()\n",
    "        print(\"<\\______/>\")\n",
    "    return wrapper\n",
    " \n",
    "def ingredients(func):\n",
    "    def wrapper():\n",
    "        print(\"#помидоры#\")\n",
    "        func()\n",
    "        print(\"~салат~\")\n",
    "    return wrapper\n",
    " \n",
    "def sandwich(food=\"--ветчина--\"):\n",
    "    print(food)\n",
    "    \n",
    "    \n",
    "@bread\n",
    "@ingredients\n",
    "def sandwich(food=\"--ветчина--\"):\n",
    "    print (food)\n",
    " \n",
    "sandwich()    "
   ]
  },
  {
   "cell_type": "markdown",
   "metadata": {},
   "source": [
    "Проброс аргументов в декораторе"
   ]
  },
  {
   "cell_type": "code",
   "execution_count": null,
   "metadata": {},
   "outputs": [],
   "source": [
    "def a_decorator_passing_arguments(function_to_decorate):\n",
    "    def a_wrapper_accepting_arguments(arg1, arg2): # аргументы прибывают отсюда\n",
    "        print (\"Смотри, что я получил:\", arg1, arg2)\n",
    "        function_to_decorate(arg1, arg2)\n",
    "    return a_wrapper_accepting_arguments\n",
    " \n",
    " \n",
    "@a_decorator_passing_arguments\n",
    "def print_full_name(first_name, last_name):\n",
    "    print (\"Меня зовут\", first_name, last_name)\n",
    " \n",
    "print_full_name(\"Питер\", \"Венкман\")"
   ]
  },
  {
   "cell_type": "code",
   "execution_count": null,
   "metadata": {},
   "outputs": [],
   "source": [
    "def a_decorator_passing_arbitrary_arguments(function_to_decorate):\n",
    "    # Данная \"обёртка\" принимает любые аргументы\n",
    "    def a_wrapper_accepting_arbitrary_arguments(*args, **kwargs):\n",
    "        print (\"Передали ли мне что-нибудь?:\")\n",
    "        print (args)\n",
    "        print (kwargs)\n",
    "        \n",
    "        function_to_decorate(*args, **kwargs)\n",
    "    return a_wrapper_accepting_arbitrary_arguments\n",
    " \n",
    "@a_decorator_passing_arbitrary_arguments\n",
    "def function_with_no_argument():\n",
    "    print (\"Python is cool, no argument here.\" )# оставлено без перевода, хорошая игра слов:)\n",
    " \n",
    "function_with_no_argument()\n",
    "\n",
    "print('----'*20)\n",
    " \n",
    "@a_decorator_passing_arbitrary_arguments\n",
    "def function_with_arguments(a, b, c):\n",
    "    print( a, b, c)\n",
    " \n",
    "function_with_arguments(1,2,3)\n",
    " \n",
    "print('----'*20)\n",
    "    \n",
    "@a_decorator_passing_arbitrary_arguments\n",
    "def function_with_named_arguments(a, b, c, platypus=\"Почему нет?\"):\n",
    "    print (\"Любят ли %s, %s и %s утконосов? %s\" %\\\n",
    "    (a, b, c, platypus))\n",
    " \n",
    "function_with_named_arguments(\"Билл\", \"Линус\", \"Стив\", platypus=\"Определенно!\")\n",
    "\n",
    "print('----'*20)\n",
    "\n",
    "class Mary(object):\n",
    " \n",
    "    def __init__(self):\n",
    "        self.age = 31\n",
    " \n",
    "    @a_decorator_passing_arbitrary_arguments\n",
    "    def sayYourAge(self, lie=-3): # Теперь мы можем указать значение по умолчанию\n",
    "        print (\"Мне %s, а ты бы сколько дал?\" % (self.age + lie))\n",
    " \n",
    "m = Mary()\n",
    "m.sayYourAge()"
   ]
  },
  {
   "cell_type": "code",
   "execution_count": null,
   "metadata": {},
   "outputs": [],
   "source": [
    "def decorator_maker_with_arguments(decorator_arg1, decorator_arg2):\n",
    " \n",
    "    print( \"Я создаю декораторы! И я получил следующие аргументы:\", decorator_arg1, decorator_arg2)\n",
    " \n",
    "    def my_decorator(func):\n",
    "        print(\"Я - декоратор. И ты всё же смог передать мне эти аргументы:\", decorator_arg1, decorator_arg2)\n",
    " \n",
    "        # Не перепутайте аргументы декораторов с аргументами функций!\n",
    "        def wrapped(function_arg1, function_arg2) :\n",
    "            print (\"Я - обёртка вокруг декорируемой функции.\\n\"\n",
    "                  \"И я имею доступ ко всем аргументам: \\n\"\n",
    "                  \"\\t- и декоратора: {0} {1}\\n\"\n",
    "                  \"\\t- и функции: {2} {3}\\n\"\n",
    "                  \"Теперь я могу передать нужные аргументы дальше\"\n",
    "                  .format(decorator_arg1, decorator_arg2,\n",
    "                          function_arg1, function_arg2))\n",
    "            return func(function_arg1, function_arg2)\n",
    " \n",
    "        return wrapped\n",
    " \n",
    "    return my_decorator\n",
    " \n",
    "@decorator_maker_with_arguments(\"Леонард\", \"Шелдон\")\n",
    "def decorated_function_with_arguments(function_arg1, function_arg2):\n",
    "    print (\"Я - декорируемая функция и я знаю только о своих аргументах: {0}\"\n",
    "           \" {1}\".format(function_arg1, function_arg2))\n",
    " \n",
    "decorated_function_with_arguments(\"Раджеш\", \"Говард\")"
   ]
  },
  {
   "cell_type": "code",
   "execution_count": null,
   "metadata": {},
   "outputs": [],
   "source": [
    "def decorator_with_args(decorator_to_enhance):\n",
    "    \"\"\"\n",
    "    Эта функция задумывается КАК декоратор и ДЛЯ декораторов.\n",
    "    Она должна декорировать другую функцию, которая должна быть декоратором.\n",
    "    Лучше выпейте чашку кофе.\n",
    "    Она даёт возможность любому декоратору принимать произвольные аргументы,\n",
    "    избавляя Вас от головной боли о том, как же это делается, каждый раз, когда этот функционал необходим.\n",
    "    \"\"\"\n",
    " \n",
    "    # Мы используем тот же трюк, который мы использовали для передачи аргументов:\n",
    "    def decorator_maker(*args, **kwargs):\n",
    " \n",
    "        # создадим на лету декоратор, который принимает как аргумент только \n",
    "        # функцию, но сохраняет все аргументы, переданные своему \"создателю\"\n",
    "        def decorator_wrapper(func):\n",
    " \n",
    "            # Мы возвращаем то, что вернёт нам изначальный декоратор, который, в свою очередь\n",
    "            # ПРОСТО ФУНКЦИЯ (возвращающая функцию).\n",
    "            # Единственная ловушка в том, что этот декоратор должен быть именно такого\n",
    "            # decorator(func, *args, **kwargs)\n",
    "            # вида, иначе ничего не сработает\n",
    "            return decorator_to_enhance(func, *args, **kwargs)\n",
    " \n",
    "        return decorator_wrapper\n",
    " \n",
    "    return decorator_maker"
   ]
  },
  {
   "cell_type": "code",
   "execution_count": null,
   "metadata": {},
   "outputs": [],
   "source": [
    "# Мы создаём функцию, которую будем использовать как декоратор и декорируем её :-)\n",
    "# Не стоит забывать, что она должна иметь вид \"decorator(func, *args, **kwargs)\"\n",
    "@decorator_with_args\n",
    "def decorated_decorator(func, *args, **kwargs):\n",
    "    def wrapper(function_arg1, function_arg2):\n",
    "        print \"Мне тут передали...:\", args, kwargs\n",
    "        return func(function_arg1, function_arg2)\n",
    "    return wrapper\n",
    " \n",
    "# Теперь декорируем любую нужную функцию нашим новеньким, ещё блестящим декоратором:\n",
    " \n",
    "@decorated_decorator(42, 404, 1024)\n",
    "def decorated_function(function_arg1, function_arg2):\n",
    "    print \"Привет\", function_arg1, function_arg2\n",
    " \n",
    "decorated_function(\"Вселенная и\", \"всё прочее\")\n",
    "# выведет:\n",
    "# Мне тут передали...: (42, 404, 1024) {}\n",
    "# Привет Вселенная и всё прочее\n",
    " \n",
    "# Уфффффф!"
   ]
  },
  {
   "cell_type": "code",
   "execution_count": null,
   "metadata": {},
   "outputs": [],
   "source": []
  },
  {
   "cell_type": "code",
   "execution_count": null,
   "metadata": {},
   "outputs": [],
   "source": [
    "def benchmark(func):\n",
    "    \"\"\"\n",
    "    Декоратор, выводящий время, которое заняло\n",
    "    выполнение декорируемой функции.\n",
    "    \"\"\"\n",
    "    import time\n",
    "    def wrapper(*args, **kwargs):\n",
    "        t = time.clock()\n",
    "        res = func(*args, **kwargs)\n",
    "        print func.__name__, time.clock() - t\n",
    "        return res\n",
    "    return wrapper\n",
    " \n",
    " \n",
    "def logging(func):\n",
    "    \"\"\"\n",
    "    Декоратор, логирующий работу кода.\n",
    "    (хорошо, он просто выводит вызовы, но тут могло быть и логирование!)\n",
    "    \"\"\"\n",
    "    def wrapper(*args, **kwargs):\n",
    "        res = func(*args, **kwargs)\n",
    "        print func.__name__, args, kwargs\n",
    "        return res\n",
    "    return wrapper\n",
    " \n",
    " \n",
    "def counter(func):\n",
    "    \"\"\"\n",
    "    Декоратор, считающий и выводящий количество вызовов\n",
    "    декорируемой функции.\n",
    "    \"\"\"\n",
    "    def wrapper(*args, **kwargs):\n",
    "        wrapper.count += 1\n",
    "        res = func(*args, **kwargs)\n",
    "        print \"{0} была вызвана: {1}x\".format(func.__name__, wrapper.count)\n",
    "        return res\n",
    "    wrapper.count = 0\n",
    "    return wrapper\n",
    " \n",
    " \n",
    "@benchmark\n",
    "@logging\n",
    "@counter\n",
    "def reverse_string(string):\n",
    "    return str(reversed(string))\n",
    " \n",
    "print reverse_string(\"А роза упала на лапу Азора\")\n",
    "print reverse_string(\"A man, a plan, a canoe, pasta, heros, rajahs, a coloratura, maps, snipe, percale, macaroni, a gag, a banana bag, a tan, a tag, a banana bag again (or a camel), a crepe, pins, Spam, a rut, a Rolo, cash, a jar, sore hats, a peon, a canal: Panama!\")"
   ]
  },
  {
   "cell_type": "code",
   "execution_count": null,
   "metadata": {},
   "outputs": [],
   "source": [
    "import httplib\n",
    " \n",
    "@benchmark\n",
    "@logging\n",
    "@counter\n",
    "def get_random_futurama_quote():\n",
    "    conn = httplib.HTTPConnection(\"slashdot.org:80\")\n",
    "    conn.request(\"HEAD\", \"/index.html\")\n",
    "    for key, value in conn.getresponse().getheaders():\n",
    "        if key.startswith(\"x-b\") or key.startswith(\"x-f\"):\n",
    "            return value\n",
    "    return \"Эх, нет... не могу!\"\n",
    " \n",
    "print get_random_futurama_quote()\n",
    "print get_random_futurama_quote()"
   ]
  },
  {
   "cell_type": "markdown",
   "metadata": {},
   "source": [
    "# **ПАКЕТЫ И МОДУЛИ**"
   ]
  },
  {
   "cell_type": "markdown",
   "metadata": {},
   "source": [
    "### Модули"
   ]
  },
  {
   "cell_type": "markdown",
   "metadata": {},
   "source": [
    "Задача модулей - разбивка кода по функциональным блокам"
   ]
  },
  {
   "cell_type": "code",
   "execution_count": null,
   "metadata": {},
   "outputs": [],
   "source": [
    "import print_hello\n",
    "\n",
    "print_hello.printing()"
   ]
  },
  {
   "cell_type": "code",
   "execution_count": null,
   "metadata": {},
   "outputs": [],
   "source": [
    "from print_hello import printing\n",
    "\n",
    "printing()"
   ]
  },
  {
   "cell_type": "markdown",
   "metadata": {},
   "source": [
    "#### Внешине модули"
   ]
  },
  {
   "cell_type": "code",
   "execution_count": null,
   "metadata": {},
   "outputs": [],
   "source": [
    "import math\n",
    "\n",
    "math.pi"
   ]
  },
  {
   "cell_type": "code",
   "execution_count": null,
   "metadata": {},
   "outputs": [],
   "source": [
    "from math import factorial, sqrt, pi\n",
    "\n",
    "print(factorial(10), '--- факториал числа 10')\n",
    "print(sqrt(81), '--- квадратный корень из числа 49')\n",
    "print('%.4f' % pi, '<- число пи до 4-го знака')"
   ]
  },
  {
   "cell_type": "code",
   "execution_count": null,
   "metadata": {},
   "outputs": [],
   "source": [
    "from math import *\n",
    "\n",
    "print(factorial(10), '--- факториал числа 10')\n",
    "print(sqrt(81), '--- квадратный корень из числа 49')\n",
    "print('%.4f' % pi, '<- число пи до 4-го знака')"
   ]
  },
  {
   "cell_type": "markdown",
   "metadata": {},
   "source": [
    "Для удобства организации кода можно использовать сокращения, несколько примеров из популярных научных библиотек приведено ниже:   \n",
    "- import **pandas** as **pd**\n",
    "- import **numpy** as **np**\n",
    "- import **matplotlib** as **plt**"
   ]
  },
  {
   "cell_type": "markdown",
   "metadata": {},
   "source": [
    "Важно следить за связями переменных внутри модулей.\n",
    "\n",
    "Где хранятся модули, когда к ним обращается Python?  \n",
    "Ниже представлен список путей, в порядке приоритетности поиска.\n",
    "1. В **каталоге текущего файла/модуля** (из которого запускается import);\n",
    "2. В директориях, определенных в консольной переменной как **pythonpath**;\n",
    "3. В **каталоге стандартных библиотек** (путь заданный по умолчанию);\n",
    "4. В файлах с расширением **.pht**.\n",
    "\n",
    "Как посмотреть все пути к которым обращается Python?  \n",
    "Команда **sys.path** покажет все места в которых могут находиться модули."
   ]
  },
  {
   "cell_type": "code",
   "execution_count": null,
   "metadata": {},
   "outputs": [],
   "source": [
    "import sys\n",
    "\n",
    "print(sys.path)"
   ]
  },
  {
   "cell_type": "code",
   "execution_count": null,
   "metadata": {},
   "outputs": [],
   "source": [
    "import math\n",
    "\n",
    "dir(math)"
   ]
  },
  {
   "cell_type": "markdown",
   "metadata": {},
   "source": [
    "### Пакеты"
   ]
  },
  {
   "cell_type": "markdown",
   "metadata": {},
   "source": [
    "Помимо отдельных файлов код может быть организован в виде **пакета** (библиотеки), содержащего сразу несколько файлов.\n",
    "Пакеты поддерживают любой уровень вложенности внутренних модулей.  \n",
    "Пакет представляет собой каталог, содержащий вложенные подкаталоги и модули, а также файл-связку \\__init\\__.py – может быть пустым (говорит питону что данная папка является пакетом модулей).  "
   ]
  },
  {
   "cell_type": "code",
   "execution_count": null,
   "metadata": {},
   "outputs": [],
   "source": [
    "import mods.print_hello as mph\n",
    "\n",
    "mph.printing()"
   ]
  },
  {
   "cell_type": "code",
   "execution_count": null,
   "metadata": {},
   "outputs": [],
   "source": [
    "from mods.print_hello import printing\n",
    "\n",
    "printing()"
   ]
  },
  {
   "cell_type": "markdown",
   "metadata": {},
   "source": [
    "Частенько мы будем натыкаться на такую конструкцию:\n",
    "\n",
    ">if __name__ == ‘__main__’:  \n",
    "инструкция\n",
    "\n",
    "Это проверка запускается ли код из основного модуля / основной программы или из импортированного модуля (в этом случае переменной __name__ будет присвоено имя импортированного модуля)."
   ]
  },
  {
   "cell_type": "markdown",
   "metadata": {},
   "source": [
    "## **ОБЪЕКТНО-ОРИЕНТИРОВАННОЕ ПРОГРАММИРОВАНИЕ И КЛАССЫ**"
   ]
  },
  {
   "cell_type": "markdown",
   "metadata": {},
   "source": [
    "https://www.youtube.com/watch?v=irf2ekfkK0Q"
   ]
  },
  {
   "cell_type": "markdown",
   "metadata": {},
   "source": [
    "Объектно-ориентированное программирование (ООП) — парадигма программирования, оперирующая такими сущностями как **объекты и классы**.  \n",
    "Под **классом** понимается внутреннее устройство и механизм поведения объекта. Класс можно сравнить с \"рецептом\" или с \"чертежом\", а экземпляры – это \"реальные\" объекты в памяти, например пирог, приготовленный по рецепту, или делать выточенная по чертежу. Т.е. класс описывает КАК объект должен выглядеть (атрибуты) и вести себя (поведение), а оперируем в коде мы уже объектами, созданными по правилам класса.   \n",
    " \n",
    "Основная цель класса – связать в одну сущность состояние (атрибуты) и поведение (методы) объекта!  \n",
    " \n",
    "Объект или экземпляр класса создается по правилам определенным для своего класса.  \n",
    "В Python все сущности (списки, функции, переменные) являются объектами.  \n",
    "Python позволяет определять собственные классы со своими параметрами и присваивать им своими методами.  \n",
    "ООП как упрощает понимание кода, также позволяет легко его поддерживать и актуализировать (наследование).  \n",
    " \n",
    "Название класса можно посмотреть функцией type()."
   ]
  },
  {
   "cell_type": "code",
   "execution_count": null,
   "metadata": {},
   "outputs": [],
   "source": [
    "print(type(1))\n",
    "print(type([]))\n",
    "print(type('t'))\n",
    "print(type(list))"
   ]
  },
  {
   "cell_type": "markdown",
   "metadata": {},
   "source": [
    "**Класс** - тип данных, представляющий модель какой-то сущности.  \n",
    "**Объект** - Конкретная реализация какого-то класса (экземпляр).  \n",
    "\n",
    "Класс **int** - тип данных, моделирующие целые числа    \n",
    "1, 2, 3 ... - объекты этого класса"
   ]
  },
  {
   "cell_type": "code",
   "execution_count": null,
   "metadata": {},
   "outputs": [],
   "source": [
    "# создание класса\n",
    "class ClassName:\n",
    "    pass\n",
    "\n",
    "# экземпляр класса\n",
    "x = ClassName \n",
    "print(x)"
   ]
  },
  {
   "cell_type": "code",
   "execution_count": null,
   "metadata": {},
   "outputs": [],
   "source": [
    "class Hello:\n",
    "    # метод класса\n",
    "    def hello(self):\n",
    "        print('Hello world')\n",
    "        \n",
    "h = Hello()\n",
    "h.hello()\n",
    "h"
   ]
  },
  {
   "cell_type": "markdown",
   "metadata": {},
   "source": [
    "Для того чтобы создать экземпляр класса необходимо его инициализировать конструктором класса – методом __init__.\n",
    "И передаем атрибуты класса через переменную self."
   ]
  },
  {
   "cell_type": "code",
   "execution_count": null,
   "metadata": {},
   "outputs": [],
   "source": [
    "class NamedHello:\n",
    "    def __init__(self, name):\n",
    "        self.name = name\n",
    "    def hello(self):\n",
    "        print(f'hello {self.name}')\n",
    "        \n",
    "    def __repr__(self):\n",
    "        return 'В класс NamedHello передано имя {} в качестве аргумента'.format(self.name)\n",
    "    \n",
    "x = NamedHello('Егорка')\n",
    "x.hello()\n",
    "print(x, '--- функция __repr__ задает формат печати print()')"
   ]
  },
  {
   "cell_type": "code",
   "execution_count": null,
   "metadata": {},
   "outputs": [],
   "source": [
    "class NamedHello:\n",
    "    def attr_name(self):\n",
    "        self.name = 'Егорка'\n",
    "    def hello(self):\n",
    "        print(f'hello {self.name}')\n",
    "        \n",
    "x = NamedHello()\n",
    "x.hello()"
   ]
  },
  {
   "cell_type": "code",
   "execution_count": null,
   "metadata": {},
   "outputs": [],
   "source": [
    "class NamedHello:\n",
    "    def attr_name(self):\n",
    "        self.name = 'Егорка'\n",
    "    def hello(self):\n",
    "        print(f'hello {self.name}')\n",
    "        \n",
    "x = NamedHello()\n",
    "x.attr_name()\n",
    "x.hello()"
   ]
  },
  {
   "cell_type": "markdown",
   "metadata": {},
   "source": [
    "Атрибуты классов"
   ]
  },
  {
   "cell_type": "code",
   "execution_count": null,
   "metadata": {},
   "outputs": [],
   "source": [
    "class NamedHello:\n",
    "    # атрибут класса\n",
    "    PREFIX = 'Hi my name is'\n",
    "    def __init__(self, name):\n",
    "        # атрибут объекта\n",
    "        self.name = name\n",
    "    def hello(self):\n",
    "        return f'{self.PREFIX} {self.name}'\n",
    "        \n",
    "print(NamedHello.PREFIX)\n",
    "print('---'*10)\n",
    "x = NamedHello('Егорка')\n",
    "print(x.PREFIX)\n",
    "print('---'*10)\n",
    "print(x.hello())\n"
   ]
  },
  {
   "cell_type": "markdown",
   "metadata": {},
   "source": [
    "Доступ к атрибутам"
   ]
  },
  {
   "cell_type": "code",
   "execution_count": null,
   "metadata": {},
   "outputs": [],
   "source": [
    "class NamedHello:\n",
    "    def __init__(self, name):\n",
    "        self.name = name\n",
    "    def hello(self):\n",
    "        print(f'hello {self.name}')\n",
    "    \n",
    "x = NamedHello('Егорка')\n",
    "print(x.name)\n",
    "print('---'*10)\n",
    "x.name = 'Василий'\n",
    "x.hello()"
   ]
  },
  {
   "cell_type": "code",
   "execution_count": null,
   "metadata": {},
   "outputs": [],
   "source": [
    "class NamedHello:\n",
    "    pass\n",
    "\n",
    "x = NamedHello()\n",
    "x.name = 'Василий'\n",
    "print(x.name)"
   ]
  },
  {
   "cell_type": "markdown",
   "metadata": {},
   "source": [
    "Переопределение операторов  \n",
    ">\\_\\_\\*\\_\\_ переопределяют операторы  \n",
    ">\\_\\_init\\_\\_ переопределяет создание объекта"
   ]
  },
  {
   "cell_type": "code",
   "execution_count": null,
   "metadata": {},
   "outputs": [],
   "source": [
    "class Vector2D:\n",
    "    attribut_class = 111\n",
    "    def __init__(self, x, y):\n",
    "        self.x = x\n",
    "        self.y = y\n",
    "    def __add__(self, other):\n",
    "        return Vector2D(self.x + other.x,\n",
    "                        self.y + other.y)\n",
    "    def __mul__(self, scalar):\n",
    "        return Vector2D(self.x * scalar,\n",
    "                        self.y * scalar)\n",
    "    def __getitem__(self, index):\n",
    "        print('Get', index)\n",
    "    def __setitem__(self, index, value):\n",
    "        print('Set', index, value)\n",
    "\n",
    "x = Vector2D(1, 2)\n",
    "y = x * 2\n",
    "print('---'*10)\n",
    "x[0]\n",
    "x[0]=1\n",
    "x['qwerty'] = 'title'\n",
    "x.__dict__"
   ]
  },
  {
   "cell_type": "code",
   "execution_count": null,
   "metadata": {},
   "outputs": [],
   "source": [
    "class Empty:\n",
    "    '''Тут надо писать описание класса'''\n",
    "    pass\n",
    "x = Empty()\n",
    "x.__doc__"
   ]
  },
  {
   "cell_type": "code",
   "execution_count": null,
   "metadata": {},
   "outputs": [],
   "source": []
  },
  {
   "cell_type": "markdown",
   "metadata": {},
   "source": [
    "Функция и метод особых различий не имеют, кроме того, что метод принимает экземпляр класса (**this**)   в качестве \n",
    "первого аргумента."
   ]
  },
  {
   "cell_type": "markdown",
   "metadata": {},
   "source": [
    "**Инкапсуляция** позволяет делать объекты доступными для работы (выстроить интерфейс взаимодействия), но при этом скрыть от конечного пользователя внутренний механизм.  \n",
    "_Python вы можете посмотреть любой код, имеется ввиду что скрыть не физически, а функционально_.  \n",
    " \n",
    "Если кратко, то инкапсуляция нужна для упрощения работы с кодом.  \n",
    "\n",
    "Инкапсуляция – представляет собой парадигму программирования когда доступ к составляющим компонентам (атрибутам и методам) объекта ограничивается доступ.  \n",
    "Инкапсуляция в Python действует _на уровне соглашения_ между программистами о том, какие атрибуты являются общедоступными (публичными), а какие — внутренними (скрытыми). Инкапсуляция делает некоторые из компонент доступными только внутри класса.  \n",
    "Если методы начинаются с одиночного подчеркивания \"\\_\" это говорит о том, что метод предназначен для использования внутри класса, но вызывается через \".\".  \n",
    "Если же вы видите, что название метода класса \\_attr параметры с нижнем подчеркиванием, то этот параметр изменять не нужно, если метод начинается с двойного подчеркивания \"\\_\\_\" – метод является более защищенным и метод уже не доступен через \".\", но может быть вызван непосредственно через \\_\\_метод\\_\\_ (например функцяи \\_\\_doc\\_\\_).  \n",
    " \n",
    "Пример функций, которые мы можем использовать в своем коде. Например определить методы для получения атрибута класса или присваивания значения атрибута через функцию."
   ]
  },
  {
   "cell_type": "code",
   "execution_count": null,
   "metadata": {},
   "outputs": [],
   "source": [
    "# пример присваивания и получения атрибута через метод\n",
    "class NameClass:\n",
    "    def __init__(self, attr):\n",
    "        self.attr = attr\n",
    "\n",
    "    # получение атрибута\n",
    "    def _get_item(self):\n",
    "        return self.attr\n",
    "\n",
    "    # присваивание атрибута\n",
    "    def _set_item(self, attr):\n",
    "        self.attr = attr "
   ]
  },
  {
   "cell_type": "markdown",
   "metadata": {},
   "source": [
    "### **Наследование**"
   ]
  },
  {
   "cell_type": "markdown",
   "metadata": {},
   "source": [
    "Хорошо спроектированный класс позволяет гибко изменять, дополнять объекты различными методами и атрибутами в будущем, если возникнет такая потребность (например появилось новое поле в отчете, которого не было).   \n",
    " \n",
    "Один из принципов ООП является наследование, данный принцип подразумевает создание дочернего класса, который наследует атрибуты и методы **родительского** класса \"по умолчанию\" (не нужно прописывать их повторно!), при этом в дочернем классе вы можете их переопределять или добавлять новые.  \n",
    " \n",
    "Как пример вы можете иметь базовый класс “Источники трафика”, от которого наследуются 2 класса “Платные источники класса” и “Бесплатные источники трафика”, в дочернем классе у вас будет новый атрибут “оплаченный трафик, руб.”, которого не будет в “Бесплатных источниках трафика.  \n",
    " \n",
    "Для наследования класса достаточно в качестве аргумента передать родительский класс (или классы). Пример наследования представлен ниже."
   ]
  },
  {
   "cell_type": "code",
   "execution_count": null,
   "metadata": {},
   "outputs": [],
   "source": [
    "# пример наследования\n",
    "class TrafficSourse():\n",
    "    def __init__(self):\n",
    "        pass\n",
    "    def parent_print(self):\n",
    "        return 'Печать метода из родительского класса'\n",
    "\n",
    "    \n",
    "class TrafficPPC(TrafficSourse):\n",
    "    def __init__(self):\n",
    "        pass\n",
    "    \n",
    "x = TrafficPPC()\n",
    "print(x.parent_print(), '<- мы не прописывали метод parent_print в классе TrafficPPC,'\n",
    "      ' он унаследован из родительского')"
   ]
  },
  {
   "cell_type": "markdown",
   "metadata": {},
   "source": [
    "### **Полиморфизм**"
   ]
  },
  {
   "cell_type": "markdown",
   "metadata": {},
   "source": [
    "Полиморфизм мы уже рассматривали ранее.  \n",
    "Напомним, что **полиморфизм** – это ситуация, когда один и тот же метод ведет себя по разному для разных классов (попробуйте умножить 2 * 2 и '2' * 2).  \n",
    "  \n",
    "Вызываем метод инициализации родителя через **super()**.  \n",
    "Без super(), использование множественного (новый класс образован от нескольких родителей) наследования становится ограниченным. Вам пришлось бы прописывать наследование всех атрибутов и методов вручную. Через метод super() вы можете наследовать методы сразу всех родительских суперклассов."
   ]
  },
  {
   "cell_type": "code",
   "execution_count": null,
   "metadata": {},
   "outputs": [],
   "source": [
    "# пример кода\n",
    "class OldClass():\n",
    "    pass\n",
    "\n",
    "class NewClass(OldClass):\n",
    "    def __init__(self, a, b):\n",
    "        super().__init__(a, b)"
   ]
  },
  {
   "cell_type": "markdown",
   "metadata": {},
   "source": [
    "## Метаклассы"
   ]
  },
  {
   "cell_type": "markdown",
   "metadata": {},
   "source": [
    "***Метакласс*** - объект, создающий класс  \n",
    "Чаще всего применяется для написания библиотек и орм"
   ]
  },
  {
   "cell_type": "markdown",
   "metadata": {},
   "source": [
    "https://www.youtube.com/watch?v=q08Rvcd-w9Y&list=PLJOzdkh8T5kpIBTG9mM2wVBjh-5OpdwBl&index=11  \n",
    "https://www.youtube.com/watch?v=cKF-TZTmsrY  \n",
    "https://www.youtube.com/watch?v=EwigQqa5Ibk"
   ]
  },
  {
   "cell_type": "code",
   "execution_count": 4,
   "metadata": {},
   "outputs": [
    {
     "name": "stdout",
     "output_type": "stream",
     "text": [
      "abc\n"
     ]
    }
   ],
   "source": [
    "C = type('MyClass', (object,),{'f': lambda self: 'abc'})\n",
    "c = C()\n",
    "print(c.f())"
   ]
  },
  {
   "cell_type": "code",
   "execution_count": 7,
   "metadata": {},
   "outputs": [
    {
     "name": "stdout",
     "output_type": "stream",
     "text": [
      "<class '__main__.C'>\n",
      "hello from meta\n"
     ]
    }
   ],
   "source": [
    "# тут что-то не так !!!!!!!!!!!!!!!!!!!!!!!!!!!!!!!!!!!!!!!!!!!!!!!!\n",
    "class A(object): \n",
    "    pass\n",
    "\n",
    "def creator(classname, bases, attrs):\n",
    "    return A\n",
    "\n",
    "class C(object):\n",
    "    __metaclass__ = creator\n",
    "    def f(self): \n",
    "        print('hello from meta')\n",
    "\n",
    "print(C)       \n",
    "c = C()\n",
    "c.f()"
   ]
  },
  {
   "cell_type": "markdown",
   "metadata": {},
   "source": [
    "В метаклассах в качестве первого аргумента принимается атрибут **cls** вместо **this**."
   ]
  },
  {
   "cell_type": "code",
   "execution_count": 14,
   "metadata": {},
   "outputs": [
    {
     "name": "stdout",
     "output_type": "stream",
     "text": [
      "Constructor\n",
      "New Value from meta\n"
     ]
    }
   ],
   "source": [
    "# тут тоже что-то не так !!!!!!!!!!!!!!!!!!!!!!!!!!!!!!!!!!!!!!!!!!!!!!!!!!!\n",
    "class Mt(type):\n",
    "    # в метаклассах __init__ инициализирует класс\n",
    "    # name - имя классов, bases - от кого наследуемся, attrs - атрибуты и методы\n",
    "    def __new__(cls, name, bases, attrs):\n",
    "        attrs['custom_field'] = 'New Value from meta' \n",
    "        return super().__new__(cls, name, bases, attrs)\n",
    "        \n",
    "\n",
    "class A(metaclass=Mt):\n",
    "    def __init__(self):\n",
    "        print('Constructor')\n",
    "        super().__init__()\n",
    "    \n",
    "a = A()\n",
    "print(a.custom_field)"
   ]
  },
  {
   "cell_type": "markdown",
   "metadata": {},
   "source": [
    "Процесс создания класса type"
   ]
  },
  {
   "cell_type": "markdown",
   "metadata": {},
   "source": [
    "C = type(name, bases, attrs)  \n",
    "\n",
    "C = type.__call__(name, bases, attrs)  \n",
    "    \\# Конструирование  \n",
    "    C = type.__new__(metacls, name, bases, attrs)  \n",
    "    \\# Инициализация  \n",
    "    type.__init__(C, name, bases, attrs)  "
   ]
  },
  {
   "cell_type": "code",
   "execution_count": null,
   "metadata": {},
   "outputs": [],
   "source": []
  },
  {
   "cell_type": "code",
   "execution_count": null,
   "metadata": {},
   "outputs": [],
   "source": []
  },
  {
   "cell_type": "code",
   "execution_count": null,
   "metadata": {},
   "outputs": [],
   "source": []
  },
  {
   "cell_type": "code",
   "execution_count": null,
   "metadata": {},
   "outputs": [],
   "source": []
  },
  {
   "cell_type": "code",
   "execution_count": null,
   "metadata": {},
   "outputs": [],
   "source": []
  },
  {
   "cell_type": "code",
   "execution_count": null,
   "metadata": {},
   "outputs": [],
   "source": []
  },
  {
   "cell_type": "markdown",
   "metadata": {},
   "source": [
    "### **Статические методы**"
   ]
  },
  {
   "cell_type": "markdown",
   "metadata": {},
   "source": [
    "В рамках класса можно создавать методы доступные без создания экземпляра класса.  \n",
    "Т.е. созданный метод будет относится к классу, а не к экземпляру.   \n",
    "**Статический метод** – функция, определенная вне класса и не имеет параметр self.  \n",
    "Вызываются через имя класса."
   ]
  },
  {
   "cell_type": "code",
   "execution_count": null,
   "metadata": {},
   "outputs": [],
   "source": [
    "# пример использования статического метода\n",
    "class MyClass(object):\n",
    "    @staticmethod\n",
    "    def the_static_method():\n",
    "        return 'statmethod'\n",
    "\n",
    "MyClass.the_static_method()"
   ]
  },
  {
   "cell_type": "code",
   "execution_count": null,
   "metadata": {},
   "outputs": [],
   "source": [
    "# Пример использования – создание класса процентных ставок, если нужно изменить, то меняем в классе.\n",
    "\n",
    "class PercentRates:\n",
    "    @staticmethod\n",
    "    def rate_1():\n",
    "        return 0.10\n",
    "    def rate_2():\n",
    "        return 0.15\n",
    "    \n",
    "PercentRates.rate_2() - PercentRates.rate_1()"
   ]
  },
  {
   "cell_type": "markdown",
   "metadata": {},
   "source": [
    "## **ОШИБКИ И ИСКЛЮЧЕНИЯ**"
   ]
  },
  {
   "cell_type": "markdown",
   "metadata": {},
   "source": [
    "**Исключения** в Python являются типом данных.  \n",
    "Исключения призваны показать программисту информацию об ошибках в его коде.  \n",
    "В теоретических блоках выше мы уже сталкивались с примерами исключений, давайте посмотрим на типовую ошибку деления на 0."
   ]
  },
  {
   "cell_type": "code",
   "execution_count": null,
   "metadata": {},
   "outputs": [],
   "source": [
    "print(1/0)"
   ]
  },
  {
   "cell_type": "markdown",
   "metadata": {},
   "source": [
    "Все ошибки в Ptyhon наследуются от базового класса BaseException.\n",
    "Про типы ошибок и их описания можно почитать в официальной документации:\n",
    "https://docs.python.org/3.6/library/exceptions.html#concrete-exceptions"
   ]
  },
  {
   "cell_type": "code",
   "execution_count": null,
   "metadata": {},
   "outputs": [],
   "source": [
    "# пример работы обработчика исключений\n",
    "for x in [0, 1, 'text']:\n",
    "    try:\n",
    "        print('Блок кода для переменной –> ', x)\n",
    "        res = 1 / x\n",
    "\n",
    "    except ZeroDivisionError:\n",
    "        print('Ошибка деления на 0')\n",
    "\n",
    "    except TypeError:\n",
    "        print('Неправильный тип')\n",
    "\n",
    "    except Exception:\n",
    "        print('Возникала какая-то ошибка')\n",
    "\n",
    "    else:\n",
    "        print('Блок отработан без ошибок!')\n",
    "\n",
    "    finally:\n",
    "        print('Этот Блок печатается в любом случае….')"
   ]
  },
  {
   "cell_type": "markdown",
   "metadata": {},
   "source": [
    "## **ПРОЧЕЕ**"
   ]
  },
  {
   "cell_type": "markdown",
   "metadata": {},
   "source": [
    "### **Продвинутая сортировка**"
   ]
  },
  {
   "cell_type": "code",
   "execution_count": null,
   "metadata": {},
   "outputs": [],
   "source": [
    "# список кортежей \"слово-частотность\" \n",
    "freq_phrase = [('купить', 77), ('скачать', 120),('автомобиль', 20),('москва', 16),('доставка', 0)]"
   ]
  },
  {
   "cell_type": "code",
   "execution_count": null,
   "metadata": {},
   "outputs": [],
   "source": [
    "freq_phrase.sort(key = lambda x: x[1])\n",
    "print(freq_phrase, '<- сортировка по частотности (возрастание)')"
   ]
  },
  {
   "cell_type": "code",
   "execution_count": null,
   "metadata": {},
   "outputs": [],
   "source": [
    "#lambda перебирает элементы внутри принаятого кортежа (ключ:Значение)\n",
    "freq_phrase.sort(key = lambda x: x[1], reverse = True)\n",
    "print(freq_phrase, '<- сортировка по частотности (убывание)')"
   ]
  },
  {
   "cell_type": "code",
   "execution_count": null,
   "metadata": {},
   "outputs": [],
   "source": [
    "freq_phrase.sort(key = lambda x: len(x[0]), reverse = True)\n",
    "print(freq_phrase, '<- сортировка длине слова (убывание)')"
   ]
  },
  {
   "cell_type": "markdown",
   "metadata": {},
   "source": [
    "### **Получение случайных чисел**"
   ]
  },
  {
   "cell_type": "code",
   "execution_count": null,
   "metadata": {},
   "outputs": [],
   "source": [
    "import random as r\n",
    "\n",
    "print(r.randint(0, 10), '<- случайное число в диапазоне 0 – 10')\n",
    "print(r.choice([1,2,3]), '<- случайный элемент из последовательности')\n",
    "print(r.random(), '<- случайное число от 0 до 1')"
   ]
  },
  {
   "cell_type": "markdown",
   "metadata": {},
   "source": [
    "### **Генераторы и итераторы**"
   ]
  },
  {
   "cell_type": "code",
   "execution_count": null,
   "metadata": {},
   "outputs": [],
   "source": [
    "# генератор\n",
    "x = [x for x in range(0,100,5)]\n",
    "print(x, '<- сгенерированный список от 0 до 100 с шагом 5')"
   ]
  },
  {
   "cell_type": "markdown",
   "metadata": {},
   "source": [
    "Но при работе с большими последовательностями использование генераторов может быть неприемлемой из-за объемов занимаемой памяти.\n",
    "В этом случае целесообразнее использовать объект – **итератор**. \n",
    "\n",
    "Итератор создается простой конструкцией def, но вместо return (вернуть) используется ключевое слово **yield** (отдать). Итератор отдаёт интерпретатору сгенерированный кодом объект на КАЖДОЙ итерации."
   ]
  },
  {
   "cell_type": "code",
   "execution_count": null,
   "metadata": {},
   "outputs": [],
   "source": [
    "# пример простого итератора\n",
    "def my_generator():\n",
    "    for x in range(5):\n",
    "        yield x * 2\n",
    "        \n",
    "# переберем элементы my_generator() через цикл for\n",
    "for i in my_generator():\n",
    "    print(i)"
   ]
  },
  {
   "cell_type": "markdown",
   "metadata": {},
   "source": [
    "### **Функциональное программирование**"
   ]
  },
  {
   "cell_type": "markdown",
   "metadata": {},
   "source": [
    "Функция **lambda** – анонимная одностроковая функция применяется в тех случаях, когда нецелесообразно писать отдельные большие функции, кроме того удобно сразу увидеть что именно она делает."
   ]
  },
  {
   "cell_type": "code",
   "execution_count": null,
   "metadata": {},
   "outputs": [],
   "source": [
    "_sqrt = lambda x: x ** (0.5)\n",
    "print(_sqrt(49), '<- пример работы lambda функции')"
   ]
  },
  {
   "cell_type": "markdown",
   "metadata": {},
   "source": [
    "Функция **map** – позволяет обработать каждый элемент последовательности отдельно, применив к нему какую либо-функцию:"
   ]
  },
  {
   "cell_type": "code",
   "execution_count": null,
   "metadata": {},
   "outputs": [],
   "source": [
    "# фукнция map()\n",
    "list1 = [x for x in range(10)]\n",
    "print(list(map(lambda x: x ** 3, list1)), '<- пример работы функции map – возведение в квадрат')\n",
    "print(list(map(str, list1)), '<- пример работы функции map – преобразование в строку')"
   ]
  },
  {
   "cell_type": "markdown",
   "metadata": {},
   "source": [
    "Функция **filter** – позволяет отфильтровать из последовательности только данные подходящие под заданное условие:"
   ]
  },
  {
   "cell_type": "code",
   "execution_count": null,
   "metadata": {},
   "outputs": [],
   "source": [
    "list1 = [x for x in range(10)]\n",
    "print(list(filter(lambda x: x % 3 == 0, list1)), '<- пример работы функции filter – фильтр остаток от деления на 3 равен 0')\n",
    "print(list(filter(lambda x: isinstance(x, int), list1)), '<- пример работы функции filter – фильтр только тип данных int')"
   ]
  },
  {
   "cell_type": "code",
   "execution_count": null,
   "metadata": {},
   "outputs": [],
   "source": [
    "list1 = ['двери дерево', 'купить ванную', 'цена на раковину', 'обои купить']\n",
    "\n",
    "print(list(filter(lambda x: 'купит' in x, list1)))"
   ]
  },
  {
   "cell_type": "markdown",
   "metadata": {},
   "source": [
    "Функция **reduce** – принимает на вход функцию и последовательность и применяет функцию элементам последовательности, возвращает единственное значение:"
   ]
  },
  {
   "cell_type": "code",
   "execution_count": null,
   "metadata": {},
   "outputs": [],
   "source": [
    "from functools import reduce\n",
    "items = [x for x in range(100)]\n",
    "print(reduce(lambda x, y: x + y, items), '<- пример работы функции reduce – сумма прогрессии')"
   ]
  },
  {
   "cell_type": "markdown",
   "metadata": {},
   "source": [
    "Функция **zip** – объединяет в кортежи элементы из последовательностей переданных в качестве аргументов."
   ]
  },
  {
   "cell_type": "code",
   "execution_count": null,
   "metadata": {},
   "outputs": [],
   "source": [
    "keywords = ['слово1', 'слово2', 'слово3']\n",
    "themes = ['тема1', 'тема2', 'тема3']\n",
    "costs = [0.1, 0.2, 0.3]\n",
    "print(list(zip(keywords, themes, costs)), '<- пример работы функции zip – \"запаковка\" в кортежи')"
   ]
  },
  {
   "cell_type": "markdown",
   "metadata": {},
   "source": [
    "Функция **enumerate** –  возвращает итератор в виде кортежа из номера (индекса) и соответствующего члена последовательности."
   ]
  },
  {
   "cell_type": "code",
   "execution_count": null,
   "metadata": {},
   "outputs": [],
   "source": [
    "keywords = ['слово1', 'слово2', 'слово3']\n",
    "for i, kw in enumerate(keywords):\n",
    "    print(i, kw, '<- пример работы функции enumerate – индекс элемента, элемент последовательности')"
   ]
  },
  {
   "cell_type": "markdown",
   "metadata": {},
   "source": [
    "# Теория все..."
   ]
  }
 ],
 "metadata": {
  "kernelspec": {
   "display_name": "Python 3",
   "language": "python",
   "name": "python3"
  },
  "language_info": {
   "codemirror_mode": {
    "name": "ipython",
    "version": 3
   },
   "file_extension": ".py",
   "mimetype": "text/x-python",
   "name": "python",
   "nbconvert_exporter": "python",
   "pygments_lexer": "ipython3",
   "version": "3.6.8"
  }
 },
 "nbformat": 4,
 "nbformat_minor": 2
}
