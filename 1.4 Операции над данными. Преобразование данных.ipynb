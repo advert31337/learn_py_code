{
 "cells": [
  {
   "cell_type": "markdown",
   "metadata": {},
   "source": [
    "### Операции над строками"
   ]
  },
  {
   "cell_type": "code",
   "execution_count": null,
   "metadata": {},
   "outputs": [],
   "source": [
    "# посмотрим как работают некоторые функции\n",
    "str1 = 'купить iphone 7'\n",
    "str2 = 'sum41'\n",
    "str3 = 'купитьiphone'\n",
    "\n",
    "print(str1.count('iphone'), '<- подсчитываем количество строки iphone')\n",
    "print(str2.isalnum(), '<- строка только буквы (кроме пробела) или цифры')\n",
    "print(str3.isalpha(), '<- строка только буквы (кроме пробела)')\n",
    "print(str1.title(), '<- все слова с большой буквы (капитализация)')\n",
    "print(str1.upper(), '<- все слова в верхнем регистре')\n",
    "print(str1.lower(), '<- все слова в нижнем регистре')"
   ]
  },
  {
   "cell_type": "markdown",
   "metadata": {},
   "source": [
    "Получить справку"
   ]
  },
  {
   "cell_type": "code",
   "execution_count": null,
   "metadata": {},
   "outputs": [],
   "source": [
    "# выведем строку с описанием строкового метода title()\n",
    "str1 = 'где слон'\n",
    "print(str1.title().__doc__)\n",
    "print(help(str1.title()))"
   ]
  },
  {
   "cell_type": "markdown",
   "metadata": {},
   "source": [
    "Форматирование"
   ]
  },
  {
   "cell_type": "code",
   "execution_count": null,
   "metadata": {},
   "outputs": [],
   "source": [
    "# примеры работы функции format\n",
    "print('купить {}'.format('iphone'), \n",
    "      '<- пример работы функции format()')\n",
    "\n",
    "print('{} {} {}'.format('купить', 'iphone', '128GB'), \n",
    "      '<- пример работы функции format()')\n",
    "\n",
    "print('{2} {1} {0}'.format('128GB', 'iphone', 'купить'), \n",
    "      '<- пример работы функции format() обращение по индексу')\n",
    "\n",
    "print('{verb} {mark} {mem}'.format(mem='128GB', mark='iphone', verb='купить'), \n",
    "      '<- пример работы функции format() обращение по имени')\n",
    "\n",
    "print('int: {0:d};  hex: {0:x};  oct: {0:o};  bin: {0:b}'.format(99),\n",
    "      '<- пример представления числа различных системах (десятичная, бинарная и т.д.)')\n",
    "\n",
    "print('{0:f} {0:.2f} {0:.3f} {0:.3%}'.format(99,99),\n",
    "      '<- примеры форматирования численных знчений')"
   ]
  },
  {
   "cell_type": "markdown",
   "metadata": {},
   "source": [
    "Кодировка"
   ]
  },
  {
   "cell_type": "code",
   "execution_count": null,
   "metadata": {},
   "outputs": [],
   "source": [
    "# работа с кодировкой, исходная строка в utf-8\n",
    "str1 = 'купить iphone в москве'\n",
    "str_b = str1.encode('utf-8')\n",
    "\n",
    "print(str_b, '<- байтовай строка')\n",
    "print(str_b.decode('utf-8'), '<- строка декодированная в utf-8')\n",
    "print(str_b.decode('cp866'), '<- строка декодированная в cp866')\n",
    "print(str_b.decode('cp1251'), '<- строка декодированная в cp1251\\n')\n",
    "\n",
    "# работа с кодировкой, исходная строка в cp1251\n",
    "str2 = 'РєСѓРїРёС‚СЊ iphone РІ РјРѕСЃРєРІРµ'\n",
    "str_b = str2.encode('cp1251')\n",
    "\n",
    "print(str_b, '<- байтовай строка')\n",
    "print(str_b.decode('utf-8'), '<- строка декодированная в utf-8')\n",
    "print(str_b.decode('cp866'), '<- строка декодированная в cp866')\n",
    "print(str_b.decode('cp1251'), '<- строка декодированная в cp1251\\n')"
   ]
  },
  {
   "cell_type": "markdown",
   "metadata": {},
   "source": [
    "Спецсимволы в строках"
   ]
  },
  {
   "cell_type": "code",
   "execution_count": null,
   "metadata": {},
   "outputs": [],
   "source": [
    "# примеры работы со строками\n",
    "s1 = 'dddd\\nsdaf'\n",
    "print(s1, '<- неэкранированная строка')\n",
    "\n",
    "s2 = 'dddd\\\\nsdaf'\n",
    "print(s2, '<- экранированная строка')\n",
    "\n",
    "s3 = r'dddd\\\\nsdaf'\n",
    "print(s3, '<- сырая (raw) строка')\n",
    "\n",
    "s4 = \"\"\"dddd\n",
    "sdaf'\"\"\"\n",
    "print(s4, '<- строка в тройных кавычках')"
   ]
  },
  {
   "cell_type": "markdown",
   "metadata": {},
   "source": [
    "Регулярные выражения"
   ]
  },
  {
   "cell_type": "code",
   "execution_count": null,
   "metadata": {},
   "outputs": [],
   "source": [
    "import re\n",
    "# поиск одной строки в другой\n",
    "s = re.search('iphone', 'купить iphone недорого')\n",
    "print(str(s), '<- результат функции re.search')\n",
    "\n",
    "# поиск всех вхождений шаблона в другой строке\n",
    "s = re.findall('куп', 'купил купили купила iphone')\n",
    "print(s, '<- результат функции re.findall')\n",
    "\n",
    "# \"разрезание\" текстовой строки по заданному разделителю\n",
    "s = re.split('p', 'iphone')\n",
    "print(s, '<- результат функции re.split')\n",
    "\n",
    "# подмена одного значения в строке на другой\n",
    "s = re.sub('iphone', 'xiaomi', 'купить iphone недого')\n",
    "print(s, '<- результат функции re.sub')"
   ]
  },
  {
   "cell_type": "markdown",
   "metadata": {},
   "source": [
    "### **Операции над числами**"
   ]
  },
  {
   "cell_type": "code",
   "execution_count": null,
   "metadata": {},
   "outputs": [],
   "source": [
    "a = 2\n",
    "b = 3\n",
    "print(a + b, '<- операция сложения')\n",
    "print(a - b, '<- операция вычитания')\n",
    "print(a * b, '<- операция умножения')\n",
    "print(a ** b, '<- операция возведения в степень')\n",
    "print(a / b, '<- операция деления')\n",
    "print(a // b, '<- операция получения целого от деления')\n",
    "print(a % b, '<- операция получения остатка от деления')"
   ]
  },
  {
   "cell_type": "markdown",
   "metadata": {},
   "source": [
    "Преобразования типов"
   ]
  },
  {
   "cell_type": "code",
   "execution_count": null,
   "metadata": {},
   "outputs": [],
   "source": [
    "# примеры операций над числами\n",
    "a = -9\n",
    "b = 3\n",
    "print(abs(a), '<- модуль числа')\n",
    "print(float(a), '<- преобразование во float')\n",
    "print(complex(b), '<- получение комплексного числа')\n",
    "print(oct(b), '<- преобразования числа в восьмеричную систему')"
   ]
  },
  {
   "cell_type": "markdown",
   "metadata": {},
   "source": [
    "### **Операции над последовательностями**"
   ]
  },
  {
   "cell_type": "code",
   "execution_count": null,
   "metadata": {},
   "outputs": [],
   "source": [
    "# операция посика\n",
    "set1 = {1,2,3}\n",
    "print(4 in set1, '<- поиск в множестве')\n",
    "\n",
    "# длина последовательности\n",
    "set1 = {1,2,3}\n",
    "print(len(set1), '<- длина последовательности')\n",
    "\n",
    "# максимальный элемент\n",
    "list1 = [4, 8, 2, 0, -4, 6]\n",
    "print(max(list1), '<- максимальный элемент')\n",
    "\n",
    "# минимальный элемент\n",
    "list1 = [4, 8, 2, 0, -4, 6]\n",
    "print(min(list1), '<- минимальный элемент')\n",
    "\n",
    "# срез 3-х элментов\n",
    "list1 = [4, 8, 2, 0, -4, 6]\n",
    "print(list1[:3], '<- срез 3-х элементов')"
   ]
  },
  {
   "cell_type": "markdown",
   "metadata": {},
   "source": [
    "join()"
   ]
  },
  {
   "cell_type": "code",
   "execution_count": null,
   "metadata": {},
   "outputs": [],
   "source": [
    "# функция map\n",
    "s = 'купить квартиру недорого'\n",
    "# если вы не очень понимаете этот код это нормально\n",
    "res = ' '.join(map(lambda x: '+' + x, s.split()))\n",
    "print(res)"
   ]
  },
  {
   "cell_type": "markdown",
   "metadata": {},
   "source": [
    "zip()"
   ]
  },
  {
   "cell_type": "code",
   "execution_count": null,
   "metadata": {},
   "outputs": [],
   "source": [
    "prices = ('550 $', '300 $', '200 $')\n",
    "models = ('iPhone', 'Samsung', 'Xiaomi')\n",
    "# свяжем цены с моделями (индексы совпадают)\n",
    "res = zip(models, prices)\n",
    "print(list(res))"
   ]
  },
  {
   "cell_type": "markdown",
   "metadata": {},
   "source": [
    "Зарезервырованные слова, которые нельзя использовать при именовании переменной"
   ]
  },
  {
   "cell_type": "code",
   "execution_count": null,
   "metadata": {},
   "outputs": [],
   "source": [
    "# импортируем модуль keywords и при помощи метода kwlist выведем зарезервированные слова\n",
    "import keyword\n",
    "print(keyword.kwlist)\n",
    "print(len(keyword.kwlist))"
   ]
  }
 ],
 "metadata": {
  "kernelspec": {
   "display_name": "Python 3",
   "language": "python",
   "name": "python3"
  },
  "language_info": {
   "codemirror_mode": {
    "name": "ipython",
    "version": 3
   },
   "file_extension": ".py",
   "mimetype": "text/x-python",
   "name": "python",
   "nbconvert_exporter": "python",
   "pygments_lexer": "ipython3",
   "version": "3.6.8"
  }
 },
 "nbformat": 4,
 "nbformat_minor": 2
}
